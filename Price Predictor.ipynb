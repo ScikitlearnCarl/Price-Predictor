{
 "cells": [
  {
   "cell_type": "markdown",
   "metadata": {},
   "source": [
    "Project description\n",
    "\n",
    "There is an agency helping the customers purchase XoX (a made-up product) from various makers. Price is one of the most important things that the agency cares about. Need to estimate the price of a XoX before recommending it to the customers. However, the estimations vary significantly with the employees' experience.\n",
    "\n",
    "I am building a machine learning model to accurately predict the price for a future purchase and provide insights to help us explain the predicted price to our customers."
   ]
  },
  {
   "cell_type": "markdown",
   "metadata": {},
   "source": [
    "# 1.Exploratory data analysis (EDA)"
   ]
  },
  {
   "cell_type": "markdown",
   "metadata": {},
   "source": [
    "Feature Columns, Missing values, Target Label, Shape, Distribution, Skewness."
   ]
  },
  {
   "cell_type": "code",
   "execution_count": 78,
   "metadata": {},
   "outputs": [],
   "source": [
    "import pandas as pd\n",
    "import numpy as np\n",
    "%matplotlib inline\n",
    "from sklearn.impute import SimpleImputer\n",
    "from xgboost.sklearn import XGBRegressor\n",
    "from sklearn.linear_model import LogisticRegression\n",
    "from statsmodels.stats.outliers_influence import variance_inflation_factor\n",
    "import statsmodels.api as sm\n",
    "import warnings\n",
    "warnings.filterwarnings('ignore')\n",
    "from sklearn.feature_extraction.text import CountVectorizer,TfidfVectorizer\n",
    "from sklearn.preprocessing import OrdinalEncoder,OneHotEncoder\n",
    "from sklearn.compose import make_column_transformer,ColumnTransformer\n",
    "import category_encoders\n",
    "import phik\n",
    "from phik import resources, report\n",
    "from sklearn.ensemble import RandomForestRegressor\n",
    "from sklearn.pipeline import Pipeline\n",
    "from sklearn.metrics import mean_absolute_error, mean_squared_error, r2_score\n",
    "from sklearn.model_selection import KFold\n",
    "from sklearn.model_selection import GridSearchCV\n",
    "from sklearn.metrics import make_scorer\n",
    "import matplotlib.pyplot as plt\n",
    "\n",
    "df = pd.read_csv('sales.csv')\n",
    "df.dropna(subset=['price'], inplace=True)"
   ]
  },
  {
   "cell_type": "code",
   "execution_count": 79,
   "metadata": {},
   "outputs": [
    {
     "data": {
      "text/html": [
       "<div>\n",
       "<style scoped>\n",
       "    .dataframe tbody tr th:only-of-type {\n",
       "        vertical-align: middle;\n",
       "    }\n",
       "\n",
       "    .dataframe tbody tr th {\n",
       "        vertical-align: top;\n",
       "    }\n",
       "\n",
       "    .dataframe thead th {\n",
       "        text-align: right;\n",
       "    }\n",
       "</style>\n",
       "<table border=\"1\" class=\"dataframe\">\n",
       "  <thead>\n",
       "    <tr style=\"text-align: right;\">\n",
       "      <th></th>\n",
       "      <th>cost</th>\n",
       "      <th>price</th>\n",
       "      <th>weight</th>\n",
       "      <th>purchase_date</th>\n",
       "      <th>product_type</th>\n",
       "      <th>product_level</th>\n",
       "      <th>maker</th>\n",
       "      <th>ingredient</th>\n",
       "      <th>height</th>\n",
       "      <th>width</th>\n",
       "      <th>depth</th>\n",
       "    </tr>\n",
       "  </thead>\n",
       "  <tbody>\n",
       "    <tr>\n",
       "      <th>0</th>\n",
       "      <td>$333k</td>\n",
       "      <td>$300,492</td>\n",
       "      <td>3 Ton 90 Kg</td>\n",
       "      <td>Dec 19 2008</td>\n",
       "      <td>Q,B</td>\n",
       "      <td>advanced</td>\n",
       "      <td>M14122</td>\n",
       "      <td>IN732052,IN732053</td>\n",
       "      <td>2.76 meters</td>\n",
       "      <td>97 cm</td>\n",
       "      <td>26 cm</td>\n",
       "    </tr>\n",
       "    <tr>\n",
       "      <th>1</th>\n",
       "      <td>NaN</td>\n",
       "      <td>$430,570</td>\n",
       "      <td>3 Ton 30 Kg</td>\n",
       "      <td>Sep 10 1997</td>\n",
       "      <td>J,D</td>\n",
       "      <td>basic</td>\n",
       "      <td>NaN</td>\n",
       "      <td>IN732054,IN732055,IN732056,IN732057,IN732058</td>\n",
       "      <td>2.67 meters</td>\n",
       "      <td>98 cm</td>\n",
       "      <td>26 cm</td>\n",
       "    </tr>\n",
       "    <tr>\n",
       "      <th>2</th>\n",
       "      <td>$270k</td>\n",
       "      <td>$213,070</td>\n",
       "      <td>3 Ton 40 Kg</td>\n",
       "      <td>Sep 05 2001</td>\n",
       "      <td>J,D</td>\n",
       "      <td>basic</td>\n",
       "      <td>NaN</td>\n",
       "      <td>IN732054,IN732059,IN732060</td>\n",
       "      <td>3.0 meters</td>\n",
       "      <td>93 cm</td>\n",
       "      <td>24 cm</td>\n",
       "    </tr>\n",
       "    <tr>\n",
       "      <th>3</th>\n",
       "      <td>NaN</td>\n",
       "      <td>$229,174</td>\n",
       "      <td>3 Ton 50 Kg</td>\n",
       "      <td>Dec 23 2016</td>\n",
       "      <td>U</td>\n",
       "      <td>advanced</td>\n",
       "      <td>M14123</td>\n",
       "      <td>IN732061,IN732062,IN732063</td>\n",
       "      <td>2.5 meters</td>\n",
       "      <td>102 cm</td>\n",
       "      <td>27 cm</td>\n",
       "    </tr>\n",
       "    <tr>\n",
       "      <th>4</th>\n",
       "      <td>$97k</td>\n",
       "      <td>$122,659</td>\n",
       "      <td>2 Ton 970 Kg</td>\n",
       "      <td>Jan 12 2000</td>\n",
       "      <td>D,R</td>\n",
       "      <td>advanced</td>\n",
       "      <td>NaN</td>\n",
       "      <td>IN732064,IN732065,IN732066</td>\n",
       "      <td>2.47 meters</td>\n",
       "      <td>101 cm</td>\n",
       "      <td>26 cm</td>\n",
       "    </tr>\n",
       "  </tbody>\n",
       "</table>\n",
       "</div>"
      ],
      "text/plain": [
       "    cost     price        weight purchase_date product_type product_level  \\\n",
       "0  $333k  $300,492   3 Ton 90 Kg   Dec 19 2008          Q,B      advanced   \n",
       "1    NaN  $430,570   3 Ton 30 Kg   Sep 10 1997          J,D         basic   \n",
       "2  $270k  $213,070   3 Ton 40 Kg   Sep 05 2001          J,D         basic   \n",
       "3    NaN  $229,174   3 Ton 50 Kg   Dec 23 2016            U      advanced   \n",
       "4   $97k  $122,659  2 Ton 970 Kg   Jan 12 2000          D,R      advanced   \n",
       "\n",
       "    maker                                    ingredient       height   width  \\\n",
       "0  M14122                             IN732052,IN732053  2.76 meters   97 cm   \n",
       "1     NaN  IN732054,IN732055,IN732056,IN732057,IN732058  2.67 meters   98 cm   \n",
       "2     NaN                    IN732054,IN732059,IN732060   3.0 meters   93 cm   \n",
       "3  M14123                    IN732061,IN732062,IN732063   2.5 meters  102 cm   \n",
       "4     NaN                    IN732064,IN732065,IN732066  2.47 meters  101 cm   \n",
       "\n",
       "   depth  \n",
       "0  26 cm  \n",
       "1  26 cm  \n",
       "2  24 cm  \n",
       "3  27 cm  \n",
       "4  26 cm  "
      ]
     },
     "execution_count": 79,
     "metadata": {},
     "output_type": "execute_result"
    }
   ],
   "source": [
    "#Have a glance at the data\n",
    "df.head()"
   ]
  },
  {
   "cell_type": "code",
   "execution_count": 80,
   "metadata": {},
   "outputs": [
    {
     "data": {
      "text/plain": [
       "Index(['cost', 'price', 'weight', 'purchase_date', 'product_type',\n",
       "       'product_level', 'maker', 'ingredient', 'height', 'width', 'depth'],\n",
       "      dtype='object')"
      ]
     },
     "execution_count": 80,
     "metadata": {},
     "output_type": "execute_result"
    }
   ],
   "source": [
    "#Get names of columns\n",
    "df.columns"
   ]
  },
  {
   "cell_type": "code",
   "execution_count": 81,
   "metadata": {},
   "outputs": [
    {
     "data": {
      "text/plain": [
       "(3186, 11)"
      ]
     },
     "execution_count": 81,
     "metadata": {},
     "output_type": "execute_result"
    }
   ],
   "source": [
    "#Get the number of rows and number of columns.\n",
    "df.shape "
   ]
  },
  {
   "cell_type": "code",
   "execution_count": 82,
   "metadata": {},
   "outputs": [
    {
     "name": "stdout",
     "output_type": "stream",
     "text": [
      "<class 'pandas.core.frame.DataFrame'>\n",
      "Int64Index: 3186 entries, 0 to 3196\n",
      "Data columns (total 11 columns):\n",
      " #   Column         Non-Null Count  Dtype \n",
      "---  ------         --------------  ----- \n",
      " 0   cost           2211 non-null   object\n",
      " 1   price          3186 non-null   object\n",
      " 2   weight         3183 non-null   object\n",
      " 3   purchase_date  3186 non-null   object\n",
      " 4   product_type   3186 non-null   object\n",
      " 5   product_level  3186 non-null   object\n",
      " 6   maker          2365 non-null   object\n",
      " 7   ingredient     2932 non-null   object\n",
      " 8   height         3186 non-null   object\n",
      " 9   width          3183 non-null   object\n",
      " 10  depth          3183 non-null   object\n",
      "dtypes: object(11)\n",
      "memory usage: 298.7+ KB\n"
     ]
    }
   ],
   "source": [
    "#Overview of the data frame\n",
    "df.info()"
   ]
  },
  {
   "cell_type": "code",
   "execution_count": 83,
   "metadata": {},
   "outputs": [
    {
     "data": {
      "text/html": [
       "<div>\n",
       "<style scoped>\n",
       "    .dataframe tbody tr th:only-of-type {\n",
       "        vertical-align: middle;\n",
       "    }\n",
       "\n",
       "    .dataframe tbody tr th {\n",
       "        vertical-align: top;\n",
       "    }\n",
       "\n",
       "    .dataframe thead th {\n",
       "        text-align: right;\n",
       "    }\n",
       "</style>\n",
       "<table border=\"1\" class=\"dataframe\">\n",
       "  <thead>\n",
       "    <tr style=\"text-align: right;\">\n",
       "      <th></th>\n",
       "      <th>cost</th>\n",
       "      <th>price</th>\n",
       "      <th>weight</th>\n",
       "      <th>purchase_date</th>\n",
       "      <th>product_type</th>\n",
       "      <th>product_level</th>\n",
       "      <th>maker</th>\n",
       "      <th>ingredient</th>\n",
       "      <th>height</th>\n",
       "      <th>width</th>\n",
       "      <th>depth</th>\n",
       "    </tr>\n",
       "  </thead>\n",
       "  <tbody>\n",
       "    <tr>\n",
       "      <th>count</th>\n",
       "      <td>2211</td>\n",
       "      <td>3186</td>\n",
       "      <td>3183</td>\n",
       "      <td>3186</td>\n",
       "      <td>3186</td>\n",
       "      <td>3186</td>\n",
       "      <td>2365</td>\n",
       "      <td>2932</td>\n",
       "      <td>3186</td>\n",
       "      <td>3183</td>\n",
       "      <td>3183</td>\n",
       "    </tr>\n",
       "    <tr>\n",
       "      <th>unique</th>\n",
       "      <td>185</td>\n",
       "      <td>3157</td>\n",
       "      <td>119</td>\n",
       "      <td>1277</td>\n",
       "      <td>64</td>\n",
       "      <td>5</td>\n",
       "      <td>879</td>\n",
       "      <td>2824</td>\n",
       "      <td>161</td>\n",
       "      <td>41</td>\n",
       "      <td>13</td>\n",
       "    </tr>\n",
       "    <tr>\n",
       "      <th>top</th>\n",
       "      <td>$66k</td>\n",
       "      <td>$20,061</td>\n",
       "      <td>2 Ton 950 Kg</td>\n",
       "      <td>Oct 05 2001</td>\n",
       "      <td>D</td>\n",
       "      <td>advanced</td>\n",
       "      <td>M14196</td>\n",
       "      <td>IN732638</td>\n",
       "      <td>2.54 meters</td>\n",
       "      <td>99 cm</td>\n",
       "      <td>26 cm</td>\n",
       "    </tr>\n",
       "    <tr>\n",
       "      <th>freq</th>\n",
       "      <td>104</td>\n",
       "      <td>2</td>\n",
       "      <td>126</td>\n",
       "      <td>8</td>\n",
       "      <td>485</td>\n",
       "      <td>1320</td>\n",
       "      <td>17</td>\n",
       "      <td>8</td>\n",
       "      <td>63</td>\n",
       "      <td>268</td>\n",
       "      <td>899</td>\n",
       "    </tr>\n",
       "  </tbody>\n",
       "</table>\n",
       "</div>"
      ],
      "text/plain": [
       "        cost    price        weight purchase_date product_type product_level  \\\n",
       "count   2211     3186          3183          3186         3186          3186   \n",
       "unique   185     3157           119          1277           64             5   \n",
       "top     $66k  $20,061  2 Ton 950 Kg   Oct 05 2001            D      advanced   \n",
       "freq     104        2           126             8          485          1320   \n",
       "\n",
       "         maker ingredient       height  width  depth  \n",
       "count     2365       2932         3186   3183   3183  \n",
       "unique     879       2824          161     41     13  \n",
       "top     M14196   IN732638  2.54 meters  99 cm  26 cm  \n",
       "freq        17          8           63    268    899  "
      ]
     },
     "execution_count": 83,
     "metadata": {},
     "output_type": "execute_result"
    }
   ],
   "source": [
    "'''\n",
    "count: It indicates the number of valid (non-missing) values present in the column.\n",
    "top: It shows the value that occurs most frequently in the column.\n",
    "unique: It indicates the count of different values present in the column.\n",
    "freq: It shows how many times the most frequent value occurs in the column.\n",
    "'''\n",
    "df.describe()"
   ]
  },
  {
   "cell_type": "markdown",
   "metadata": {},
   "source": [
    "From above, we can see that: cost, maker, and ingredient have many missing values. Price has the most unique values, \n",
    "and product only includes 5 levels. "
   ]
  },
  {
   "cell_type": "markdown",
   "metadata": {},
   "source": [
    "Extract numerical features(cost, price, weight, height, width, and depth)"
   ]
  },
  {
   "cell_type": "code",
   "execution_count": 84,
   "metadata": {},
   "outputs": [],
   "source": [
    "def cost2num(x):\n",
    "\n",
    "    if type(x) == str: \n",
    "        x = x.strip('$').strip('k')\n",
    "    return float(x)*1000\n",
    "\n",
    "def price2num(x):\n",
    "    \n",
    "    if type(x) == str: \n",
    "        x = x.strip('$').replace(',', '')\n",
    "    return float(x)\n",
    "\n",
    "def weight2num(x):\n",
    "    if type(x) == str:\n",
    "        x = x.strip('Kg').strip().split(' Ton ')\n",
    "        return float(x[0])*1000+float(x[1])\n",
    "    else:\n",
    "        return x\n",
    "    \n",
    "def height2num(x):\n",
    "    if type(x) == str:\n",
    "        x = x.strip('meters').strip()\n",
    "        return float(x)*100\n",
    "    else:\n",
    "        return x        \n",
    "\n",
    "def width2num(x):\n",
    "    if type(x) == str:\n",
    "        x = x.strip('cm').strip()\n",
    "        return float(x)\n",
    "    else:\n",
    "        return x   \n",
    "\n",
    "def depth2num(x):\n",
    "    if type(x) == str:\n",
    "        x = x.strip('cm').strip()\n",
    "        return float(x)\n",
    "    else:\n",
    "        return x "
   ]
  },
  {
   "cell_type": "code",
   "execution_count": 85,
   "metadata": {},
   "outputs": [],
   "source": [
    "cost = df.cost.map(cost2num) #Assign the new Series to a variable\n",
    "df['cost_num'] = df.cost.map(cost2num) #transform cost data and assign and create a new column 'cost_num' to the new data frame"
   ]
  },
  {
   "cell_type": "code",
   "execution_count": 86,
   "metadata": {},
   "outputs": [],
   "source": [
    "price = df.price.map(price2num) \n",
    "df['price_num'] = df.price.map(price2num)\n",
    "weight = df.weight.map(weight2num) \n",
    "df['weight_num'] = df.weight.map(weight2num)\n",
    "height = df.height.map(height2num) \n",
    "df['height_num'] = df.height.map(height2num)\n",
    "width = df.width.map(width2num) \n",
    "df['width_num'] = df.width.map(width2num)\n",
    "depth = df.depth.map(depth2num) \n",
    "df['depth_num'] = df.depth.map(depth2num)"
   ]
  },
  {
   "cell_type": "markdown",
   "metadata": {},
   "source": [
    "When it comes to transforming categorical data into numerical data and performing feature engineering, using a DataFrame is generally more suitable than a Series.(pros: 1.Working with Multiple Variables; 2.Combining data from different sources or merging multiple datasets; 3.Easy Access and Indexing; 4.Integration with Libraries)"
   ]
  },
  {
   "cell_type": "markdown",
   "metadata": {},
   "source": [
    "Data Visualization"
   ]
  },
  {
   "cell_type": "code",
   "execution_count": 87,
   "metadata": {},
   "outputs": [
    {
     "data": {
      "text/plain": [
       "<AxesSubplot:ylabel='Frequency'>"
      ]
     },
     "execution_count": 87,
     "metadata": {},
     "output_type": "execute_result"
    },
    {
     "data": {
      "image/png": "[encoded data removed]",
      "text/plain": [
       "<Figure size 640x480 with 1 Axes>"
      ]
     },
     "metadata": {},
     "output_type": "display_data"
    }
   ],
   "source": [
    "\n",
    "#data visualization\n",
    "df.cost_num.plot(kind='hist', bins=30)\n",
    "# plotting a histogram "
   ]
  },
  {
   "cell_type": "code",
   "execution_count": 88,
   "metadata": {},
   "outputs": [
    {
     "data": {
      "text/plain": [
       "<AxesSubplot:ylabel='Frequency'>"
      ]
     },
     "execution_count": 88,
     "metadata": {},
     "output_type": "execute_result"
    },
    {
     "data": {
      "image/png": "[encoded data removed]",
      "text/plain": [
       "<Figure size 640x480 with 1 Axes>"
      ]
     },
     "metadata": {},
     "output_type": "display_data"
    }
   ],
   "source": [
    "df.price_num.plot(kind='hist', bins=30)"
   ]
  },
  {
   "cell_type": "code",
   "execution_count": 89,
   "metadata": {},
   "outputs": [
    {
     "data": {
      "text/plain": [
       "<AxesSubplot:ylabel='Frequency'>"
      ]
     },
     "execution_count": 89,
     "metadata": {},
     "output_type": "execute_result"
    },
    {
     "data": {
      "image/png": "[encoded data removed]",
      "text/plain": [
       "<Figure size 640x480 with 1 Axes>"
      ]
     },
     "metadata": {},
     "output_type": "display_data"
    }
   ],
   "source": [
    "df.weight_num.plot(kind='hist', bins=30)"
   ]
  },
  {
   "cell_type": "code",
   "execution_count": 90,
   "metadata": {},
   "outputs": [
    {
     "data": {
      "text/plain": [
       "<AxesSubplot:ylabel='Frequency'>"
      ]
     },
     "execution_count": 90,
     "metadata": {},
     "output_type": "execute_result"
    },
    {
     "data": {
      "image/png": "[encoded data removed]",
      "text/plain": [
       "<Figure size 640x480 with 1 Axes>"
      ]
     },
     "metadata": {},
     "output_type": "display_data"
    }
   ],
   "source": [
    "df.height_num.plot(kind='hist', bins=30)"
   ]
  },
  {
   "cell_type": "code",
   "execution_count": 91,
   "metadata": {},
   "outputs": [
    {
     "data": {
      "text/plain": [
       "<AxesSubplot:ylabel='Frequency'>"
      ]
     },
     "execution_count": 91,
     "metadata": {},
     "output_type": "execute_result"
    },
    {
     "data": {
      "image/png": "[encoded data removed]",
      "text/plain": [
       "<Figure size 640x480 with 1 Axes>"
      ]
     },
     "metadata": {},
     "output_type": "display_data"
    }
   ],
   "source": [
    "df.width_num.plot(kind='hist', bins=30)"
   ]
  },
  {
   "cell_type": "code",
   "execution_count": 92,
   "metadata": {},
   "outputs": [
    {
     "data": {
      "text/plain": [
       "<AxesSubplot:ylabel='Frequency'>"
      ]
     },
     "execution_count": 92,
     "metadata": {},
     "output_type": "execute_result"
    },
    {
     "data": {
      "image/png": "[encoded data removed]",
      "text/plain": [
       "<Figure size 640x480 with 1 Axes>"
      ]
     },
     "metadata": {},
     "output_type": "display_data"
    }
   ],
   "source": [
    "df.depth_num.plot(kind='hist', bins=30)"
   ]
  },
  {
   "cell_type": "markdown",
   "metadata": {},
   "source": [
    "For categorical values, get value counts.(product_type,product_level,maker, and ingredient)"
   ]
  },
  {
   "cell_type": "markdown",
   "metadata": {},
   "source": [
    "Note: We are not considering purchase_date now since we will use it to split my data into training and test data."
   ]
  },
  {
   "cell_type": "code",
   "execution_count": 93,
   "metadata": {},
   "outputs": [
    {
     "data": {
      "text/plain": [
       "array(['Q,B', 'J,D', 'U', 'D,R', 'H', 'S', 'B,A', 'K,D', 'N', 'U,A', 'D',\n",
       "       'H,A', 'G', 'D,A', 'T,H', 'D,H', 'F', 'A', 'Q,A', 'W', 'F,D', 'R',\n",
       "       'P,H', 'C', 'Q,H', 'U,H', 'J', 'N,D', 'F,H', 'Q,D', 'V,H', 'W,D',\n",
       "       'S,N', 'N,U', 'F,U', 'P,P', 'S,A', 'U,R', 'J,B', 'I,M', 'B,D',\n",
       "       'H,M', 'S,U', 'K,H', 'S,B', 'T,D', 'F,A', 'K', 'V', 'N,A', 'B',\n",
       "       'R,V', 'E', 'U,D', 'L,A', 'L', 'K,A', 'S,D', 'Q,N', 'T,A', 'O',\n",
       "       'B,R', 'N,L', 'K,S'], dtype=object)"
      ]
     },
     "execution_count": 93,
     "metadata": {},
     "output_type": "execute_result"
    }
   ],
   "source": [
    "df.product_type.unique()"
   ]
  },
  {
   "cell_type": "code",
   "execution_count": 94,
   "metadata": {},
   "outputs": [
    {
     "data": {
      "text/plain": [
       "D      485\n",
       "H      225\n",
       "N      203\n",
       "C      201\n",
       "U      179\n",
       "D,R    166\n",
       "A      135\n",
       "J,D     96\n",
       "D,H     94\n",
       "D,A     81\n",
       "J,B     67\n",
       "B,A     66\n",
       "R       62\n",
       "U,H     59\n",
       "U,A     55\n",
       "T,H     54\n",
       "K       50\n",
       "S,A     48\n",
       "F,H     46\n",
       "P,H     44\n",
       "Name: product_type, dtype: int64"
      ]
     },
     "execution_count": 94,
     "metadata": {},
     "output_type": "execute_result"
    }
   ],
   "source": [
    "df.product_type.value_counts().head(20)"
   ]
  },
  {
   "cell_type": "code",
   "execution_count": 95,
   "metadata": {},
   "outputs": [
    {
     "data": {
      "text/plain": [
       "Others    770\n",
       "D         485\n",
       "H         225\n",
       "N         203\n",
       "C         201\n",
       "U         179\n",
       "D,R       166\n",
       "A         135\n",
       "J,D        96\n",
       "D,H        94\n",
       "D,A        81\n",
       "J,B        67\n",
       "B,A        66\n",
       "R          62\n",
       "U,H        59\n",
       "U,A        55\n",
       "T,H        54\n",
       "K          50\n",
       "S,A        48\n",
       "F,H        46\n",
       "P,H        44\n",
       "Name: product_type, dtype: int64"
      ]
     },
     "execution_count": 95,
     "metadata": {},
     "output_type": "execute_result"
    }
   ],
   "source": [
    "# Count the occurrences of each product type\n",
    "product_counts = df['product_type'].value_counts()\n",
    "\n",
    "# Define the number of product types to keep explicitly (e.g., keep top 20, wrap up the rest)\n",
    "num_to_keep = 20\n",
    "\n",
    "# Identify the product types to wrap up\n",
    "types_to_wrap = product_counts.index[num_to_keep:]\n",
    "\n",
    "# Replace the product types to be wrapped up with 'Others'\n",
    "df.loc[df['product_type'].isin(types_to_wrap), 'product_type'] = 'Others'\n",
    "\n",
    "# Count the wrapped up product types\n",
    "wrapped_counts = df['product_type'].value_counts()\n",
    "\n",
    "wrapped_counts.head(21)"
   ]
  },
  {
   "cell_type": "code",
   "execution_count": 96,
   "metadata": {},
   "outputs": [
    {
     "data": {
      "text/plain": [
       "<AxesSubplot:ylabel='product_type'>"
      ]
     },
     "execution_count": 96,
     "metadata": {},
     "output_type": "execute_result"
    },
    {
     "data": {
      "image/png": "[encoded data removed]",
      "text/plain": [
       "<Figure size 640x480 with 1 Axes>"
      ]
     },
     "metadata": {},
     "output_type": "display_data"
    }
   ],
   "source": [
    "df.product_type.value_counts().plot(kind='pie')"
   ]
  },
  {
   "cell_type": "code",
   "execution_count": 97,
   "metadata": {},
   "outputs": [
    {
     "data": {
      "text/plain": [
       "<AxesSubplot:>"
      ]
     },
     "execution_count": 97,
     "metadata": {},
     "output_type": "execute_result"
    },
    {
     "data": {
      "image/png": "[encoded data removed]",
      "text/plain": [
       "<Figure size 400x1200 with 1 Axes>"
      ]
     },
     "metadata": {},
     "output_type": "display_data"
    }
   ],
   "source": [
    "df.product_type.value_counts(ascending=True).plot(kind='barh', figsize=(4,12))"
   ]
  },
  {
   "cell_type": "code",
   "execution_count": 98,
   "metadata": {},
   "outputs": [
    {
     "data": {
      "text/plain": [
       "array(['advanced', 'basic', 'super advanced', 'intermediate', 'unrated'],\n",
       "      dtype=object)"
      ]
     },
     "execution_count": 98,
     "metadata": {},
     "output_type": "execute_result"
    }
   ],
   "source": [
    "df.product_level.unique()"
   ]
  },
  {
   "cell_type": "code",
   "execution_count": 99,
   "metadata": {},
   "outputs": [
    {
     "data": {
      "text/plain": [
       "advanced          1320\n",
       "super advanced    1222\n",
       "intermediate       532\n",
       "basic              111\n",
       "unrated              1\n",
       "Name: product_level, dtype: int64"
      ]
     },
     "execution_count": 99,
     "metadata": {},
     "output_type": "execute_result"
    }
   ],
   "source": [
    "df.product_level.value_counts()"
   ]
  },
  {
   "cell_type": "code",
   "execution_count": 100,
   "metadata": {},
   "outputs": [
    {
     "data": {
      "text/plain": [
       "<AxesSubplot:>"
      ]
     },
     "execution_count": 100,
     "metadata": {},
     "output_type": "execute_result"
    },
    {
     "data": {
      "image/png": "[encoded data removed]",
      "text/plain": [
       "<Figure size 640x480 with 1 Axes>"
      ]
     },
     "metadata": {},
     "output_type": "display_data"
    }
   ],
   "source": [
    "df.product_level.value_counts(ascending = True).plot(kind = 'barh',color = 'red')"
   ]
  },
  {
   "cell_type": "code",
   "execution_count": 101,
   "metadata": {},
   "outputs": [
    {
     "data": {
      "text/plain": [
       "array(['M14122', nan, 'M14123', 'M14124', 'M14125', 'M14126', 'M14127',\n",
       "       'M14128', 'M14129', 'M14130', 'M14131', 'M14132', 'M14133',\n",
       "       'M14134,M14135', 'M14136', 'M14137', 'M14138,M14139', 'M14140',\n",
       "       'M14141', 'M14142', 'M14143', 'M14144', 'M14145', 'M14146',\n",
       "       'M14147', 'M14148', 'M14149', 'M14150', 'M14151', 'M14152',\n",
       "       'M14153', 'M14154', 'M14155', 'M14156', 'M14157', 'M14158',\n",
       "       'M14159', 'M14160', 'M14161', 'M14162', 'M14163', 'M14164',\n",
       "       'M14165', 'M14166', 'M14167', 'M14168', 'M14169', 'M14170',\n",
       "       'M14171', 'M14172', 'M14173', 'M14174', 'M14175', 'M14176',\n",
       "       'M14177', 'M14178', 'M14179', 'M14180', 'M14181', 'M14182',\n",
       "       'M14183', 'M14184', 'M14185', 'M14186', 'M14187', 'M14188',\n",
       "       'M14189', 'M14190', 'M14191', 'M14192', 'M14193,M14194', 'M14195',\n",
       "       'M14196', 'M14197', 'M14198,M14199', 'M14200', 'M14201', 'M14202',\n",
       "       'M14194', 'M14203', 'M14204', 'M14205', 'M14206', 'M14207',\n",
       "       'M14208', 'M14209', 'M14210', 'M14211', 'M14212', 'M14213',\n",
       "       'M14214', 'M14215', 'M14216', 'M14217', 'M14218', 'M14219,M14220',\n",
       "       'M14221', 'M14222', 'M14223', 'M14224', 'M14225', 'M14226',\n",
       "       'M14227', 'M14228', 'M14229', 'M14230', 'M14231', 'M14232',\n",
       "       'M14194,M14193', 'M14233,M14234', 'M14235', 'M14236', 'M14237',\n",
       "       'M14238', 'M14239', 'M14240', 'M14241', 'M14242', 'M14243',\n",
       "       'M14244', 'M14245', 'M14246', 'M14247', 'M14248', 'M14249',\n",
       "       'M14250', 'M14251,M14252', 'M14253', 'M14254', 'M14255', 'M14256',\n",
       "       'M14257', 'M14258', 'M14259', 'M14260', 'M14261', 'M14262',\n",
       "       'M14263', 'M14264', 'M14265', 'M14266', 'M14267', 'M14268',\n",
       "       'M14269', 'M14270', 'M14271', 'M14272', 'M14273', 'M14274',\n",
       "       'M14275', 'M14276', 'M14277', 'M14278', 'M14279', 'M14280',\n",
       "       'M14281', 'M14282', 'M14283', 'M14284', 'M14285', 'M14286',\n",
       "       'M14287', 'M14288', 'M14289', 'M14290', 'M14291', 'M14292',\n",
       "       'M14293', 'M14294', 'M14295', 'M14296', 'M14297', 'M14298',\n",
       "       'M14299', 'M14300', 'M14301', 'M14302', 'M14303', 'M14304',\n",
       "       'M14305', 'M14306', 'M14307', 'M14308', 'M14309', 'M14310',\n",
       "       'M14311', 'M14312', 'M14313', 'M14314', 'M14315', 'M14316',\n",
       "       'M14317', 'M14318', 'M14319', 'M14320,M14321', 'M14322', 'M14323',\n",
       "       'M14324', 'M14325', 'M14326', 'M14327', 'M14328', 'M14329',\n",
       "       'M14330', 'M14331', 'M14332', 'M14333', 'M14334', 'M14335',\n",
       "       'M14336,M14337', 'M14338', 'M14339', 'M14340', 'M14341', 'M14342',\n",
       "       'M14343', 'M14344', 'M14321', 'M14345', 'M14346', 'M14347',\n",
       "       'M14348', 'M14349', 'M14350', 'M14351', 'M14352', 'M14353,M14354',\n",
       "       'M14355', 'M14356', 'M14357', 'M14358', 'M14359', 'M14360',\n",
       "       'M14361', 'M14362', 'M14363', 'M14364', 'M14365', 'M14366',\n",
       "       'M14367', 'M14368', 'M14369', 'M14370', 'M14371', 'M14372',\n",
       "       'M14373,M14374', 'M14375', 'M14376', 'M14377', 'M14378',\n",
       "       'M14379,M14380', 'M14381', 'M14382', 'M14383', 'M14384', 'M14385',\n",
       "       'M14386', 'M14165,M14387', 'M14388', 'M14389', 'M14390', 'M14391',\n",
       "       'M14392', 'M14393', 'M14394', 'M14395', 'M14396', 'M14397',\n",
       "       'M14398', 'M14229,M14161', 'M14399', 'M14400', 'M14401', 'M14402',\n",
       "       'M14403', 'M14404', 'M14405', 'M14406', 'M14407', 'M14408',\n",
       "       'M14409', 'M14410', 'M14411,M14412', 'M14413', 'M14414', 'M14415',\n",
       "       'M14416', 'M14417', 'M14418', 'M14419', 'M14420', 'M14421',\n",
       "       'M14422', 'M14423', 'M14424', 'M14425', 'M14426', 'M14427',\n",
       "       'M14428', 'M14429', 'M14430', 'M14431', 'M14432', 'M14433,M14434',\n",
       "       'M14435', 'M14436,M14437', 'M14438', 'M14439', 'M14440', 'M14441',\n",
       "       'M14442', 'M14443', 'M14444', 'M14445', 'M14446', 'M14447',\n",
       "       'M14448', 'M14449', 'M14450', 'M14451', 'M14452', 'M14453',\n",
       "       'M14454', 'M14455', 'M14456', 'M14457', 'M14458', 'M14459',\n",
       "       'M14460', 'M14461', 'M14462', 'M14463', 'M14464', 'M14465',\n",
       "       'M14466', 'M14467,M14468', 'M14469', 'M14470,M14266',\n",
       "       'M14471,M14472', 'M14473', 'M14474', 'M14475', 'M14476',\n",
       "       'M14477,M14452', 'M14478', 'M14479', 'M14480', 'M14481', 'M14482',\n",
       "       'M14483', 'M14484', 'M14485', 'M14486', 'M14487', 'M14488',\n",
       "       'M14489', 'M14490', 'M14491', 'M14492', 'M14468', 'M14493',\n",
       "       'M14494', 'M14495', 'M14496', 'M14497', 'M14498', 'M14499',\n",
       "       'M14500', 'M14501', 'M14502', 'M14503', 'M14504', 'M14505',\n",
       "       'M14506', 'M14507', 'M14508', 'M14510', 'M14511', 'M14512',\n",
       "       'M14513', 'M14514', 'M14515', 'M14516', 'M14517', 'M14518',\n",
       "       'M14519', 'M14520', 'M14521', 'M14522', 'M14523', 'M14524',\n",
       "       'M14525', 'M14526', 'M14527', 'M14528', 'M14529', 'M14530',\n",
       "       'M14531', 'M14532', 'M14533', 'M14534', 'M14535', 'M14536',\n",
       "       'M14537', 'M14538', 'M14539', 'M14374', 'M14540,M14541', 'M14542',\n",
       "       'M14543', 'M14544', 'M14545', 'M14546', 'M14547,M14548', 'M14549',\n",
       "       'M14548,M14550', 'M14551', 'M14552', 'M14553', 'M14554', 'M14555',\n",
       "       'M14556', 'M14557', 'M14558', 'M14269,M14559', 'M14560', 'M14561',\n",
       "       'M14562', 'M14563', 'M14564,M14565', 'M14566', 'M14567', 'M14568',\n",
       "       'M14569', 'M14565', 'M14570,M14363', 'M14571', 'M14572,M14573',\n",
       "       'M14574', 'M14575', 'M14576', 'M14577', 'M14578', 'M14579',\n",
       "       'M14580', 'M14581', 'M14582', 'M14583', 'M14584', 'M14585',\n",
       "       'M14586', 'M14587', 'M14588', 'M14589', 'M14590', 'M14591',\n",
       "       'M14592', 'M14593', 'M14565,M14483', 'M14594', 'M14595', 'M14596',\n",
       "       'M14597', 'M14598', 'M14599', 'M14600', 'M14601', 'M14602',\n",
       "       'M14603', 'M14604', 'M14605', 'M14606', 'M14607', 'M14608',\n",
       "       'M14609', 'M14134', 'M14610,M14611', 'M14612', 'M14613', 'M14614',\n",
       "       'M14252', 'M14615', 'M14616', 'M14617', 'M14618', 'M14619',\n",
       "       'M14620', 'M14621', 'M14622', 'M14623', 'M14624', 'M14625,M14626',\n",
       "       'M14625', 'M14627', 'M14628', 'M14629,M14524', 'M14630', 'M14629',\n",
       "       'M14631', 'M14632', 'M14633', 'M14634', 'M14635', 'M14636',\n",
       "       'M14637', 'M14638', 'M14639', 'M14640', 'M14641', 'M14642',\n",
       "       'M14643', 'M14644,M14645', 'M14646', 'M14647', 'M14648', 'M14649',\n",
       "       'M14650', 'M14651', 'M14652', 'M14548', 'M14653,M14654', 'M14655',\n",
       "       'M14656', 'M14657', 'M14412', 'M14658', 'M14659', 'M14660',\n",
       "       'M14661', 'M14662', 'M14663', 'M14664', 'M14665', 'M14666,M14667',\n",
       "       'M14668', 'M14669', 'M14670', 'M14671,M14670', 'M14673', 'M14674',\n",
       "       'M14675', 'M14676', 'M14677', 'M14678', 'M14679', 'M14680',\n",
       "       'M14681', 'M14682', 'M14615,M14683', 'M14684', 'M14685', 'M14686',\n",
       "       'M14687', 'M14688', 'M14689', 'M14690', 'M14691', 'M14692',\n",
       "       'M14693,M14694', 'M14695', 'M14696,M14697', 'M14698', 'M14699',\n",
       "       'M14700', 'M14701', 'M14702', 'M14703', 'M14704', 'M14705',\n",
       "       'M14706', 'M14707', 'M14708,M14565', 'M14251,M14709',\n",
       "       'M14251,M14709,M14710', 'M14711', 'M14712', 'M14713', 'M14714',\n",
       "       'M14715', 'M14717', 'M14718', 'M14719', 'M14720', 'M14721',\n",
       "       'M14722', 'M14723', 'M14724', 'M14725', 'M14726', 'M14727',\n",
       "       'M14728', 'M14709', 'M14467', 'M14729', 'M14730', 'M14731',\n",
       "       'M14734,M14735', 'M14736', 'M14737', 'M14639,M14738,M14550',\n",
       "       'M14739', 'M14591,M14710', 'M14740', 'M14741', 'M14742', 'M14743',\n",
       "       'M14744,M14501,M14257,M14745,M14202,M14746,M14747,M14595,M14686,M14206',\n",
       "       'M14748', 'M14749', 'M14750', 'M14751', 'M14752', 'M14753',\n",
       "       'M14754', 'M14755', 'M14756', 'M14757', 'M14758', 'M14759',\n",
       "       'M14760', 'M14761', 'M14762', 'M14763', 'M14199', 'M14764,M14765',\n",
       "       'M14766', 'M14767', 'M14768', 'M14769', 'M14770', 'M14771',\n",
       "       'M14772', 'M14773', 'M14774', 'M14775', 'M14776', 'M14777',\n",
       "       'M14778', 'M14779', 'M14780', 'M14781', 'M14782', 'M14783',\n",
       "       'M14784', 'M14785', 'M14786', 'M14787', 'M14788,M14559', 'M14789',\n",
       "       'M14790', 'M14791', 'M14792', 'M14251,M14305', 'M14794', 'M14795',\n",
       "       'M14744', 'M14796', 'M14797', 'M14798', 'M14799', 'M14619,M14707',\n",
       "       'M14800', 'M14801', 'M14802', 'M14803', 'M14804', 'M14805,M14806',\n",
       "       'M14807', 'M14808', 'M14809', 'M14810', 'M14811', 'M14812',\n",
       "       'M14813', 'M14814', 'M14815', 'M14816', 'M14817', 'M14818',\n",
       "       'M14819', 'M14820', 'M14821', 'M14822', 'M14823', 'M14824',\n",
       "       'M14825', 'M14826', 'M14827', 'M14828', 'M14829', 'M14830',\n",
       "       'M14831,M14710', 'M14832', 'M14833', 'M14834', 'M14835', 'M14836',\n",
       "       'M14837', 'M14838', 'M14839', 'M14840', 'M14841', 'M14842',\n",
       "       'M14843', 'M14844', 'M14845', 'M14405,M14585,M14710', 'M14846',\n",
       "       'M14847', 'M14782,M14848', 'M14850', 'M14851', 'M14852', 'M14853',\n",
       "       'M14854', 'M14855', 'M14856', 'M14857', 'M14858', 'M14859',\n",
       "       'M14860', 'M14861', 'M14862', 'M14863', 'M14864', 'M14865',\n",
       "       'M14866', 'M14867', 'M14868', 'M14869', 'M14870,M14871',\n",
       "       'M14562,M14872', 'M14873', 'M14874', 'M14875', 'M14876', 'M14877',\n",
       "       'M14572', 'M14878', 'M14879', 'M14880', 'M14881', 'M14882,M14883',\n",
       "       'M14884', 'M14885', 'M14886', 'M14887', 'M14888', 'M14889',\n",
       "       'M14890', 'M14891', 'M14892,M14893', 'M14894', 'M14895', 'M14896',\n",
       "       'M14897', 'M14898', 'M14899', 'M14900', 'M14901,M14902', 'M14903',\n",
       "       'M14904', 'M14905', 'M14906', 'M14907', 'M14857,M14626', 'M14908',\n",
       "       'M14909', 'M14910', 'M14911', 'M14912', 'M14913', 'M14914',\n",
       "       'M14915', 'M14916,M14917', 'M14918', 'M14919', 'M14920', 'M14193',\n",
       "       'M14921', 'M14922', 'M14923', 'M14924', 'M14849', 'M14925',\n",
       "       'M14926', 'M14793', 'M14927', 'M14928', 'M14411', 'M14929',\n",
       "       'M14930', 'M14931', 'M14932', 'M14933', 'M14934', 'M14935',\n",
       "       'M14936', 'M14937', 'M14938', 'M14939', 'M14940', 'M14941',\n",
       "       'M14942', 'M14943', 'M14944', 'M14945', 'M14946', 'M14947',\n",
       "       'M14948', 'M14949', 'M14950', 'M14951', 'M14952', 'M14354,M14719',\n",
       "       'M14732,M14733', 'M14953', 'M14954', 'M14955', 'M14956', 'M14957',\n",
       "       'M14958', 'M14615,M14738', 'M14959', 'M14960', 'M14961', 'M14738',\n",
       "       'M14962', 'M14564', 'M14228,M14963', 'M14964', 'M14965', 'M14559',\n",
       "       'M14966', 'M14967', 'M14968', 'M14969', 'M14970', 'M14971,M14972',\n",
       "       'M14973', 'M14974', 'M14975', 'M14976,M14977', 'M14978,M14979',\n",
       "       'M14980', 'M14981', 'M14982', 'M14165,M14550', 'M14550', 'M14983',\n",
       "       'M14984', 'M14985', 'M14986', 'M14987', 'M14988', 'M14989',\n",
       "       'M14990', 'M14991', 'M14992', 'M14805', 'M14993,M14994', 'M14995',\n",
       "       'M14639,M14996', 'M14997,M14998', 'M14999', 'M15000', 'M15001',\n",
       "       'M15002', 'M14754,M15003', 'M15004', 'M15005', 'M15006', 'M15007',\n",
       "       'M15008', 'M14320', 'M15009', 'M15010', 'M15011', 'M15012',\n",
       "       'M14883,M15011'], dtype=object)"
      ]
     },
     "execution_count": 101,
     "metadata": {},
     "output_type": "execute_result"
    }
   ],
   "source": [
    "df.maker.unique()"
   ]
  },
  {
   "cell_type": "code",
   "execution_count": 102,
   "metadata": {},
   "outputs": [
    {
     "data": {
      "text/plain": [
       "M14196    17\n",
       "M14346    16\n",
       "M14170    15\n",
       "M14163    15\n",
       "M14164    13\n",
       "Name: maker, dtype: int64"
      ]
     },
     "execution_count": 102,
     "metadata": {},
     "output_type": "execute_result"
    }
   ],
   "source": [
    "df.maker.value_counts().head()"
   ]
  },
  {
   "cell_type": "code",
   "execution_count": 103,
   "metadata": {},
   "outputs": [
    {
     "data": {
      "text/plain": [
       "array(['IN732052,IN732053',\n",
       "       'IN732054,IN732055,IN732056,IN732057,IN732058',\n",
       "       'IN732054,IN732059,IN732060', ...,\n",
       "       'IN732490,IN732338,IN732503,IN732435,IN732583',\n",
       "       'IN732832,IN732166,IN733162,IN733785,IN732069,IN732797',\n",
       "       'IN733462,IN732654,IN732149,IN733067,IN734088,IN733474,IN732868,IN732266,IN732193'],\n",
       "      dtype=object)"
      ]
     },
     "execution_count": 103,
     "metadata": {},
     "output_type": "execute_result"
    }
   ],
   "source": [
    "df.ingredient.unique()"
   ]
  },
  {
   "cell_type": "code",
   "execution_count": 104,
   "metadata": {},
   "outputs": [
    {
     "data": {
      "text/plain": [
       "IN732638                                                                            8\n",
       "IN732362                                                                            6\n",
       "IN732200                                                                            4\n",
       "IN732859                                                                            4\n",
       "IN732832                                                                            4\n",
       "                                                                                   ..\n",
       "IN733467,IN732523,IN733468                                                          1\n",
       "IN732393,IN732893,IN732282                                                          1\n",
       "IN732776,IN732531                                                                   1\n",
       "IN732613,IN733132                                                                   1\n",
       "IN733462,IN732654,IN732149,IN733067,IN734088,IN733474,IN732868,IN732266,IN732193    1\n",
       "Name: ingredient, Length: 2824, dtype: int64"
      ]
     },
     "execution_count": 104,
     "metadata": {},
     "output_type": "execute_result"
    }
   ],
   "source": [
    "df.ingredient.value_counts()"
   ]
  },
  {
   "cell_type": "markdown",
   "metadata": {},
   "source": [
    "There are too many unique values for both maker and ingredient."
   ]
  },
  {
   "cell_type": "markdown",
   "metadata": {},
   "source": [
    "Check missing values for each feature."
   ]
  },
  {
   "cell_type": "code",
   "execution_count": 105,
   "metadata": {},
   "outputs": [
    {
     "data": {
      "text/plain": [
       "cost             975\n",
       "price              0\n",
       "weight             3\n",
       "purchase_date      0\n",
       "product_type       0\n",
       "product_level      0\n",
       "maker            821\n",
       "ingredient       254\n",
       "height             0\n",
       "width              3\n",
       "depth              3\n",
       "cost_num         975\n",
       "price_num          0\n",
       "weight_num         3\n",
       "height_num         3\n",
       "width_num          3\n",
       "depth_num          3\n",
       "dtype: int64"
      ]
     },
     "execution_count": 105,
     "metadata": {},
     "output_type": "execute_result"
    }
   ],
   "source": [
    "df.isnull().sum()"
   ]
  },
  {
   "cell_type": "code",
   "execution_count": 106,
   "metadata": {},
   "outputs": [
    {
     "data": {
      "text/plain": [
       "0"
      ]
     },
     "execution_count": 106,
     "metadata": {},
     "output_type": "execute_result"
    }
   ],
   "source": [
    "#There are many missing values in cost, and the distribution of cost is skewness, so we use median to fill up the missing values\n",
    "median_cost = np.nanmedian(df['cost_num'])\n",
    "df['cost_num'].fillna(median_cost, inplace=True)\n",
    "df['cost_num'].isnull().sum()"
   ]
  },
  {
   "cell_type": "code",
   "execution_count": 107,
   "metadata": {},
   "outputs": [
    {
     "data": {
      "text/plain": [
       "0"
      ]
     },
     "execution_count": 107,
     "metadata": {},
     "output_type": "execute_result"
    }
   ],
   "source": [
    "#Only three missing values,just dropped them.\n",
    "df.dropna(subset=['weight_num'],inplace=True)\n",
    "df['weight_num'].isnull().sum()"
   ]
  },
  {
   "cell_type": "code",
   "execution_count": 108,
   "metadata": {},
   "outputs": [
    {
     "data": {
      "text/plain": [
       "cost             973\n",
       "price              0\n",
       "weight             0\n",
       "purchase_date      0\n",
       "product_type       0\n",
       "product_level      0\n",
       "maker            819\n",
       "ingredient       253\n",
       "height             0\n",
       "width              0\n",
       "depth              0\n",
       "cost_num           0\n",
       "price_num          0\n",
       "weight_num         0\n",
       "height_num         0\n",
       "width_num          0\n",
       "depth_num          0\n",
       "dtype: int64"
      ]
     },
     "execution_count": 108,
     "metadata": {},
     "output_type": "execute_result"
    }
   ],
   "source": [
    "df.isnull().sum()"
   ]
  },
  {
   "cell_type": "markdown",
   "metadata": {},
   "source": [
    "# 2. Feature Engineering"
   ]
  },
  {
   "cell_type": "code",
   "execution_count": 109,
   "metadata": {},
   "outputs": [],
   "source": [
    "class Transformer():\n",
    "\n",
    "    def fit(self, X, y=None):\n",
    "\n",
    "        df = pd.DataFrame()\n",
    "        df['cost'] = X['cost'].map(self.cost2num)\n",
    "        df['weight'] = X['weight'].map(self.weight2num)\n",
    "        df['height'] = X['height'].map(self.height2num)\n",
    "        df['width'] = X['width'].map(self.width2num)        \n",
    "        df['depth'] = X['depth'].map(self.depth2num)\n",
    "        df['maker']= X['maker']\n",
    "        df['product_level']= X['product_level'] \n",
    "        df['product_type']=X['product_type'].map(self.remove_comma)\n",
    "        df['maker']= X['maker']\n",
    "        df['ingredient']= X['ingredient'].map(self.remove_comma)\n",
    "        \n",
    "        self.mean = df.loc[:, ['cost', 'weight', 'height', 'width', 'depth']].mean()\n",
    "\n",
    "    def transform(self, X, y=None):\n",
    " \n",
    "        df = pd.DataFrame()\n",
    "        df['cost'] = X['cost'].map(self.cost2num)\n",
    "        df['weight'] = X['weight'].map(self.weight2num)\n",
    "        df['height'] = X['height'].map(self.height2num)\n",
    "        df['width'] = X['width'].map(self.width2num)        \n",
    "        df['depth'] = X['depth'].map(self.depth2num)\n",
    "        df['maker']= X['maker']\n",
    "        df['product_level']= X['product_level'] \n",
    "        df['product_type']=X['product_type'].map(self.remove_comma)\n",
    "        df['maker']= X['maker']\n",
    "        df['ingredient']= X['ingredient'].map(self.remove_comma)\n",
    "        return df.fillna(self.mean)\n",
    " \n",
    "    def fit_transform(self, X, y=None):\n",
    "        '''\n",
    "        Combine fit and transform\n",
    "        Input: X dataframe\n",
    "        '''        \n",
    "        self.fit(X)\n",
    "        return self.transform(X)\n",
    "        \n",
    "    # Convert cost string to numeric (unit: $)        \n",
    "    def cost2num(self, x):\n",
    "        if type(x) == str:\n",
    "            x = x.strip('$').strip('k')\n",
    "            return float(x)*1000\n",
    "        else:\n",
    "            return x\n",
    "\n",
    "    # Convert weight string to numeric (unit: kg)\n",
    "    def weight2num(self, x):\n",
    "        if type(x) == str:\n",
    "            x = x.strip('Kg').strip().split(' Ton ')\n",
    "            return float(x[0])*1000+float(x[1])\n",
    "        else:\n",
    "            return x\n",
    "    \n",
    "    # Convert height string to numeric (unit: cm)\n",
    "    def height2num(self, x):\n",
    "        if type(x) == str:\n",
    "            x = x.strip('meters').strip()\n",
    "            return float(x)*100\n",
    "        else:\n",
    "            return x        \n",
    "    \n",
    "    # Convert width string to numeric (unit: cm)\n",
    "    def width2num(self, x):\n",
    "        if type(x) == str:\n",
    "            x = x.strip('cm').strip()\n",
    "            return float(x)\n",
    "        else:\n",
    "            return x   \n",
    "\n",
    "    # Convert depth string to numeric (unit: cm)\n",
    "    def depth2num(self, x):\n",
    "        if type(x) == str:\n",
    "            x = x.strip('cm').strip()\n",
    "            return float(x)\n",
    "        else:\n",
    "            return x   \n",
    "        \n",
    "    def price2num(self, x):\n",
    "        if type(x) == str: # only works when x is a string\n",
    "            x = x.strip('$') # remove the dollar sign at the front of the substring\n",
    "            x = x.replace(',', '') # replace ','\n",
    "            return float(x)\n",
    "        else:\n",
    "            return x\n",
    "        \n",
    "    def remove_comma(self, x):\n",
    "        if type(x) == str: # only works when x is a string\n",
    "            x = x.replace(',', ' ') # replace ','\n",
    "            return x\n",
    "        else:\n",
    "            return ''"
   ]
  },
  {
   "cell_type": "code",
   "execution_count": 110,
   "metadata": {},
   "outputs": [],
   "source": [
    "df['year'] = pd.to_datetime(df.purchase_date).dt.year\n",
    "train_raw = df[df.year < 2015].reset_index(drop=True)\n",
    "test_raw = df[df.year >= 2015].reset_index(drop=True)"
   ]
  },
  {
   "cell_type": "code",
   "execution_count": 111,
   "metadata": {},
   "outputs": [],
   "source": [
    "features = list(train_raw.columns)\n",
    "target = 'price'\n",
    "features.remove(target)"
   ]
  },
  {
   "cell_type": "code",
   "execution_count": 112,
   "metadata": {},
   "outputs": [],
   "source": [
    "def price2num(x):\n",
    "    if type(x) == str: \n",
    "        x = x.strip('$').replace(',', '')\n",
    "    return float(x)"
   ]
  },
  {
   "cell_type": "code",
   "execution_count": 113,
   "metadata": {},
   "outputs": [],
   "source": [
    "#Filling with mode for categorical values.\n",
    "\n",
    "imp_mode = SimpleImputer(strategy='most_frequent')\n",
    "df.loc[:, 'maker'] = imp_mode.fit_transform(df[['maker']])\n",
    "\n",
    "imp_mode = SimpleImputer(strategy='most_frequent')\n",
    "df.loc[:, 'ingredient'] = imp_mode.fit_transform(df[['ingredient']])"
   ]
  },
  {
   "cell_type": "code",
   "execution_count": 114,
   "metadata": {},
   "outputs": [],
   "source": [
    "X_train = train_raw[features]\n",
    "y_train = train_raw[target].map(price2num)\n",
    "\n",
    "X_test = test_raw[features]\n",
    "y_test = test_raw[target].map(price2num)"
   ]
  },
  {
   "cell_type": "code",
   "execution_count": 115,
   "metadata": {},
   "outputs": [
    {
     "data": {
      "text/html": [
       "<div>\n",
       "<style scoped>\n",
       "    .dataframe tbody tr th:only-of-type {\n",
       "        vertical-align: middle;\n",
       "    }\n",
       "\n",
       "    .dataframe tbody tr th {\n",
       "        vertical-align: top;\n",
       "    }\n",
       "\n",
       "    .dataframe thead th {\n",
       "        text-align: right;\n",
       "    }\n",
       "</style>\n",
       "<table border=\"1\" class=\"dataframe\">\n",
       "  <thead>\n",
       "    <tr style=\"text-align: right;\">\n",
       "      <th></th>\n",
       "      <th>Variable</th>\n",
       "      <th>VIF</th>\n",
       "    </tr>\n",
       "  </thead>\n",
       "  <tbody>\n",
       "    <tr>\n",
       "      <th>3</th>\n",
       "      <td>width_num</td>\n",
       "      <td>85.825449</td>\n",
       "    </tr>\n",
       "    <tr>\n",
       "      <th>2</th>\n",
       "      <td>height_num</td>\n",
       "      <td>62.742062</td>\n",
       "    </tr>\n",
       "    <tr>\n",
       "      <th>4</th>\n",
       "      <td>depth_num</td>\n",
       "      <td>24.563108</td>\n",
       "    </tr>\n",
       "    <tr>\n",
       "      <th>1</th>\n",
       "      <td>weight_num</td>\n",
       "      <td>20.245504</td>\n",
       "    </tr>\n",
       "    <tr>\n",
       "      <th>0</th>\n",
       "      <td>cost_num</td>\n",
       "      <td>1.110699</td>\n",
       "    </tr>\n",
       "  </tbody>\n",
       "</table>\n",
       "</div>"
      ],
      "text/plain": [
       "     Variable        VIF\n",
       "3   width_num  85.825449\n",
       "2  height_num  62.742062\n",
       "4   depth_num  24.563108\n",
       "1  weight_num  20.245504\n",
       "0    cost_num   1.110699"
      ]
     },
     "execution_count": 115,
     "metadata": {},
     "output_type": "execute_result"
    }
   ],
   "source": [
    "#Use VIF to check numerical colinearity\n",
    "def compute_vif(df,considered_features):\n",
    "    \n",
    "    X = df[considered_features]\n",
    "    X['intercept'] = 1\n",
    "    \n",
    "    vif = pd.DataFrame()\n",
    "    vif[\"Variable\"] = X.columns\n",
    "    vif[\"VIF\"] = [variance_inflation_factor(X.values, i) for i in range(X.shape[1])]\n",
    "    vif = vif[vif['Variable']!='intercept']\n",
    "    return vif\n",
    "\n",
    "considered_features = ['cost_num','weight_num','height_num','width_num', 'depth_num']\n",
    "\n",
    "\n",
    "compute_vif(X_train,considered_features).sort_values('VIF', ascending=False)"
   ]
  },
  {
   "cell_type": "code",
   "execution_count": 116,
   "metadata": {},
   "outputs": [],
   "source": [
    "#!pip install phik\n",
    "#Check phi correlation"
   ]
  },
  {
   "cell_type": "code",
   "execution_count": 117,
   "metadata": {},
   "outputs": [
    {
     "data": {
      "text/html": [
       "<div>\n",
       "<style scoped>\n",
       "    .dataframe tbody tr th:only-of-type {\n",
       "        vertical-align: middle;\n",
       "    }\n",
       "\n",
       "    .dataframe tbody tr th {\n",
       "        vertical-align: top;\n",
       "    }\n",
       "\n",
       "    .dataframe thead th {\n",
       "        text-align: right;\n",
       "    }\n",
       "</style>\n",
       "<table border=\"1\" class=\"dataframe\">\n",
       "  <thead>\n",
       "    <tr style=\"text-align: right;\">\n",
       "      <th></th>\n",
       "      <th>cost</th>\n",
       "      <th>weight</th>\n",
       "      <th>purchase_date</th>\n",
       "      <th>product_type</th>\n",
       "      <th>product_level</th>\n",
       "      <th>maker</th>\n",
       "      <th>ingredient</th>\n",
       "      <th>height</th>\n",
       "      <th>width</th>\n",
       "      <th>depth</th>\n",
       "      <th>cost_num</th>\n",
       "      <th>price_num</th>\n",
       "      <th>weight_num</th>\n",
       "      <th>height_num</th>\n",
       "      <th>width_num</th>\n",
       "      <th>depth_num</th>\n",
       "      <th>year</th>\n",
       "    </tr>\n",
       "  </thead>\n",
       "  <tbody>\n",
       "    <tr>\n",
       "      <th>0</th>\n",
       "      <td>$333k</td>\n",
       "      <td>3 Ton 90 Kg</td>\n",
       "      <td>Dec 19 2008</td>\n",
       "      <td>Others</td>\n",
       "      <td>advanced</td>\n",
       "      <td>M14122</td>\n",
       "      <td>IN732052,IN732053</td>\n",
       "      <td>2.76 meters</td>\n",
       "      <td>97 cm</td>\n",
       "      <td>26 cm</td>\n",
       "      <td>333000.0</td>\n",
       "      <td>300492.0</td>\n",
       "      <td>3090.0</td>\n",
       "      <td>276.0</td>\n",
       "      <td>97.0</td>\n",
       "      <td>26.0</td>\n",
       "      <td>2008</td>\n",
       "    </tr>\n",
       "    <tr>\n",
       "      <th>1</th>\n",
       "      <td>NaN</td>\n",
       "      <td>3 Ton 30 Kg</td>\n",
       "      <td>Sep 10 1997</td>\n",
       "      <td>J,D</td>\n",
       "      <td>basic</td>\n",
       "      <td>NaN</td>\n",
       "      <td>IN732054,IN732055,IN732056,IN732057,IN732058</td>\n",
       "      <td>2.67 meters</td>\n",
       "      <td>98 cm</td>\n",
       "      <td>26 cm</td>\n",
       "      <td>122000.0</td>\n",
       "      <td>430570.0</td>\n",
       "      <td>3030.0</td>\n",
       "      <td>267.0</td>\n",
       "      <td>98.0</td>\n",
       "      <td>26.0</td>\n",
       "      <td>1997</td>\n",
       "    </tr>\n",
       "    <tr>\n",
       "      <th>2</th>\n",
       "      <td>$270k</td>\n",
       "      <td>3 Ton 40 Kg</td>\n",
       "      <td>Sep 05 2001</td>\n",
       "      <td>J,D</td>\n",
       "      <td>basic</td>\n",
       "      <td>NaN</td>\n",
       "      <td>IN732054,IN732059,IN732060</td>\n",
       "      <td>3.0 meters</td>\n",
       "      <td>93 cm</td>\n",
       "      <td>24 cm</td>\n",
       "      <td>270000.0</td>\n",
       "      <td>213070.0</td>\n",
       "      <td>3040.0</td>\n",
       "      <td>300.0</td>\n",
       "      <td>93.0</td>\n",
       "      <td>24.0</td>\n",
       "      <td>2001</td>\n",
       "    </tr>\n",
       "    <tr>\n",
       "      <th>3</th>\n",
       "      <td>$97k</td>\n",
       "      <td>2 Ton 970 Kg</td>\n",
       "      <td>Jan 12 2000</td>\n",
       "      <td>D,R</td>\n",
       "      <td>advanced</td>\n",
       "      <td>NaN</td>\n",
       "      <td>IN732064,IN732065,IN732066</td>\n",
       "      <td>2.47 meters</td>\n",
       "      <td>101 cm</td>\n",
       "      <td>26 cm</td>\n",
       "      <td>97000.0</td>\n",
       "      <td>122659.0</td>\n",
       "      <td>2970.0</td>\n",
       "      <td>247.0</td>\n",
       "      <td>101.0</td>\n",
       "      <td>26.0</td>\n",
       "      <td>2000</td>\n",
       "    </tr>\n",
       "    <tr>\n",
       "      <th>4</th>\n",
       "      <td>$59k</td>\n",
       "      <td>2 Ton 930 Kg</td>\n",
       "      <td>Aug 19 2011</td>\n",
       "      <td>H</td>\n",
       "      <td>super advanced</td>\n",
       "      <td>M14124</td>\n",
       "      <td>IN732067,IN732068,IN732069,IN732070,IN732071,I...</td>\n",
       "      <td>2.71 meters</td>\n",
       "      <td>96 cm</td>\n",
       "      <td>25 cm</td>\n",
       "      <td>59000.0</td>\n",
       "      <td>60320.0</td>\n",
       "      <td>2930.0</td>\n",
       "      <td>271.0</td>\n",
       "      <td>96.0</td>\n",
       "      <td>25.0</td>\n",
       "      <td>2011</td>\n",
       "    </tr>\n",
       "  </tbody>\n",
       "</table>\n",
       "</div>"
      ],
      "text/plain": [
       "    cost        weight purchase_date product_type   product_level   maker  \\\n",
       "0  $333k   3 Ton 90 Kg   Dec 19 2008       Others        advanced  M14122   \n",
       "1    NaN   3 Ton 30 Kg   Sep 10 1997          J,D           basic     NaN   \n",
       "2  $270k   3 Ton 40 Kg   Sep 05 2001          J,D           basic     NaN   \n",
       "3   $97k  2 Ton 970 Kg   Jan 12 2000          D,R        advanced     NaN   \n",
       "4   $59k  2 Ton 930 Kg   Aug 19 2011            H  super advanced  M14124   \n",
       "\n",
       "                                          ingredient       height   width  \\\n",
       "0                                  IN732052,IN732053  2.76 meters   97 cm   \n",
       "1       IN732054,IN732055,IN732056,IN732057,IN732058  2.67 meters   98 cm   \n",
       "2                         IN732054,IN732059,IN732060   3.0 meters   93 cm   \n",
       "3                         IN732064,IN732065,IN732066  2.47 meters  101 cm   \n",
       "4  IN732067,IN732068,IN732069,IN732070,IN732071,I...  2.71 meters   96 cm   \n",
       "\n",
       "   depth  cost_num  price_num  weight_num  height_num  width_num  depth_num  \\\n",
       "0  26 cm  333000.0   300492.0      3090.0       276.0       97.0       26.0   \n",
       "1  26 cm  122000.0   430570.0      3030.0       267.0       98.0       26.0   \n",
       "2  24 cm  270000.0   213070.0      3040.0       300.0       93.0       24.0   \n",
       "3  26 cm   97000.0   122659.0      2970.0       247.0      101.0       26.0   \n",
       "4  25 cm   59000.0    60320.0      2930.0       271.0       96.0       25.0   \n",
       "\n",
       "   year  \n",
       "0  2008  \n",
       "1  1997  \n",
       "2  2001  \n",
       "3  2000  \n",
       "4  2011  "
      ]
     },
     "execution_count": 117,
     "metadata": {},
     "output_type": "execute_result"
    }
   ],
   "source": [
    "X_train.head()"
   ]
  },
  {
   "cell_type": "code",
   "execution_count": 118,
   "metadata": {},
   "outputs": [],
   "source": [
    "data_types = {'price':'interval',\n",
    "              'cost':'interval',\n",
    "              'weight':'interval',\n",
    "              'height':'interval',\n",
    "              'width':'interval',\n",
    "              'depth':\t'interval',\n",
    "             'product_level':'ordinal',       \n",
    "             'ingredient':'categorical',\n",
    "             'maker':'categorical',\n",
    "             'product_type':'categorical'}"
   ]
  },
  {
   "cell_type": "code",
   "execution_count": 119,
   "metadata": {},
   "outputs": [
    {
     "name": "stdout",
     "output_type": "stream",
     "text": [
      "interval columns not set, guessing: ['cost_num', 'price_num', 'weight_num', 'height_num', 'width_num', 'depth_num', 'year']\n"
     ]
    },
    {
     "data": {
      "text/html": [
       "<div>\n",
       "<style scoped>\n",
       "    .dataframe tbody tr th:only-of-type {\n",
       "        vertical-align: middle;\n",
       "    }\n",
       "\n",
       "    .dataframe tbody tr th {\n",
       "        vertical-align: top;\n",
       "    }\n",
       "\n",
       "    .dataframe thead th {\n",
       "        text-align: right;\n",
       "    }\n",
       "</style>\n",
       "<table border=\"1\" class=\"dataframe\">\n",
       "  <thead>\n",
       "    <tr style=\"text-align: right;\">\n",
       "      <th></th>\n",
       "      <th>cost</th>\n",
       "      <th>weight</th>\n",
       "      <th>purchase_date</th>\n",
       "      <th>product_type</th>\n",
       "      <th>product_level</th>\n",
       "      <th>maker</th>\n",
       "      <th>ingredient</th>\n",
       "      <th>height</th>\n",
       "      <th>width</th>\n",
       "      <th>depth</th>\n",
       "      <th>cost_num</th>\n",
       "      <th>price_num</th>\n",
       "      <th>weight_num</th>\n",
       "      <th>height_num</th>\n",
       "      <th>width_num</th>\n",
       "      <th>depth_num</th>\n",
       "      <th>year</th>\n",
       "    </tr>\n",
       "  </thead>\n",
       "  <tbody>\n",
       "    <tr>\n",
       "      <th>cost</th>\n",
       "      <td>1.000000</td>\n",
       "      <td>0.868009</td>\n",
       "      <td>0.982302</td>\n",
       "      <td>0.485725</td>\n",
       "      <td>0.179088</td>\n",
       "      <td>0.000000</td>\n",
       "      <td>0.000000</td>\n",
       "      <td>0.749672</td>\n",
       "      <td>0.000000</td>\n",
       "      <td>0.000000</td>\n",
       "      <td>1.000000</td>\n",
       "      <td>0.826629</td>\n",
       "      <td>0.654606</td>\n",
       "      <td>0.377038</td>\n",
       "      <td>0.000000</td>\n",
       "      <td>0.000000</td>\n",
       "      <td>0.364823</td>\n",
       "    </tr>\n",
       "    <tr>\n",
       "      <th>weight</th>\n",
       "      <td>0.868009</td>\n",
       "      <td>1.000000</td>\n",
       "      <td>0.968683</td>\n",
       "      <td>0.555072</td>\n",
       "      <td>0.391562</td>\n",
       "      <td>0.000000</td>\n",
       "      <td>0.995813</td>\n",
       "      <td>0.603725</td>\n",
       "      <td>0.739587</td>\n",
       "      <td>0.624089</td>\n",
       "      <td>0.691193</td>\n",
       "      <td>0.765929</td>\n",
       "      <td>1.000000</td>\n",
       "      <td>0.308362</td>\n",
       "      <td>0.583719</td>\n",
       "      <td>0.609406</td>\n",
       "      <td>0.201698</td>\n",
       "    </tr>\n",
       "    <tr>\n",
       "      <th>purchase_date</th>\n",
       "      <td>0.982302</td>\n",
       "      <td>0.968683</td>\n",
       "      <td>1.000000</td>\n",
       "      <td>0.494924</td>\n",
       "      <td>0.000000</td>\n",
       "      <td>0.000000</td>\n",
       "      <td>0.855044</td>\n",
       "      <td>0.000000</td>\n",
       "      <td>0.000000</td>\n",
       "      <td>0.000000</td>\n",
       "      <td>0.865388</td>\n",
       "      <td>0.814421</td>\n",
       "      <td>0.746173</td>\n",
       "      <td>0.000000</td>\n",
       "      <td>0.000000</td>\n",
       "      <td>0.000000</td>\n",
       "      <td>1.000000</td>\n",
       "    </tr>\n",
       "    <tr>\n",
       "      <th>product_type</th>\n",
       "      <td>0.485725</td>\n",
       "      <td>0.555072</td>\n",
       "      <td>0.494924</td>\n",
       "      <td>1.000000</td>\n",
       "      <td>0.675985</td>\n",
       "      <td>0.875980</td>\n",
       "      <td>0.972859</td>\n",
       "      <td>0.000000</td>\n",
       "      <td>0.177272</td>\n",
       "      <td>0.135430</td>\n",
       "      <td>0.431270</td>\n",
       "      <td>0.359040</td>\n",
       "      <td>0.461393</td>\n",
       "      <td>0.082679</td>\n",
       "      <td>0.128191</td>\n",
       "      <td>0.138990</td>\n",
       "      <td>0.197687</td>\n",
       "    </tr>\n",
       "    <tr>\n",
       "      <th>product_level</th>\n",
       "      <td>0.179088</td>\n",
       "      <td>0.391562</td>\n",
       "      <td>0.000000</td>\n",
       "      <td>0.675985</td>\n",
       "      <td>1.000000</td>\n",
       "      <td>0.829799</td>\n",
       "      <td>0.000000</td>\n",
       "      <td>0.000000</td>\n",
       "      <td>0.000000</td>\n",
       "      <td>0.057186</td>\n",
       "      <td>0.227937</td>\n",
       "      <td>0.146689</td>\n",
       "      <td>0.416480</td>\n",
       "      <td>0.000000</td>\n",
       "      <td>0.060945</td>\n",
       "      <td>0.043503</td>\n",
       "      <td>0.162611</td>\n",
       "    </tr>\n",
       "    <tr>\n",
       "      <th>maker</th>\n",
       "      <td>0.000000</td>\n",
       "      <td>0.000000</td>\n",
       "      <td>0.000000</td>\n",
       "      <td>0.875980</td>\n",
       "      <td>0.829799</td>\n",
       "      <td>1.000000</td>\n",
       "      <td>0.999968</td>\n",
       "      <td>0.902127</td>\n",
       "      <td>0.570670</td>\n",
       "      <td>0.752259</td>\n",
       "      <td>0.000000</td>\n",
       "      <td>0.191120</td>\n",
       "      <td>0.469687</td>\n",
       "      <td>0.411033</td>\n",
       "      <td>0.605284</td>\n",
       "      <td>0.696449</td>\n",
       "      <td>0.000000</td>\n",
       "    </tr>\n",
       "    <tr>\n",
       "      <th>ingredient</th>\n",
       "      <td>0.000000</td>\n",
       "      <td>0.995813</td>\n",
       "      <td>0.855044</td>\n",
       "      <td>0.972859</td>\n",
       "      <td>0.000000</td>\n",
       "      <td>0.999968</td>\n",
       "      <td>1.000000</td>\n",
       "      <td>0.996950</td>\n",
       "      <td>0.974187</td>\n",
       "      <td>0.949845</td>\n",
       "      <td>0.987776</td>\n",
       "      <td>0.997294</td>\n",
       "      <td>0.938019</td>\n",
       "      <td>0.875605</td>\n",
       "      <td>0.845811</td>\n",
       "      <td>0.876543</td>\n",
       "      <td>0.566017</td>\n",
       "    </tr>\n",
       "    <tr>\n",
       "      <th>height</th>\n",
       "      <td>0.749672</td>\n",
       "      <td>0.603725</td>\n",
       "      <td>0.000000</td>\n",
       "      <td>0.000000</td>\n",
       "      <td>0.000000</td>\n",
       "      <td>0.902127</td>\n",
       "      <td>0.996950</td>\n",
       "      <td>1.000000</td>\n",
       "      <td>0.970509</td>\n",
       "      <td>0.956140</td>\n",
       "      <td>0.455687</td>\n",
       "      <td>0.000000</td>\n",
       "      <td>0.382913</td>\n",
       "      <td>1.000000</td>\n",
       "      <td>0.935266</td>\n",
       "      <td>0.941269</td>\n",
       "      <td>0.000000</td>\n",
       "    </tr>\n",
       "    <tr>\n",
       "      <th>width</th>\n",
       "      <td>0.000000</td>\n",
       "      <td>0.739587</td>\n",
       "      <td>0.000000</td>\n",
       "      <td>0.177272</td>\n",
       "      <td>0.000000</td>\n",
       "      <td>0.570670</td>\n",
       "      <td>0.974187</td>\n",
       "      <td>0.970509</td>\n",
       "      <td>1.000000</td>\n",
       "      <td>0.996944</td>\n",
       "      <td>0.206567</td>\n",
       "      <td>0.133929</td>\n",
       "      <td>0.425492</td>\n",
       "      <td>0.890337</td>\n",
       "      <td>1.000000</td>\n",
       "      <td>0.996245</td>\n",
       "      <td>0.000000</td>\n",
       "    </tr>\n",
       "    <tr>\n",
       "      <th>depth</th>\n",
       "      <td>0.000000</td>\n",
       "      <td>0.624089</td>\n",
       "      <td>0.000000</td>\n",
       "      <td>0.135430</td>\n",
       "      <td>0.057186</td>\n",
       "      <td>0.752259</td>\n",
       "      <td>0.949845</td>\n",
       "      <td>0.956140</td>\n",
       "      <td>0.996944</td>\n",
       "      <td>1.000000</td>\n",
       "      <td>0.130736</td>\n",
       "      <td>0.022868</td>\n",
       "      <td>0.306685</td>\n",
       "      <td>0.787435</td>\n",
       "      <td>0.951217</td>\n",
       "      <td>1.000000</td>\n",
       "      <td>0.000000</td>\n",
       "    </tr>\n",
       "    <tr>\n",
       "      <th>cost_num</th>\n",
       "      <td>1.000000</td>\n",
       "      <td>0.691193</td>\n",
       "      <td>0.865388</td>\n",
       "      <td>0.431270</td>\n",
       "      <td>0.227937</td>\n",
       "      <td>0.000000</td>\n",
       "      <td>0.987776</td>\n",
       "      <td>0.455687</td>\n",
       "      <td>0.206567</td>\n",
       "      <td>0.130736</td>\n",
       "      <td>1.000000</td>\n",
       "      <td>0.510569</td>\n",
       "      <td>0.438945</td>\n",
       "      <td>0.220896</td>\n",
       "      <td>0.163849</td>\n",
       "      <td>0.157882</td>\n",
       "      <td>0.314185</td>\n",
       "    </tr>\n",
       "    <tr>\n",
       "      <th>price_num</th>\n",
       "      <td>0.826629</td>\n",
       "      <td>0.765929</td>\n",
       "      <td>0.814421</td>\n",
       "      <td>0.359040</td>\n",
       "      <td>0.146689</td>\n",
       "      <td>0.191120</td>\n",
       "      <td>0.997294</td>\n",
       "      <td>0.000000</td>\n",
       "      <td>0.133929</td>\n",
       "      <td>0.022868</td>\n",
       "      <td>0.510569</td>\n",
       "      <td>1.000000</td>\n",
       "      <td>0.361275</td>\n",
       "      <td>0.000000</td>\n",
       "      <td>0.079367</td>\n",
       "      <td>0.000000</td>\n",
       "      <td>0.080001</td>\n",
       "    </tr>\n",
       "    <tr>\n",
       "      <th>weight_num</th>\n",
       "      <td>0.654606</td>\n",
       "      <td>1.000000</td>\n",
       "      <td>0.746173</td>\n",
       "      <td>0.461393</td>\n",
       "      <td>0.416480</td>\n",
       "      <td>0.469687</td>\n",
       "      <td>0.938019</td>\n",
       "      <td>0.382913</td>\n",
       "      <td>0.425492</td>\n",
       "      <td>0.306685</td>\n",
       "      <td>0.438945</td>\n",
       "      <td>0.361275</td>\n",
       "      <td>1.000000</td>\n",
       "      <td>0.203377</td>\n",
       "      <td>0.387251</td>\n",
       "      <td>0.393610</td>\n",
       "      <td>0.103126</td>\n",
       "    </tr>\n",
       "    <tr>\n",
       "      <th>height_num</th>\n",
       "      <td>0.377038</td>\n",
       "      <td>0.308362</td>\n",
       "      <td>0.000000</td>\n",
       "      <td>0.082679</td>\n",
       "      <td>0.000000</td>\n",
       "      <td>0.411033</td>\n",
       "      <td>0.875605</td>\n",
       "      <td>1.000000</td>\n",
       "      <td>0.890337</td>\n",
       "      <td>0.787435</td>\n",
       "      <td>0.220896</td>\n",
       "      <td>0.000000</td>\n",
       "      <td>0.203377</td>\n",
       "      <td>1.000000</td>\n",
       "      <td>0.875355</td>\n",
       "      <td>0.885709</td>\n",
       "      <td>0.062346</td>\n",
       "    </tr>\n",
       "    <tr>\n",
       "      <th>width_num</th>\n",
       "      <td>0.000000</td>\n",
       "      <td>0.583719</td>\n",
       "      <td>0.000000</td>\n",
       "      <td>0.128191</td>\n",
       "      <td>0.060945</td>\n",
       "      <td>0.605284</td>\n",
       "      <td>0.845811</td>\n",
       "      <td>0.935266</td>\n",
       "      <td>1.000000</td>\n",
       "      <td>0.951217</td>\n",
       "      <td>0.163849</td>\n",
       "      <td>0.079367</td>\n",
       "      <td>0.387251</td>\n",
       "      <td>0.875355</td>\n",
       "      <td>1.000000</td>\n",
       "      <td>0.985691</td>\n",
       "      <td>0.062682</td>\n",
       "    </tr>\n",
       "    <tr>\n",
       "      <th>depth_num</th>\n",
       "      <td>0.000000</td>\n",
       "      <td>0.609406</td>\n",
       "      <td>0.000000</td>\n",
       "      <td>0.138990</td>\n",
       "      <td>0.043503</td>\n",
       "      <td>0.696449</td>\n",
       "      <td>0.876543</td>\n",
       "      <td>0.941269</td>\n",
       "      <td>0.996245</td>\n",
       "      <td>1.000000</td>\n",
       "      <td>0.157882</td>\n",
       "      <td>0.000000</td>\n",
       "      <td>0.393610</td>\n",
       "      <td>0.885709</td>\n",
       "      <td>0.985691</td>\n",
       "      <td>1.000000</td>\n",
       "      <td>0.056778</td>\n",
       "    </tr>\n",
       "    <tr>\n",
       "      <th>year</th>\n",
       "      <td>0.364823</td>\n",
       "      <td>0.201698</td>\n",
       "      <td>1.000000</td>\n",
       "      <td>0.197687</td>\n",
       "      <td>0.162611</td>\n",
       "      <td>0.000000</td>\n",
       "      <td>0.566017</td>\n",
       "      <td>0.000000</td>\n",
       "      <td>0.000000</td>\n",
       "      <td>0.000000</td>\n",
       "      <td>0.314185</td>\n",
       "      <td>0.080001</td>\n",
       "      <td>0.103126</td>\n",
       "      <td>0.062346</td>\n",
       "      <td>0.062682</td>\n",
       "      <td>0.056778</td>\n",
       "      <td>1.000000</td>\n",
       "    </tr>\n",
       "  </tbody>\n",
       "</table>\n",
       "</div>"
      ],
      "text/plain": [
       "                   cost    weight  purchase_date  product_type  product_level  \\\n",
       "cost           1.000000  0.868009       0.982302      0.485725       0.179088   \n",
       "weight         0.868009  1.000000       0.968683      0.555072       0.391562   \n",
       "purchase_date  0.982302  0.968683       1.000000      0.494924       0.000000   \n",
       "product_type   0.485725  0.555072       0.494924      1.000000       0.675985   \n",
       "product_level  0.179088  0.391562       0.000000      0.675985       1.000000   \n",
       "maker          0.000000  0.000000       0.000000      0.875980       0.829799   \n",
       "ingredient     0.000000  0.995813       0.855044      0.972859       0.000000   \n",
       "height         0.749672  0.603725       0.000000      0.000000       0.000000   \n",
       "width          0.000000  0.739587       0.000000      0.177272       0.000000   \n",
       "depth          0.000000  0.624089       0.000000      0.135430       0.057186   \n",
       "cost_num       1.000000  0.691193       0.865388      0.431270       0.227937   \n",
       "price_num      0.826629  0.765929       0.814421      0.359040       0.146689   \n",
       "weight_num     0.654606  1.000000       0.746173      0.461393       0.416480   \n",
       "height_num     0.377038  0.308362       0.000000      0.082679       0.000000   \n",
       "width_num      0.000000  0.583719       0.000000      0.128191       0.060945   \n",
       "depth_num      0.000000  0.609406       0.000000      0.138990       0.043503   \n",
       "year           0.364823  0.201698       1.000000      0.197687       0.162611   \n",
       "\n",
       "                  maker  ingredient    height     width     depth  cost_num  \\\n",
       "cost           0.000000    0.000000  0.749672  0.000000  0.000000  1.000000   \n",
       "weight         0.000000    0.995813  0.603725  0.739587  0.624089  0.691193   \n",
       "purchase_date  0.000000    0.855044  0.000000  0.000000  0.000000  0.865388   \n",
       "product_type   0.875980    0.972859  0.000000  0.177272  0.135430  0.431270   \n",
       "product_level  0.829799    0.000000  0.000000  0.000000  0.057186  0.227937   \n",
       "maker          1.000000    0.999968  0.902127  0.570670  0.752259  0.000000   \n",
       "ingredient     0.999968    1.000000  0.996950  0.974187  0.949845  0.987776   \n",
       "height         0.902127    0.996950  1.000000  0.970509  0.956140  0.455687   \n",
       "width          0.570670    0.974187  0.970509  1.000000  0.996944  0.206567   \n",
       "depth          0.752259    0.949845  0.956140  0.996944  1.000000  0.130736   \n",
       "cost_num       0.000000    0.987776  0.455687  0.206567  0.130736  1.000000   \n",
       "price_num      0.191120    0.997294  0.000000  0.133929  0.022868  0.510569   \n",
       "weight_num     0.469687    0.938019  0.382913  0.425492  0.306685  0.438945   \n",
       "height_num     0.411033    0.875605  1.000000  0.890337  0.787435  0.220896   \n",
       "width_num      0.605284    0.845811  0.935266  1.000000  0.951217  0.163849   \n",
       "depth_num      0.696449    0.876543  0.941269  0.996245  1.000000  0.157882   \n",
       "year           0.000000    0.566017  0.000000  0.000000  0.000000  0.314185   \n",
       "\n",
       "               price_num  weight_num  height_num  width_num  depth_num  \\\n",
       "cost            0.826629    0.654606    0.377038   0.000000   0.000000   \n",
       "weight          0.765929    1.000000    0.308362   0.583719   0.609406   \n",
       "purchase_date   0.814421    0.746173    0.000000   0.000000   0.000000   \n",
       "product_type    0.359040    0.461393    0.082679   0.128191   0.138990   \n",
       "product_level   0.146689    0.416480    0.000000   0.060945   0.043503   \n",
       "maker           0.191120    0.469687    0.411033   0.605284   0.696449   \n",
       "ingredient      0.997294    0.938019    0.875605   0.845811   0.876543   \n",
       "height          0.000000    0.382913    1.000000   0.935266   0.941269   \n",
       "width           0.133929    0.425492    0.890337   1.000000   0.996245   \n",
       "depth           0.022868    0.306685    0.787435   0.951217   1.000000   \n",
       "cost_num        0.510569    0.438945    0.220896   0.163849   0.157882   \n",
       "price_num       1.000000    0.361275    0.000000   0.079367   0.000000   \n",
       "weight_num      0.361275    1.000000    0.203377   0.387251   0.393610   \n",
       "height_num      0.000000    0.203377    1.000000   0.875355   0.885709   \n",
       "width_num       0.079367    0.387251    0.875355   1.000000   0.985691   \n",
       "depth_num       0.000000    0.393610    0.885709   0.985691   1.000000   \n",
       "year            0.080001    0.103126    0.062346   0.062682   0.056778   \n",
       "\n",
       "                   year  \n",
       "cost           0.364823  \n",
       "weight         0.201698  \n",
       "purchase_date  1.000000  \n",
       "product_type   0.197687  \n",
       "product_level  0.162611  \n",
       "maker          0.000000  \n",
       "ingredient     0.566017  \n",
       "height         0.000000  \n",
       "width          0.000000  \n",
       "depth          0.000000  \n",
       "cost_num       0.314185  \n",
       "price_num      0.080001  \n",
       "weight_num     0.103126  \n",
       "height_num     0.062346  \n",
       "width_num      0.062682  \n",
       "depth_num      0.056778  \n",
       "year           1.000000  "
      ]
     },
     "execution_count": 119,
     "metadata": {},
     "output_type": "execute_result"
    }
   ],
   "source": [
    "X_train.phik_matrix()"
   ]
  },
  {
   "cell_type": "markdown",
   "metadata": {},
   "source": [
    "Consider drop height, width, depth."
   ]
  },
  {
   "cell_type": "code",
   "execution_count": 120,
   "metadata": {},
   "outputs": [],
   "source": [
    "#!pip install category_encoders"
   ]
  },
  {
   "cell_type": "code",
   "execution_count": 121,
   "metadata": {},
   "outputs": [],
   "source": [
    "cat_product_lvl=[[\"unrated\", \"basic\", \"intermediate\", \"advanced\", \"super advanced\"]]\n",
    "\n",
    "\n",
    "cat_transformer = make_column_transformer(\n",
    "    (category_encoders.CountEncoder(),['maker']),\n",
    "    (OrdinalEncoder(categories=cat_product_lvl), ['product_level']),\n",
    "    (OneHotEncoder(handle_unknown='ignore'), ['product_type']),\n",
    "    (TfidfVectorizer(max_features=10),'ingredient'),                                         \n",
    "    remainder='passthrough',\n",
    ")"
   ]
  },
  {
   "cell_type": "code",
   "execution_count": 122,
   "metadata": {},
   "outputs": [
    {
     "data": {
      "text/html": [
       "<style>#sk-container-id-3 {color: black;}#sk-container-id-3 pre{padding: 0;}#sk-container-id-3 div.sk-toggleable {background-color: white;}#sk-container-id-3 label.sk-toggleable__label {cursor: pointer;display: block;width: 100%;margin-bottom: 0;padding: 0.3em;box-sizing: border-box;text-align: center;}#sk-container-id-3 label.sk-toggleable__label-arrow:before {content: \"▸\";float: left;margin-right: 0.25em;color: #696969;}#sk-container-id-3 label.sk-toggleable__label-arrow:hover:before {color: black;}#sk-container-id-3 div.sk-estimator:hover label.sk-toggleable__label-arrow:before {color: black;}#sk-container-id-3 div.sk-toggleable__content {max-height: 0;max-width: 0;overflow: hidden;text-align: left;background-color: #f0f8ff;}#sk-container-id-3 div.sk-toggleable__content pre {margin: 0.2em;color: black;border-radius: 0.25em;background-color: #f0f8ff;}#sk-container-id-3 input.sk-toggleable__control:checked~div.sk-toggleable__content {max-height: 200px;max-width: 100%;overflow: auto;}#sk-container-id-3 input.sk-toggleable__control:checked~label.sk-toggleable__label-arrow:before {content: \"▾\";}#sk-container-id-3 div.sk-estimator input.sk-toggleable__control:checked~label.sk-toggleable__label {background-color: #d4ebff;}#sk-container-id-3 div.sk-label input.sk-toggleable__control:checked~label.sk-toggleable__label {background-color: #d4ebff;}#sk-container-id-3 input.sk-hidden--visually {border: 0;clip: rect(1px 1px 1px 1px);clip: rect(1px, 1px, 1px, 1px);height: 1px;margin: -1px;overflow: hidden;padding: 0;position: absolute;width: 1px;}#sk-container-id-3 div.sk-estimator {font-family: monospace;background-color: #f0f8ff;border: 1px dotted black;border-radius: 0.25em;box-sizing: border-box;margin-bottom: 0.5em;}#sk-container-id-3 div.sk-estimator:hover {background-color: #d4ebff;}#sk-container-id-3 div.sk-parallel-item::after {content: \"\";width: 100%;border-bottom: 1px solid gray;flex-grow: 1;}#sk-container-id-3 div.sk-label:hover label.sk-toggleable__label {background-color: #d4ebff;}#sk-container-id-3 div.sk-serial::before {content: \"\";position: absolute;border-left: 1px solid gray;box-sizing: border-box;top: 0;bottom: 0;left: 50%;z-index: 0;}#sk-container-id-3 div.sk-serial {display: flex;flex-direction: column;align-items: center;background-color: white;padding-right: 0.2em;padding-left: 0.2em;position: relative;}#sk-container-id-3 div.sk-item {position: relative;z-index: 1;}#sk-container-id-3 div.sk-parallel {display: flex;align-items: stretch;justify-content: center;background-color: white;position: relative;}#sk-container-id-3 div.sk-item::before, #sk-container-id-3 div.sk-parallel-item::before {content: \"\";position: absolute;border-left: 1px solid gray;box-sizing: border-box;top: 0;bottom: 0;left: 50%;z-index: -1;}#sk-container-id-3 div.sk-parallel-item {display: flex;flex-direction: column;z-index: 1;position: relative;background-color: white;}#sk-container-id-3 div.sk-parallel-item:first-child::after {align-self: flex-end;width: 50%;}#sk-container-id-3 div.sk-parallel-item:last-child::after {align-self: flex-start;width: 50%;}#sk-container-id-3 div.sk-parallel-item:only-child::after {width: 0;}#sk-container-id-3 div.sk-dashed-wrapped {border: 1px dashed gray;margin: 0 0.4em 0.5em 0.4em;box-sizing: border-box;padding-bottom: 0.4em;background-color: white;}#sk-container-id-3 div.sk-label label {font-family: monospace;font-weight: bold;display: inline-block;line-height: 1.2em;}#sk-container-id-3 div.sk-label-container {text-align: center;}#sk-container-id-3 div.sk-container {/* jupyter's `normalize.less` sets `[hidden] { display: none; }` but bootstrap.min.css set `[hidden] { display: none !important; }` so we also need the `!important` here to be able to override the default hidden behavior on the sphinx rendered scikit-learn.org. See: https://github.com/scikit-learn/scikit-learn/issues/21755 */display: inline-block !important;position: relative;}#sk-container-id-3 div.sk-text-repr-fallback {display: none;}</style><div id=\"sk-container-id-3\" class=\"sk-top-container\"><div class=\"sk-text-repr-fallback\"><pre>ColumnTransformer(remainder=&#x27;passthrough&#x27;,\n",
       "                  transformers=[(&#x27;countencoder&#x27;,\n",
       "                                 CountEncoder(combine_min_nan_groups=True),\n",
       "                                 [&#x27;maker&#x27;]),\n",
       "                                (&#x27;ordinalencoder&#x27;,\n",
       "                                 OrdinalEncoder(categories=[[&#x27;unrated&#x27;, &#x27;basic&#x27;,\n",
       "                                                             &#x27;intermediate&#x27;,\n",
       "                                                             &#x27;advanced&#x27;,\n",
       "                                                             &#x27;super &#x27;\n",
       "                                                             &#x27;advanced&#x27;]]),\n",
       "                                 [&#x27;product_level&#x27;]),\n",
       "                                (&#x27;onehotencoder&#x27;,\n",
       "                                 OneHotEncoder(handle_unknown=&#x27;ignore&#x27;),\n",
       "                                 [&#x27;product_type&#x27;]),\n",
       "                                (&#x27;tfidfvectorizer&#x27;,\n",
       "                                 TfidfVectorizer(max_features=10),\n",
       "                                 &#x27;ingredient&#x27;)])</pre><b>In a Jupyter environment, please rerun this cell to show the HTML representation or trust the notebook. <br />On GitHub, the HTML representation is unable to render, please try loading this page with nbviewer.org.</b></div><div class=\"sk-container\" hidden><div class=\"sk-item sk-dashed-wrapped\"><div class=\"sk-label-container\"><div class=\"sk-label sk-toggleable\"><input class=\"sk-toggleable__control sk-hidden--visually\" id=\"sk-estimator-id-27\" type=\"checkbox\" ><label for=\"sk-estimator-id-27\" class=\"sk-toggleable__label sk-toggleable__label-arrow\">ColumnTransformer</label><div class=\"sk-toggleable__content\"><pre>ColumnTransformer(remainder=&#x27;passthrough&#x27;,\n",
       "                  transformers=[(&#x27;countencoder&#x27;,\n",
       "                                 CountEncoder(combine_min_nan_groups=True),\n",
       "                                 [&#x27;maker&#x27;]),\n",
       "                                (&#x27;ordinalencoder&#x27;,\n",
       "                                 OrdinalEncoder(categories=[[&#x27;unrated&#x27;, &#x27;basic&#x27;,\n",
       "                                                             &#x27;intermediate&#x27;,\n",
       "                                                             &#x27;advanced&#x27;,\n",
       "                                                             &#x27;super &#x27;\n",
       "                                                             &#x27;advanced&#x27;]]),\n",
       "                                 [&#x27;product_level&#x27;]),\n",
       "                                (&#x27;onehotencoder&#x27;,\n",
       "                                 OneHotEncoder(handle_unknown=&#x27;ignore&#x27;),\n",
       "                                 [&#x27;product_type&#x27;]),\n",
       "                                (&#x27;tfidfvectorizer&#x27;,\n",
       "                                 TfidfVectorizer(max_features=10),\n",
       "                                 &#x27;ingredient&#x27;)])</pre></div></div></div><div class=\"sk-parallel\"><div class=\"sk-parallel-item\"><div class=\"sk-item\"><div class=\"sk-label-container\"><div class=\"sk-label sk-toggleable\"><input class=\"sk-toggleable__control sk-hidden--visually\" id=\"sk-estimator-id-28\" type=\"checkbox\" ><label for=\"sk-estimator-id-28\" class=\"sk-toggleable__label sk-toggleable__label-arrow\">countencoder</label><div class=\"sk-toggleable__content\"><pre>[&#x27;maker&#x27;]</pre></div></div></div><div class=\"sk-serial\"><div class=\"sk-item\"><div class=\"sk-estimator sk-toggleable\"><input class=\"sk-toggleable__control sk-hidden--visually\" id=\"sk-estimator-id-29\" type=\"checkbox\" ><label for=\"sk-estimator-id-29\" class=\"sk-toggleable__label sk-toggleable__label-arrow\">CountEncoder</label><div class=\"sk-toggleable__content\"><pre>CountEncoder(combine_min_nan_groups=True)</pre></div></div></div></div></div></div><div class=\"sk-parallel-item\"><div class=\"sk-item\"><div class=\"sk-label-container\"><div class=\"sk-label sk-toggleable\"><input class=\"sk-toggleable__control sk-hidden--visually\" id=\"sk-estimator-id-30\" type=\"checkbox\" ><label for=\"sk-estimator-id-30\" class=\"sk-toggleable__label sk-toggleable__label-arrow\">ordinalencoder</label><div class=\"sk-toggleable__content\"><pre>[&#x27;product_level&#x27;]</pre></div></div></div><div class=\"sk-serial\"><div class=\"sk-item\"><div class=\"sk-estimator sk-toggleable\"><input class=\"sk-toggleable__control sk-hidden--visually\" id=\"sk-estimator-id-31\" type=\"checkbox\" ><label for=\"sk-estimator-id-31\" class=\"sk-toggleable__label sk-toggleable__label-arrow\">OrdinalEncoder</label><div class=\"sk-toggleable__content\"><pre>OrdinalEncoder(categories=[[&#x27;unrated&#x27;, &#x27;basic&#x27;, &#x27;intermediate&#x27;, &#x27;advanced&#x27;,\n",
       "                            &#x27;super advanced&#x27;]])</pre></div></div></div></div></div></div><div class=\"sk-parallel-item\"><div class=\"sk-item\"><div class=\"sk-label-container\"><div class=\"sk-label sk-toggleable\"><input class=\"sk-toggleable__control sk-hidden--visually\" id=\"sk-estimator-id-32\" type=\"checkbox\" ><label for=\"sk-estimator-id-32\" class=\"sk-toggleable__label sk-toggleable__label-arrow\">onehotencoder</label><div class=\"sk-toggleable__content\"><pre>[&#x27;product_type&#x27;]</pre></div></div></div><div class=\"sk-serial\"><div class=\"sk-item\"><div class=\"sk-estimator sk-toggleable\"><input class=\"sk-toggleable__control sk-hidden--visually\" id=\"sk-estimator-id-33\" type=\"checkbox\" ><label for=\"sk-estimator-id-33\" class=\"sk-toggleable__label sk-toggleable__label-arrow\">OneHotEncoder</label><div class=\"sk-toggleable__content\"><pre>OneHotEncoder(handle_unknown=&#x27;ignore&#x27;)</pre></div></div></div></div></div></div><div class=\"sk-parallel-item\"><div class=\"sk-item\"><div class=\"sk-label-container\"><div class=\"sk-label sk-toggleable\"><input class=\"sk-toggleable__control sk-hidden--visually\" id=\"sk-estimator-id-34\" type=\"checkbox\" ><label for=\"sk-estimator-id-34\" class=\"sk-toggleable__label sk-toggleable__label-arrow\">tfidfvectorizer</label><div class=\"sk-toggleable__content\"><pre>ingredient</pre></div></div></div><div class=\"sk-serial\"><div class=\"sk-item\"><div class=\"sk-estimator sk-toggleable\"><input class=\"sk-toggleable__control sk-hidden--visually\" id=\"sk-estimator-id-35\" type=\"checkbox\" ><label for=\"sk-estimator-id-35\" class=\"sk-toggleable__label sk-toggleable__label-arrow\">TfidfVectorizer</label><div class=\"sk-toggleable__content\"><pre>TfidfVectorizer(max_features=10)</pre></div></div></div></div></div></div><div class=\"sk-parallel-item\"><div class=\"sk-item\"><div class=\"sk-label-container\"><div class=\"sk-label sk-toggleable\"><input class=\"sk-toggleable__control sk-hidden--visually\" id=\"sk-estimator-id-36\" type=\"checkbox\" ><label for=\"sk-estimator-id-36\" class=\"sk-toggleable__label sk-toggleable__label-arrow\">remainder</label><div class=\"sk-toggleable__content\"><pre></pre></div></div></div><div class=\"sk-serial\"><div class=\"sk-item\"><div class=\"sk-estimator sk-toggleable\"><input class=\"sk-toggleable__control sk-hidden--visually\" id=\"sk-estimator-id-37\" type=\"checkbox\" ><label for=\"sk-estimator-id-37\" class=\"sk-toggleable__label sk-toggleable__label-arrow\">passthrough</label><div class=\"sk-toggleable__content\"><pre>passthrough</pre></div></div></div></div></div></div></div></div></div></div>"
      ],
      "text/plain": [
       "ColumnTransformer(remainder='passthrough',\n",
       "                  transformers=[('countencoder',\n",
       "                                 CountEncoder(combine_min_nan_groups=True),\n",
       "                                 ['maker']),\n",
       "                                ('ordinalencoder',\n",
       "                                 OrdinalEncoder(categories=[['unrated', 'basic',\n",
       "                                                             'intermediate',\n",
       "                                                             'advanced',\n",
       "                                                             'super '\n",
       "                                                             'advanced']]),\n",
       "                                 ['product_level']),\n",
       "                                ('onehotencoder',\n",
       "                                 OneHotEncoder(handle_unknown='ignore'),\n",
       "                                 ['product_type']),\n",
       "                                ('tfidfvectorizer',\n",
       "                                 TfidfVectorizer(max_features=10),\n",
       "                                 'ingredient')])"
      ]
     },
     "execution_count": 122,
     "metadata": {},
     "output_type": "execute_result"
    }
   ],
   "source": [
    "cat_transformer"
   ]
  },
  {
   "cell_type": "markdown",
   "metadata": {},
   "source": [
    "# 3 Build Model"
   ]
  },
  {
   "cell_type": "markdown",
   "metadata": {},
   "source": [
    "# Random Forest"
   ]
  },
  {
   "cell_type": "code",
   "execution_count": 123,
   "metadata": {},
   "outputs": [],
   "source": [
    "class columnDropTransformer():\n",
    "    def __init__(self,columns):\n",
    "        self.columns=columns\n",
    "\n",
    "    def transform(self,X,y=None):\n",
    "        return X.drop(self.columns,axis=1)\n",
    "\n",
    "    def fit(self, X, y=None):\n",
    "        return self \n",
    "\n",
    "def build_ml_pipeline(regressor):\n",
    "\n",
    "    steps = [ \n",
    "         ('tf', Transformer()),\n",
    "         (\"columnDropper\", columnDropTransformer(['height','width', 'depth'])),\n",
    "          ('ctf',cat_transformer),\n",
    "         ('model', regressor)]\n",
    "\n",
    "    model=Pipeline(steps)\n",
    "    return model"
   ]
  },
  {
   "cell_type": "code",
   "execution_count": 124,
   "metadata": {},
   "outputs": [],
   "source": [
    "ctf = make_column_transformer(\n",
    "    (category_encoders.CountEncoder(),['maker']),\n",
    "    (OrdinalEncoder(categories=cat_product_lvl), ['product_level']),\n",
    "    (OneHotEncoder(handle_unknown='ignore'), ['product_type']),\n",
    "    (TfidfVectorizer(max_features=10),'ingredient'),                                         \n",
    "    remainder='passthrough',\n",
    ")\n",
    "\n",
    "tf =  Transformer()\n",
    "cd = columnDropTransformer(['height','width', 'depth'])\n",
    "#ctf = cat_transformer"
   ]
  },
  {
   "cell_type": "code",
   "execution_count": 125,
   "metadata": {},
   "outputs": [],
   "source": [
    "#help(ctf.fit_transform)"
   ]
  },
  {
   "cell_type": "code",
   "execution_count": 126,
   "metadata": {},
   "outputs": [],
   "source": [
    "x_train_tf = tf.fit_transform(X_train)\n",
    "x_train_cd = cd.transform(x_train_tf)\n",
    "x_train_ctf = ctf.fit_transform(x_train_cd)"
   ]
  },
  {
   "cell_type": "code",
   "execution_count": 127,
   "metadata": {},
   "outputs": [
    {
     "data": {
      "text/html": [
       "<div>\n",
       "<style scoped>\n",
       "    .dataframe tbody tr th:only-of-type {\n",
       "        vertical-align: middle;\n",
       "    }\n",
       "\n",
       "    .dataframe tbody tr th {\n",
       "        vertical-align: top;\n",
       "    }\n",
       "\n",
       "    .dataframe thead th {\n",
       "        text-align: right;\n",
       "    }\n",
       "</style>\n",
       "<table border=\"1\" class=\"dataframe\">\n",
       "  <thead>\n",
       "    <tr style=\"text-align: right;\">\n",
       "      <th></th>\n",
       "      <th>cost</th>\n",
       "      <th>weight</th>\n",
       "      <th>maker</th>\n",
       "      <th>product_level</th>\n",
       "      <th>product_type</th>\n",
       "      <th>ingredient</th>\n",
       "    </tr>\n",
       "  </thead>\n",
       "  <tbody>\n",
       "    <tr>\n",
       "      <th>0</th>\n",
       "      <td>333000.000000</td>\n",
       "      <td>3090.0</td>\n",
       "      <td>M14122</td>\n",
       "      <td>advanced</td>\n",
       "      <td>Others</td>\n",
       "      <td>IN732052 IN732053</td>\n",
       "    </tr>\n",
       "    <tr>\n",
       "      <th>1</th>\n",
       "      <td>166207.183758</td>\n",
       "      <td>3030.0</td>\n",
       "      <td>NaN</td>\n",
       "      <td>basic</td>\n",
       "      <td>J D</td>\n",
       "      <td>IN732054 IN732055 IN732056 IN732057 IN732058</td>\n",
       "    </tr>\n",
       "    <tr>\n",
       "      <th>2</th>\n",
       "      <td>270000.000000</td>\n",
       "      <td>3040.0</td>\n",
       "      <td>NaN</td>\n",
       "      <td>basic</td>\n",
       "      <td>J D</td>\n",
       "      <td>IN732054 IN732059 IN732060</td>\n",
       "    </tr>\n",
       "    <tr>\n",
       "      <th>3</th>\n",
       "      <td>97000.000000</td>\n",
       "      <td>2970.0</td>\n",
       "      <td>NaN</td>\n",
       "      <td>advanced</td>\n",
       "      <td>D R</td>\n",
       "      <td>IN732064 IN732065 IN732066</td>\n",
       "    </tr>\n",
       "    <tr>\n",
       "      <th>4</th>\n",
       "      <td>59000.000000</td>\n",
       "      <td>2930.0</td>\n",
       "      <td>M14124</td>\n",
       "      <td>super advanced</td>\n",
       "      <td>H</td>\n",
       "      <td>IN732067 IN732068 IN732069 IN732070 IN732071 I...</td>\n",
       "    </tr>\n",
       "  </tbody>\n",
       "</table>\n",
       "</div>"
      ],
      "text/plain": [
       "            cost  weight   maker   product_level product_type  \\\n",
       "0  333000.000000  3090.0  M14122        advanced       Others   \n",
       "1  166207.183758  3030.0     NaN           basic          J D   \n",
       "2  270000.000000  3040.0     NaN           basic          J D   \n",
       "3   97000.000000  2970.0     NaN        advanced          D R   \n",
       "4   59000.000000  2930.0  M14124  super advanced            H   \n",
       "\n",
       "                                          ingredient  \n",
       "0                                  IN732052 IN732053  \n",
       "1       IN732054 IN732055 IN732056 IN732057 IN732058  \n",
       "2                         IN732054 IN732059 IN732060  \n",
       "3                         IN732064 IN732065 IN732066  \n",
       "4  IN732067 IN732068 IN732069 IN732070 IN732071 I...  "
      ]
     },
     "execution_count": 127,
     "metadata": {},
     "output_type": "execute_result"
    }
   ],
   "source": [
    "x_train_cd.head()"
   ]
  },
  {
   "cell_type": "code",
   "execution_count": 128,
   "metadata": {},
   "outputs": [
    {
     "data": {
      "text/plain": [
       "<1x35 sparse matrix of type '<class 'numpy.float64'>'\n",
       "\twith 5 stored elements in Compressed Sparse Row format>"
      ]
     },
     "execution_count": 128,
     "metadata": {},
     "output_type": "execute_result"
    }
   ],
   "source": [
    "x_train_ctf[0,:]"
   ]
  },
  {
   "cell_type": "code",
   "execution_count": 129,
   "metadata": {},
   "outputs": [],
   "source": [
    "pipeline = build_ml_pipeline(RandomForestRegressor(random_state=0))\n",
    "model = pipeline.fit(X_train, y_train)"
   ]
  },
  {
   "cell_type": "code",
   "execution_count": 130,
   "metadata": {},
   "outputs": [],
   "source": [
    "y_train_pred = model.predict(X_train)\n",
    "y_test_pred=model.predict(X_test)"
   ]
  },
  {
   "cell_type": "code",
   "execution_count": 131,
   "metadata": {},
   "outputs": [
    {
     "name": "stdout",
     "output_type": "stream",
     "text": [
      "train MAE: 3.79e+04\n",
      "train MSE: 3.57e+09\n",
      "train R2: 0.916\n"
     ]
    }
   ],
   "source": [
    "print('train MAE: {0:.2e}'.format(mean_absolute_error(y_train, y_train_pred)))\n",
    "print('train MSE: {0:.2e}'.format(mean_squared_error(y_train, y_train_pred)))\n",
    "print('train R2: {0:.3f}'.format(r2_score(y_train, y_train_pred)))"
   ]
  },
  {
   "cell_type": "code",
   "execution_count": 149,
   "metadata": {},
   "outputs": [
    {
     "name": "stdout",
     "output_type": "stream",
     "text": [
      "test MAE: 1.27e+05\n",
      "test MSE: 5.51e+10\n",
      "test R2: 0.362\n"
     ]
    }
   ],
   "source": [
    "print('test MAE: {0:.2e}'.format(mean_absolute_error(y_test, y_test_pred)))\n",
    "print('test MSE: {0:.2e}'.format(mean_squared_error(y_test, y_test_pred)))\n",
    "print('test R2: {0:.3f}'.format(r2_score(y_test, y_test_pred)))"
   ]
  },
  {
   "cell_type": "markdown",
   "metadata": {},
   "source": [
    "model performance (MAE, MSE and R2) in train set much better than test set, indicating overfitting."
   ]
  },
  {
   "cell_type": "code",
   "execution_count": 133,
   "metadata": {},
   "outputs": [],
   "source": [
    "parameters = {\n",
    "    'rf__max_depth': [3, 6, 9, 20, 50, 100], #default is None, which means infinity\n",
    "    'rf__min_samples_leaf': [1, 3, 5, 10, 20],\n",
    "    'rf__min_samples_split': [2, 3, 5, 8]\n",
    "}"
   ]
  },
  {
   "cell_type": "code",
   "execution_count": 134,
   "metadata": {},
   "outputs": [],
   "source": [
    "scorer = make_scorer(mean_squared_error, greater_is_better = False)"
   ]
  },
  {
   "cell_type": "code",
   "execution_count": 135,
   "metadata": {},
   "outputs": [],
   "source": [
    "steps = [\n",
    "    ('tf', Transformer()),\n",
    "    (\"columnDropper\", columnDropTransformer(['height','width', 'depth'])),\n",
    "    ('ctf',cat_transformer),\n",
    "    ('rf', RandomForestRegressor(n_estimators=50,n_jobs=-1)),\n",
    "]\n",
    "model = Pipeline(steps)"
   ]
  },
  {
   "cell_type": "code",
   "execution_count": 136,
   "metadata": {},
   "outputs": [],
   "source": [
    "model_gsv = GridSearchCV(model,\n",
    "                         parameters,\n",
    "                         cv = 3,\n",
    "                         scoring = scorer,\n",
    "                         n_jobs=-1,\n",
    "                         return_train_score=True)"
   ]
  },
  {
   "cell_type": "code",
   "execution_count": 137,
   "metadata": {},
   "outputs": [],
   "source": [
    "model_gsv = model_gsv.fit(X_train, y_train)"
   ]
  },
  {
   "cell_type": "code",
   "execution_count": 138,
   "metadata": {},
   "outputs": [
    {
     "data": {
      "text/plain": [
       "-25662926534.1006"
      ]
     },
     "execution_count": 138,
     "metadata": {},
     "output_type": "execute_result"
    }
   ],
   "source": [
    "model_gsv.best_score_"
   ]
  },
  {
   "cell_type": "code",
   "execution_count": 139,
   "metadata": {},
   "outputs": [
    {
     "data": {
      "text/plain": [
       "{'mean_fit_time': array([0.22090904, 0.23890146, 0.26241048, 0.26908223, 0.31191738,\n",
       "        0.30625176, 0.27441009, 0.21356416, 0.24789866, 0.25204881,\n",
       "        0.27218334, 0.32285293, 0.28151568, 0.24222358, 0.21406921,\n",
       "        0.2727313 , 0.26980082, 0.2920483 , 0.31693848, 0.36028981,\n",
       "        0.29324945, 0.29775405, 0.34131606, 0.38470793, 0.456225  ,\n",
       "        0.519394  , 0.47704832, 0.31524793, 0.43503594, 0.37152267,\n",
       "        0.37235483, 0.49641109, 0.336924  , 0.28995156, 0.32280366,\n",
       "        0.3091197 , 0.33290029, 0.42374476, 0.40817881, 0.40935349,\n",
       "        0.44566305, 0.55123313, 0.47528402, 0.56529005, 0.71448119,\n",
       "        0.65431372, 0.53646564, 0.43347168, 0.49267125, 0.4927845 ,\n",
       "        0.4934655 , 0.63614051, 0.57596143, 0.42941435, 0.36922932,\n",
       "        0.40534091, 0.54296931, 0.5654761 , 0.51511765, 0.42460171,\n",
       "        0.79716301, 0.99570489, 1.28823066, 1.31806461, 1.08819858,\n",
       "        1.05085746, 0.70374648, 0.60975083, 0.59758147, 0.79059219,\n",
       "        0.89828094, 0.82155522, 0.81845895, 0.51429383, 0.56520851,\n",
       "        0.60586826, 0.42091465, 0.50551955, 0.67287779, 0.48757593,\n",
       "        0.96045526, 1.49954279, 1.55889058, 1.44237924, 1.13171093,\n",
       "        1.420415  , 0.9078571 , 0.47294569, 0.8177019 , 0.96922914,\n",
       "        1.05291677, 0.88003087, 0.69597411, 0.44015924, 0.43612687,\n",
       "        0.46470062, 0.53818115, 0.59853045, 0.69982529, 0.51122975,\n",
       "        0.78516285, 1.13308644, 1.45751103, 1.59442226, 1.61921453,\n",
       "        1.56241361, 0.74107671, 0.69997565, 0.83016332, 0.92634702,\n",
       "        1.02736425, 0.97469052, 0.85968248, 0.41351358, 0.45675516,\n",
       "        0.55788986, 0.56494435, 0.62473305, 0.67708047, 0.50503222]),\n",
       " 'std_fit_time': array([0.0147684 , 0.0257675 , 0.04616645, 0.05086638, 0.0320583 ,\n",
       "        0.03457145, 0.03855878, 0.01177418, 0.01293491, 0.0049431 ,\n",
       "        0.02759418, 0.06146486, 0.03997792, 0.01974765, 0.00363522,\n",
       "        0.00665057, 0.02669888, 0.02650183, 0.00573429, 0.03340666,\n",
       "        0.01341913, 0.01656226, 0.04936336, 0.0406555 , 0.02790279,\n",
       "        0.05222801, 0.08368842, 0.04005302, 0.06569299, 0.04736512,\n",
       "        0.03583735, 0.08387189, 0.12334843, 0.03852659, 0.09041759,\n",
       "        0.05863231, 0.0044969 , 0.03570793, 0.10132534, 0.05886671,\n",
       "        0.04128624, 0.07825229, 0.08401682, 0.01529759, 0.08080737,\n",
       "        0.08970863, 0.08270258, 0.05960691, 0.10512144, 0.06434046,\n",
       "        0.09452754, 0.10936559, 0.00458556, 0.10126012, 0.06913403,\n",
       "        0.01513796, 0.04514303, 0.10439331, 0.1366979 , 0.10774647,\n",
       "        0.16463117, 0.18355318, 0.3076754 , 0.07720475, 0.14456703,\n",
       "        0.15830851, 0.1395854 , 0.03578646, 0.00205444, 0.01111764,\n",
       "        0.06483637, 0.01728515, 0.14239521, 0.06884465, 0.03450073,\n",
       "        0.07355825, 0.0624724 , 0.0610555 , 0.03940729, 0.03411414,\n",
       "        0.44832023, 0.00660028, 0.13080192, 0.23021866, 0.09735857,\n",
       "        0.18808147, 0.33901697, 0.01108945, 0.00374149, 0.17684353,\n",
       "        0.01189316, 0.15644897, 0.08528868, 0.09417672, 0.06229894,\n",
       "        0.12802643, 0.04249639, 0.06280337, 0.06260232, 0.119204  ,\n",
       "        0.28762261, 0.141227  , 0.37303322, 0.08468768, 0.01482473,\n",
       "        0.08368748, 0.21566841, 0.24331178, 0.03302748, 0.16743019,\n",
       "        0.17807584, 0.15954223, 0.25542913, 0.09918068, 0.01171028,\n",
       "        0.07983268, 0.1176026 , 0.05189203, 0.10252006, 0.16814422]),\n",
       " 'mean_score_time': array([0.1156892 , 0.11386339, 0.10053309, 0.1080393 , 0.08619626,\n",
       "        0.08886305, 0.09332927, 0.12063209, 0.09863909, 0.0988404 ,\n",
       "        0.09236916, 0.08085799, 0.09153072, 0.09019542, 0.12476055,\n",
       "        0.08855136, 0.09432213, 0.09875385, 0.07518403, 0.09219233,\n",
       "        0.13966322, 0.11892056, 0.13740706, 0.13436341, 0.114187  ,\n",
       "        0.10052315, 0.13902577, 0.08578698, 0.16454538, 0.14753286,\n",
       "        0.11503744, 0.1153957 , 0.11907951, 0.10238496, 0.1532023 ,\n",
       "        0.15058812, 0.1005245 , 0.13972704, 0.13518294, 0.13300912,\n",
       "        0.21339488, 0.24687552, 0.2557133 , 0.22671072, 0.17723028,\n",
       "        0.16005119, 0.22273469, 0.25189853, 0.21289015, 0.21755528,\n",
       "        0.21720203, 0.14018774, 0.12450679, 0.1852138 , 0.14571079,\n",
       "        0.1078589 , 0.15703257, 0.19370635, 0.15119942, 0.43224478,\n",
       "        0.86448391, 0.52833716, 0.50358963, 0.25645971, 0.4201502 ,\n",
       "        0.22361676, 0.28088911, 0.49689412, 0.50622988, 0.39507667,\n",
       "        0.16870284, 0.175035  , 0.15471697, 0.24637453, 0.17419004,\n",
       "        0.1818707 , 0.14777907, 0.18102948, 0.0970095 , 0.50560141,\n",
       "        0.73512975, 0.37874015, 0.24471362, 0.28138455, 0.36689631,\n",
       "        0.19771489, 0.40008362, 0.63364824, 0.38307738, 0.29924067,\n",
       "        0.26789935, 0.21823192, 0.20988369, 0.32143068, 0.25477751,\n",
       "        0.24637492, 0.21373002, 0.18605129, 0.09476248, 0.51764154,\n",
       "        1.06294266, 0.68001954, 0.35715644, 0.18382406, 0.13021104,\n",
       "        0.15516551, 0.42792527, 0.48110096, 0.33957243, 0.3075734 ,\n",
       "        0.19904836, 0.20872132, 0.10586675, 0.27840877, 0.31585375,\n",
       "        0.23706484, 0.21283913, 0.18305866, 0.12569459, 0.07116572]),\n",
       " 'std_score_time': array([0.02460611, 0.01020878, 0.02593485, 0.02864511, 0.02713424,\n",
       "        0.02264793, 0.02115389, 0.00205047, 0.00952999, 0.01120543,\n",
       "        0.00664962, 0.00759196, 0.00571505, 0.0191534 , 0.0244888 ,\n",
       "        0.0037749 , 0.00350345, 0.02515918, 0.00240138, 0.01433424,\n",
       "        0.0443978 , 0.0287774 , 0.01577867, 0.00278404, 0.00385916,\n",
       "        0.00589003, 0.0166334 , 0.00286914, 0.05728955, 0.0361111 ,\n",
       "        0.04038651, 0.03325872, 0.00395817, 0.01136452, 0.02063494,\n",
       "        0.0278621 , 0.00748343, 0.02833326, 0.01034168, 0.0208716 ,\n",
       "        0.04887456, 0.05140915, 0.03521432, 0.00685498, 0.05005338,\n",
       "        0.04904303, 0.09904727, 0.06201344, 0.02684543, 0.01703981,\n",
       "        0.05930602, 0.04696613, 0.00108858, 0.03514192, 0.0556487 ,\n",
       "        0.0420235 , 0.0223014 , 0.06251262, 0.05139356, 0.20064178,\n",
       "        0.20008635, 0.19238645, 0.20544657, 0.00679748, 0.1100271 ,\n",
       "        0.0532694 , 0.10478599, 0.01291886, 0.00741016, 0.01061342,\n",
       "        0.00270991, 0.01325375, 0.01014504, 0.07758536, 0.00402921,\n",
       "        0.01872214, 0.04756475, 0.01699879, 0.01328343, 0.56719365,\n",
       "        0.30334471, 0.01715367, 0.09383802, 0.09328812, 0.06107404,\n",
       "        0.00817639, 0.2694943 , 0.09494747, 0.00163326, 0.07655647,\n",
       "        0.02472461, 0.12791072, 0.06255052, 0.03373945, 0.04239343,\n",
       "        0.04315727, 0.00841874, 0.04623468, 0.01676765, 0.58481739,\n",
       "        0.27395276, 0.14196661, 0.36457197, 0.06037421, 0.0232271 ,\n",
       "        0.06051517, 0.13902909, 0.08586005, 0.11734671, 0.13721362,\n",
       "        0.1444112 , 0.14451952, 0.02900923, 0.01818977, 0.01015518,\n",
       "        0.05808943, 0.07995418, 0.04821763, 0.06193568, 0.04476465]),\n",
       " 'param_rf__max_depth': masked_array(data=[3, 3, 3, 3, 3, 3, 3, 3, 3, 3, 3, 3, 3, 3, 3, 3, 3, 3,\n",
       "                    3, 3, 6, 6, 6, 6, 6, 6, 6, 6, 6, 6, 6, 6, 6, 6, 6, 6,\n",
       "                    6, 6, 6, 6, 9, 9, 9, 9, 9, 9, 9, 9, 9, 9, 9, 9, 9, 9,\n",
       "                    9, 9, 9, 9, 9, 9, 20, 20, 20, 20, 20, 20, 20, 20, 20,\n",
       "                    20, 20, 20, 20, 20, 20, 20, 20, 20, 20, 20, 50, 50, 50,\n",
       "                    50, 50, 50, 50, 50, 50, 50, 50, 50, 50, 50, 50, 50, 50,\n",
       "                    50, 50, 50, 100, 100, 100, 100, 100, 100, 100, 100,\n",
       "                    100, 100, 100, 100, 100, 100, 100, 100, 100, 100, 100,\n",
       "                    100],\n",
       "              mask=[False, False, False, False, False, False, False, False,\n",
       "                    False, False, False, False, False, False, False, False,\n",
       "                    False, False, False, False, False, False, False, False,\n",
       "                    False, False, False, False, False, False, False, False,\n",
       "                    False, False, False, False, False, False, False, False,\n",
       "                    False, False, False, False, False, False, False, False,\n",
       "                    False, False, False, False, False, False, False, False,\n",
       "                    False, False, False, False, False, False, False, False,\n",
       "                    False, False, False, False, False, False, False, False,\n",
       "                    False, False, False, False, False, False, False, False,\n",
       "                    False, False, False, False, False, False, False, False,\n",
       "                    False, False, False, False, False, False, False, False,\n",
       "                    False, False, False, False, False, False, False, False,\n",
       "                    False, False, False, False, False, False, False, False,\n",
       "                    False, False, False, False, False, False, False, False],\n",
       "        fill_value='?',\n",
       "             dtype=object),\n",
       " 'param_rf__min_samples_leaf': masked_array(data=[1, 1, 1, 1, 3, 3, 3, 3, 5, 5, 5, 5, 10, 10, 10, 10, 20,\n",
       "                    20, 20, 20, 1, 1, 1, 1, 3, 3, 3, 3, 5, 5, 5, 5, 10, 10,\n",
       "                    10, 10, 20, 20, 20, 20, 1, 1, 1, 1, 3, 3, 3, 3, 5, 5,\n",
       "                    5, 5, 10, 10, 10, 10, 20, 20, 20, 20, 1, 1, 1, 1, 3, 3,\n",
       "                    3, 3, 5, 5, 5, 5, 10, 10, 10, 10, 20, 20, 20, 20, 1, 1,\n",
       "                    1, 1, 3, 3, 3, 3, 5, 5, 5, 5, 10, 10, 10, 10, 20, 20,\n",
       "                    20, 20, 1, 1, 1, 1, 3, 3, 3, 3, 5, 5, 5, 5, 10, 10, 10,\n",
       "                    10, 20, 20, 20, 20],\n",
       "              mask=[False, False, False, False, False, False, False, False,\n",
       "                    False, False, False, False, False, False, False, False,\n",
       "                    False, False, False, False, False, False, False, False,\n",
       "                    False, False, False, False, False, False, False, False,\n",
       "                    False, False, False, False, False, False, False, False,\n",
       "                    False, False, False, False, False, False, False, False,\n",
       "                    False, False, False, False, False, False, False, False,\n",
       "                    False, False, False, False, False, False, False, False,\n",
       "                    False, False, False, False, False, False, False, False,\n",
       "                    False, False, False, False, False, False, False, False,\n",
       "                    False, False, False, False, False, False, False, False,\n",
       "                    False, False, False, False, False, False, False, False,\n",
       "                    False, False, False, False, False, False, False, False,\n",
       "                    False, False, False, False, False, False, False, False,\n",
       "                    False, False, False, False, False, False, False, False],\n",
       "        fill_value='?',\n",
       "             dtype=object),\n",
       " 'param_rf__min_samples_split': masked_array(data=[2, 3, 5, 8, 2, 3, 5, 8, 2, 3, 5, 8, 2, 3, 5, 8, 2, 3,\n",
       "                    5, 8, 2, 3, 5, 8, 2, 3, 5, 8, 2, 3, 5, 8, 2, 3, 5, 8,\n",
       "                    2, 3, 5, 8, 2, 3, 5, 8, 2, 3, 5, 8, 2, 3, 5, 8, 2, 3,\n",
       "                    5, 8, 2, 3, 5, 8, 2, 3, 5, 8, 2, 3, 5, 8, 2, 3, 5, 8,\n",
       "                    2, 3, 5, 8, 2, 3, 5, 8, 2, 3, 5, 8, 2, 3, 5, 8, 2, 3,\n",
       "                    5, 8, 2, 3, 5, 8, 2, 3, 5, 8, 2, 3, 5, 8, 2, 3, 5, 8,\n",
       "                    2, 3, 5, 8, 2, 3, 5, 8, 2, 3, 5, 8],\n",
       "              mask=[False, False, False, False, False, False, False, False,\n",
       "                    False, False, False, False, False, False, False, False,\n",
       "                    False, False, False, False, False, False, False, False,\n",
       "                    False, False, False, False, False, False, False, False,\n",
       "                    False, False, False, False, False, False, False, False,\n",
       "                    False, False, False, False, False, False, False, False,\n",
       "                    False, False, False, False, False, False, False, False,\n",
       "                    False, False, False, False, False, False, False, False,\n",
       "                    False, False, False, False, False, False, False, False,\n",
       "                    False, False, False, False, False, False, False, False,\n",
       "                    False, False, False, False, False, False, False, False,\n",
       "                    False, False, False, False, False, False, False, False,\n",
       "                    False, False, False, False, False, False, False, False,\n",
       "                    False, False, False, False, False, False, False, False,\n",
       "                    False, False, False, False, False, False, False, False],\n",
       "        fill_value='?',\n",
       "             dtype=object),\n",
       " 'params': [{'rf__max_depth': 3,\n",
       "   'rf__min_samples_leaf': 1,\n",
       "   'rf__min_samples_split': 2},\n",
       "  {'rf__max_depth': 3, 'rf__min_samples_leaf': 1, 'rf__min_samples_split': 3},\n",
       "  {'rf__max_depth': 3, 'rf__min_samples_leaf': 1, 'rf__min_samples_split': 5},\n",
       "  {'rf__max_depth': 3, 'rf__min_samples_leaf': 1, 'rf__min_samples_split': 8},\n",
       "  {'rf__max_depth': 3, 'rf__min_samples_leaf': 3, 'rf__min_samples_split': 2},\n",
       "  {'rf__max_depth': 3, 'rf__min_samples_leaf': 3, 'rf__min_samples_split': 3},\n",
       "  {'rf__max_depth': 3, 'rf__min_samples_leaf': 3, 'rf__min_samples_split': 5},\n",
       "  {'rf__max_depth': 3, 'rf__min_samples_leaf': 3, 'rf__min_samples_split': 8},\n",
       "  {'rf__max_depth': 3, 'rf__min_samples_leaf': 5, 'rf__min_samples_split': 2},\n",
       "  {'rf__max_depth': 3, 'rf__min_samples_leaf': 5, 'rf__min_samples_split': 3},\n",
       "  {'rf__max_depth': 3, 'rf__min_samples_leaf': 5, 'rf__min_samples_split': 5},\n",
       "  {'rf__max_depth': 3, 'rf__min_samples_leaf': 5, 'rf__min_samples_split': 8},\n",
       "  {'rf__max_depth': 3, 'rf__min_samples_leaf': 10, 'rf__min_samples_split': 2},\n",
       "  {'rf__max_depth': 3, 'rf__min_samples_leaf': 10, 'rf__min_samples_split': 3},\n",
       "  {'rf__max_depth': 3, 'rf__min_samples_leaf': 10, 'rf__min_samples_split': 5},\n",
       "  {'rf__max_depth': 3, 'rf__min_samples_leaf': 10, 'rf__min_samples_split': 8},\n",
       "  {'rf__max_depth': 3, 'rf__min_samples_leaf': 20, 'rf__min_samples_split': 2},\n",
       "  {'rf__max_depth': 3, 'rf__min_samples_leaf': 20, 'rf__min_samples_split': 3},\n",
       "  {'rf__max_depth': 3, 'rf__min_samples_leaf': 20, 'rf__min_samples_split': 5},\n",
       "  {'rf__max_depth': 3, 'rf__min_samples_leaf': 20, 'rf__min_samples_split': 8},\n",
       "  {'rf__max_depth': 6, 'rf__min_samples_leaf': 1, 'rf__min_samples_split': 2},\n",
       "  {'rf__max_depth': 6, 'rf__min_samples_leaf': 1, 'rf__min_samples_split': 3},\n",
       "  {'rf__max_depth': 6, 'rf__min_samples_leaf': 1, 'rf__min_samples_split': 5},\n",
       "  {'rf__max_depth': 6, 'rf__min_samples_leaf': 1, 'rf__min_samples_split': 8},\n",
       "  {'rf__max_depth': 6, 'rf__min_samples_leaf': 3, 'rf__min_samples_split': 2},\n",
       "  {'rf__max_depth': 6, 'rf__min_samples_leaf': 3, 'rf__min_samples_split': 3},\n",
       "  {'rf__max_depth': 6, 'rf__min_samples_leaf': 3, 'rf__min_samples_split': 5},\n",
       "  {'rf__max_depth': 6, 'rf__min_samples_leaf': 3, 'rf__min_samples_split': 8},\n",
       "  {'rf__max_depth': 6, 'rf__min_samples_leaf': 5, 'rf__min_samples_split': 2},\n",
       "  {'rf__max_depth': 6, 'rf__min_samples_leaf': 5, 'rf__min_samples_split': 3},\n",
       "  {'rf__max_depth': 6, 'rf__min_samples_leaf': 5, 'rf__min_samples_split': 5},\n",
       "  {'rf__max_depth': 6, 'rf__min_samples_leaf': 5, 'rf__min_samples_split': 8},\n",
       "  {'rf__max_depth': 6, 'rf__min_samples_leaf': 10, 'rf__min_samples_split': 2},\n",
       "  {'rf__max_depth': 6, 'rf__min_samples_leaf': 10, 'rf__min_samples_split': 3},\n",
       "  {'rf__max_depth': 6, 'rf__min_samples_leaf': 10, 'rf__min_samples_split': 5},\n",
       "  {'rf__max_depth': 6, 'rf__min_samples_leaf': 10, 'rf__min_samples_split': 8},\n",
       "  {'rf__max_depth': 6, 'rf__min_samples_leaf': 20, 'rf__min_samples_split': 2},\n",
       "  {'rf__max_depth': 6, 'rf__min_samples_leaf': 20, 'rf__min_samples_split': 3},\n",
       "  {'rf__max_depth': 6, 'rf__min_samples_leaf': 20, 'rf__min_samples_split': 5},\n",
       "  {'rf__max_depth': 6, 'rf__min_samples_leaf': 20, 'rf__min_samples_split': 8},\n",
       "  {'rf__max_depth': 9, 'rf__min_samples_leaf': 1, 'rf__min_samples_split': 2},\n",
       "  {'rf__max_depth': 9, 'rf__min_samples_leaf': 1, 'rf__min_samples_split': 3},\n",
       "  {'rf__max_depth': 9, 'rf__min_samples_leaf': 1, 'rf__min_samples_split': 5},\n",
       "  {'rf__max_depth': 9, 'rf__min_samples_leaf': 1, 'rf__min_samples_split': 8},\n",
       "  {'rf__max_depth': 9, 'rf__min_samples_leaf': 3, 'rf__min_samples_split': 2},\n",
       "  {'rf__max_depth': 9, 'rf__min_samples_leaf': 3, 'rf__min_samples_split': 3},\n",
       "  {'rf__max_depth': 9, 'rf__min_samples_leaf': 3, 'rf__min_samples_split': 5},\n",
       "  {'rf__max_depth': 9, 'rf__min_samples_leaf': 3, 'rf__min_samples_split': 8},\n",
       "  {'rf__max_depth': 9, 'rf__min_samples_leaf': 5, 'rf__min_samples_split': 2},\n",
       "  {'rf__max_depth': 9, 'rf__min_samples_leaf': 5, 'rf__min_samples_split': 3},\n",
       "  {'rf__max_depth': 9, 'rf__min_samples_leaf': 5, 'rf__min_samples_split': 5},\n",
       "  {'rf__max_depth': 9, 'rf__min_samples_leaf': 5, 'rf__min_samples_split': 8},\n",
       "  {'rf__max_depth': 9, 'rf__min_samples_leaf': 10, 'rf__min_samples_split': 2},\n",
       "  {'rf__max_depth': 9, 'rf__min_samples_leaf': 10, 'rf__min_samples_split': 3},\n",
       "  {'rf__max_depth': 9, 'rf__min_samples_leaf': 10, 'rf__min_samples_split': 5},\n",
       "  {'rf__max_depth': 9, 'rf__min_samples_leaf': 10, 'rf__min_samples_split': 8},\n",
       "  {'rf__max_depth': 9, 'rf__min_samples_leaf': 20, 'rf__min_samples_split': 2},\n",
       "  {'rf__max_depth': 9, 'rf__min_samples_leaf': 20, 'rf__min_samples_split': 3},\n",
       "  {'rf__max_depth': 9, 'rf__min_samples_leaf': 20, 'rf__min_samples_split': 5},\n",
       "  {'rf__max_depth': 9, 'rf__min_samples_leaf': 20, 'rf__min_samples_split': 8},\n",
       "  {'rf__max_depth': 20, 'rf__min_samples_leaf': 1, 'rf__min_samples_split': 2},\n",
       "  {'rf__max_depth': 20, 'rf__min_samples_leaf': 1, 'rf__min_samples_split': 3},\n",
       "  {'rf__max_depth': 20, 'rf__min_samples_leaf': 1, 'rf__min_samples_split': 5},\n",
       "  {'rf__max_depth': 20, 'rf__min_samples_leaf': 1, 'rf__min_samples_split': 8},\n",
       "  {'rf__max_depth': 20, 'rf__min_samples_leaf': 3, 'rf__min_samples_split': 2},\n",
       "  {'rf__max_depth': 20, 'rf__min_samples_leaf': 3, 'rf__min_samples_split': 3},\n",
       "  {'rf__max_depth': 20, 'rf__min_samples_leaf': 3, 'rf__min_samples_split': 5},\n",
       "  {'rf__max_depth': 20, 'rf__min_samples_leaf': 3, 'rf__min_samples_split': 8},\n",
       "  {'rf__max_depth': 20, 'rf__min_samples_leaf': 5, 'rf__min_samples_split': 2},\n",
       "  {'rf__max_depth': 20, 'rf__min_samples_leaf': 5, 'rf__min_samples_split': 3},\n",
       "  {'rf__max_depth': 20, 'rf__min_samples_leaf': 5, 'rf__min_samples_split': 5},\n",
       "  {'rf__max_depth': 20, 'rf__min_samples_leaf': 5, 'rf__min_samples_split': 8},\n",
       "  {'rf__max_depth': 20,\n",
       "   'rf__min_samples_leaf': 10,\n",
       "   'rf__min_samples_split': 2},\n",
       "  {'rf__max_depth': 20,\n",
       "   'rf__min_samples_leaf': 10,\n",
       "   'rf__min_samples_split': 3},\n",
       "  {'rf__max_depth': 20,\n",
       "   'rf__min_samples_leaf': 10,\n",
       "   'rf__min_samples_split': 5},\n",
       "  {'rf__max_depth': 20,\n",
       "   'rf__min_samples_leaf': 10,\n",
       "   'rf__min_samples_split': 8},\n",
       "  {'rf__max_depth': 20,\n",
       "   'rf__min_samples_leaf': 20,\n",
       "   'rf__min_samples_split': 2},\n",
       "  {'rf__max_depth': 20,\n",
       "   'rf__min_samples_leaf': 20,\n",
       "   'rf__min_samples_split': 3},\n",
       "  {'rf__max_depth': 20,\n",
       "   'rf__min_samples_leaf': 20,\n",
       "   'rf__min_samples_split': 5},\n",
       "  {'rf__max_depth': 20,\n",
       "   'rf__min_samples_leaf': 20,\n",
       "   'rf__min_samples_split': 8},\n",
       "  {'rf__max_depth': 50, 'rf__min_samples_leaf': 1, 'rf__min_samples_split': 2},\n",
       "  {'rf__max_depth': 50, 'rf__min_samples_leaf': 1, 'rf__min_samples_split': 3},\n",
       "  {'rf__max_depth': 50, 'rf__min_samples_leaf': 1, 'rf__min_samples_split': 5},\n",
       "  {'rf__max_depth': 50, 'rf__min_samples_leaf': 1, 'rf__min_samples_split': 8},\n",
       "  {'rf__max_depth': 50, 'rf__min_samples_leaf': 3, 'rf__min_samples_split': 2},\n",
       "  {'rf__max_depth': 50, 'rf__min_samples_leaf': 3, 'rf__min_samples_split': 3},\n",
       "  {'rf__max_depth': 50, 'rf__min_samples_leaf': 3, 'rf__min_samples_split': 5},\n",
       "  {'rf__max_depth': 50, 'rf__min_samples_leaf': 3, 'rf__min_samples_split': 8},\n",
       "  {'rf__max_depth': 50, 'rf__min_samples_leaf': 5, 'rf__min_samples_split': 2},\n",
       "  {'rf__max_depth': 50, 'rf__min_samples_leaf': 5, 'rf__min_samples_split': 3},\n",
       "  {'rf__max_depth': 50, 'rf__min_samples_leaf': 5, 'rf__min_samples_split': 5},\n",
       "  {'rf__max_depth': 50, 'rf__min_samples_leaf': 5, 'rf__min_samples_split': 8},\n",
       "  {'rf__max_depth': 50,\n",
       "   'rf__min_samples_leaf': 10,\n",
       "   'rf__min_samples_split': 2},\n",
       "  {'rf__max_depth': 50,\n",
       "   'rf__min_samples_leaf': 10,\n",
       "   'rf__min_samples_split': 3},\n",
       "  {'rf__max_depth': 50,\n",
       "   'rf__min_samples_leaf': 10,\n",
       "   'rf__min_samples_split': 5},\n",
       "  {'rf__max_depth': 50,\n",
       "   'rf__min_samples_leaf': 10,\n",
       "   'rf__min_samples_split': 8},\n",
       "  {'rf__max_depth': 50,\n",
       "   'rf__min_samples_leaf': 20,\n",
       "   'rf__min_samples_split': 2},\n",
       "  {'rf__max_depth': 50,\n",
       "   'rf__min_samples_leaf': 20,\n",
       "   'rf__min_samples_split': 3},\n",
       "  {'rf__max_depth': 50,\n",
       "   'rf__min_samples_leaf': 20,\n",
       "   'rf__min_samples_split': 5},\n",
       "  {'rf__max_depth': 50,\n",
       "   'rf__min_samples_leaf': 20,\n",
       "   'rf__min_samples_split': 8},\n",
       "  {'rf__max_depth': 100,\n",
       "   'rf__min_samples_leaf': 1,\n",
       "   'rf__min_samples_split': 2},\n",
       "  {'rf__max_depth': 100,\n",
       "   'rf__min_samples_leaf': 1,\n",
       "   'rf__min_samples_split': 3},\n",
       "  {'rf__max_depth': 100,\n",
       "   'rf__min_samples_leaf': 1,\n",
       "   'rf__min_samples_split': 5},\n",
       "  {'rf__max_depth': 100,\n",
       "   'rf__min_samples_leaf': 1,\n",
       "   'rf__min_samples_split': 8},\n",
       "  {'rf__max_depth': 100,\n",
       "   'rf__min_samples_leaf': 3,\n",
       "   'rf__min_samples_split': 2},\n",
       "  {'rf__max_depth': 100,\n",
       "   'rf__min_samples_leaf': 3,\n",
       "   'rf__min_samples_split': 3},\n",
       "  {'rf__max_depth': 100,\n",
       "   'rf__min_samples_leaf': 3,\n",
       "   'rf__min_samples_split': 5},\n",
       "  {'rf__max_depth': 100,\n",
       "   'rf__min_samples_leaf': 3,\n",
       "   'rf__min_samples_split': 8},\n",
       "  {'rf__max_depth': 100,\n",
       "   'rf__min_samples_leaf': 5,\n",
       "   'rf__min_samples_split': 2},\n",
       "  {'rf__max_depth': 100,\n",
       "   'rf__min_samples_leaf': 5,\n",
       "   'rf__min_samples_split': 3},\n",
       "  {'rf__max_depth': 100,\n",
       "   'rf__min_samples_leaf': 5,\n",
       "   'rf__min_samples_split': 5},\n",
       "  {'rf__max_depth': 100,\n",
       "   'rf__min_samples_leaf': 5,\n",
       "   'rf__min_samples_split': 8},\n",
       "  {'rf__max_depth': 100,\n",
       "   'rf__min_samples_leaf': 10,\n",
       "   'rf__min_samples_split': 2},\n",
       "  {'rf__max_depth': 100,\n",
       "   'rf__min_samples_leaf': 10,\n",
       "   'rf__min_samples_split': 3},\n",
       "  {'rf__max_depth': 100,\n",
       "   'rf__min_samples_leaf': 10,\n",
       "   'rf__min_samples_split': 5},\n",
       "  {'rf__max_depth': 100,\n",
       "   'rf__min_samples_leaf': 10,\n",
       "   'rf__min_samples_split': 8},\n",
       "  {'rf__max_depth': 100,\n",
       "   'rf__min_samples_leaf': 20,\n",
       "   'rf__min_samples_split': 2},\n",
       "  {'rf__max_depth': 100,\n",
       "   'rf__min_samples_leaf': 20,\n",
       "   'rf__min_samples_split': 3},\n",
       "  {'rf__max_depth': 100,\n",
       "   'rf__min_samples_leaf': 20,\n",
       "   'rf__min_samples_split': 5},\n",
       "  {'rf__max_depth': 100,\n",
       "   'rf__min_samples_leaf': 20,\n",
       "   'rf__min_samples_split': 8}],\n",
       " 'split0_test_score': array([-2.49932832e+10, -2.48082330e+10, -2.51363447e+10, -2.52007418e+10,\n",
       "        -2.50679256e+10, -2.51250504e+10, -2.51710767e+10, -2.48475334e+10,\n",
       "        -2.50525800e+10, -2.51122470e+10, -2.49386291e+10, -2.51619417e+10,\n",
       "        -2.51957220e+10, -2.51796528e+10, -2.53369543e+10, -2.50897869e+10,\n",
       "        -2.54448261e+10, -2.53741666e+10, -2.54715991e+10, -2.54529110e+10,\n",
       "        -2.39904342e+10, -2.41498615e+10, -2.40023798e+10, -2.40503380e+10,\n",
       "        -2.42436941e+10, -2.43331930e+10, -2.41116788e+10, -2.38968707e+10,\n",
       "        -2.43085878e+10, -2.43095842e+10, -2.39888400e+10, -2.40577714e+10,\n",
       "        -2.44274687e+10, -2.43070042e+10, -2.41130261e+10, -2.45758145e+10,\n",
       "        -2.48500571e+10, -2.44452743e+10, -2.45396923e+10, -2.45707950e+10,\n",
       "        -2.48771492e+10, -2.46433302e+10, -2.41626724e+10, -2.43363351e+10,\n",
       "        -2.48403012e+10, -2.51562773e+10, -2.44422765e+10, -2.45160360e+10,\n",
       "        -2.48286059e+10, -2.47481858e+10, -2.43567168e+10, -2.47378513e+10,\n",
       "        -2.45930031e+10, -2.45525903e+10, -2.45080141e+10, -2.42801448e+10,\n",
       "        -2.47158217e+10, -2.44431456e+10, -2.46561103e+10, -2.44013594e+10,\n",
       "        -2.64807376e+10, -2.60224757e+10, -2.58687856e+10, -2.54196087e+10,\n",
       "        -2.57009563e+10, -2.53759979e+10, -2.57796491e+10, -2.49763403e+10,\n",
       "        -2.51408610e+10, -2.49621753e+10, -2.49295565e+10, -2.49126114e+10,\n",
       "        -2.45711069e+10, -2.44648078e+10, -2.47882474e+10, -2.46438251e+10,\n",
       "        -2.46281578e+10, -2.42023450e+10, -2.47577458e+10, -2.45180706e+10,\n",
       "        -2.57955709e+10, -2.60215681e+10, -2.55855661e+10, -2.49509497e+10,\n",
       "        -2.56291516e+10, -2.53896382e+10, -2.52325608e+10, -2.49964713e+10,\n",
       "        -2.47946362e+10, -2.48597101e+10, -2.49594046e+10, -2.49744112e+10,\n",
       "        -2.43156573e+10, -2.48211413e+10, -2.45445348e+10, -2.42516101e+10,\n",
       "        -2.45389534e+10, -2.45416651e+10, -2.45714503e+10, -2.45033561e+10,\n",
       "        -2.69761583e+10, -2.58682110e+10, -2.54227299e+10, -2.47886465e+10,\n",
       "        -2.51497456e+10, -2.56809218e+10, -2.54498432e+10, -2.46486095e+10,\n",
       "        -2.49947780e+10, -2.51182885e+10, -2.51071587e+10, -2.49439493e+10,\n",
       "        -2.45305729e+10, -2.47475320e+10, -2.43946814e+10, -2.48048212e+10,\n",
       "        -2.44884535e+10, -2.46045678e+10, -2.47518974e+10, -2.45477250e+10]),\n",
       " 'split1_test_score': array([-2.40782364e+10, -2.38505783e+10, -2.35113809e+10, -2.33445954e+10,\n",
       "        -2.30180202e+10, -2.30515260e+10, -2.33104875e+10, -2.31556603e+10,\n",
       "        -2.28822595e+10, -2.28601418e+10, -2.27110123e+10, -2.28860007e+10,\n",
       "        -2.30328329e+10, -2.29086537e+10, -2.30212813e+10, -2.31082491e+10,\n",
       "        -2.34155783e+10, -2.34968251e+10, -2.35776743e+10, -2.33842478e+10,\n",
       "        -2.30511313e+10, -2.25726200e+10, -2.25395748e+10, -2.25117897e+10,\n",
       "        -2.19653109e+10, -2.19605909e+10, -2.20285359e+10, -2.18968732e+10,\n",
       "        -2.17736123e+10, -2.17093690e+10, -2.15755702e+10, -2.20936365e+10,\n",
       "        -2.21003788e+10, -2.20274157e+10, -2.16447824e+10, -2.24047109e+10,\n",
       "        -2.25773557e+10, -2.25232281e+10, -2.29539010e+10, -2.26793222e+10,\n",
       "        -2.28450397e+10, -2.27075870e+10, -2.26268712e+10, -2.23118985e+10,\n",
       "        -2.21919072e+10, -2.17582530e+10, -2.17732436e+10, -2.17376546e+10,\n",
       "        -2.17385765e+10, -2.20027925e+10, -2.20303191e+10, -2.19475723e+10,\n",
       "        -2.23007118e+10, -2.18408284e+10, -2.19079376e+10, -2.20757003e+10,\n",
       "        -2.27201216e+10, -2.28202282e+10, -2.28172699e+10, -2.28462444e+10,\n",
       "        -2.34237531e+10, -2.44251222e+10, -2.37500802e+10, -2.26118419e+10,\n",
       "        -2.23013629e+10, -2.24583807e+10, -2.24944910e+10, -2.24147600e+10,\n",
       "        -2.25553079e+10, -2.20422121e+10, -2.19559102e+10, -2.20780221e+10,\n",
       "        -2.20796482e+10, -2.21502728e+10, -2.20760128e+10, -2.21267228e+10,\n",
       "        -2.26182030e+10, -2.27791241e+10, -2.26000022e+10, -2.26803002e+10,\n",
       "        -2.35559143e+10, -2.33787372e+10, -2.32627250e+10, -2.30290993e+10,\n",
       "        -2.23906755e+10, -2.23093553e+10, -2.22805228e+10, -2.24874880e+10,\n",
       "        -2.20622621e+10, -2.22986291e+10, -2.25356914e+10, -2.20595320e+10,\n",
       "        -2.24847048e+10, -2.20561238e+10, -2.19999282e+10, -2.20050474e+10,\n",
       "        -2.28108097e+10, -2.28734825e+10, -2.28334584e+10, -2.28176939e+10,\n",
       "        -2.44288065e+10, -2.44907048e+10, -2.35137265e+10, -2.28837420e+10,\n",
       "        -2.25069927e+10, -2.24638621e+10, -2.24745223e+10, -2.24684147e+10,\n",
       "        -2.20093014e+10, -2.19247818e+10, -2.24397195e+10, -2.22070512e+10,\n",
       "        -2.21352599e+10, -2.20630304e+10, -2.20805094e+10, -2.20464530e+10,\n",
       "        -2.27729349e+10, -2.26825073e+10, -2.26747735e+10, -2.25906271e+10]),\n",
       " 'split2_test_score': array([-3.35273546e+10, -3.35698746e+10, -3.29670624e+10, -3.31693008e+10,\n",
       "        -3.29089637e+10, -3.27685828e+10, -3.34061153e+10, -3.30403751e+10,\n",
       "        -3.25811855e+10, -3.23705435e+10, -3.24202944e+10, -3.23190618e+10,\n",
       "        -3.19495560e+10, -3.18002690e+10, -3.19767025e+10, -3.22972948e+10,\n",
       "        -3.25058420e+10, -3.24330526e+10, -3.25947210e+10, -3.26690176e+10,\n",
       "        -3.48165537e+10, -3.39931000e+10, -3.40086997e+10, -3.31604410e+10,\n",
       "        -3.28892547e+10, -3.20434889e+10, -3.29824749e+10, -3.24560362e+10,\n",
       "        -3.17559459e+10, -3.15075329e+10, -3.17572573e+10, -3.10784516e+10,\n",
       "        -3.17085807e+10, -3.14436677e+10, -3.12309711e+10, -3.10945173e+10,\n",
       "        -3.21313405e+10, -3.20488967e+10, -3.21055232e+10, -3.22149382e+10,\n",
       "        -3.59437238e+10, -3.67292051e+10, -3.36259388e+10, -3.28665753e+10,\n",
       "        -3.16761670e+10, -3.16273181e+10, -3.22699818e+10, -3.23524176e+10,\n",
       "        -3.13754009e+10, -3.13680503e+10, -3.12211460e+10, -3.14119771e+10,\n",
       "        -3.09432906e+10, -3.06151539e+10, -3.08411521e+10, -3.09104652e+10,\n",
       "        -3.15968168e+10, -3.16150665e+10, -3.14821663e+10, -3.19405036e+10,\n",
       "        -3.71865639e+10, -3.74989115e+10, -3.47613409e+10, -3.33280501e+10,\n",
       "        -3.24499799e+10, -3.27678965e+10, -3.34291496e+10, -3.22364853e+10,\n",
       "        -3.17185490e+10, -3.08554031e+10, -3.13778597e+10, -3.16243054e+10,\n",
       "        -3.05045504e+10, -3.06300240e+10, -3.14262201e+10, -3.04197439e+10,\n",
       "        -3.19891583e+10, -3.17229621e+10, -3.16682327e+10, -3.15188721e+10,\n",
       "        -3.76740720e+10, -3.66204451e+10, -3.59872110e+10, -3.36956824e+10,\n",
       "        -3.30875798e+10, -3.25284108e+10, -3.23127019e+10, -3.24407697e+10,\n",
       "        -3.07990163e+10, -3.13238513e+10, -3.14458587e+10, -3.17340671e+10,\n",
       "        -3.11224922e+10, -3.10890534e+10, -3.10028225e+10, -3.08766432e+10,\n",
       "        -3.17335681e+10, -3.18140909e+10, -3.16337000e+10, -3.14837457e+10,\n",
       "        -3.67094696e+10, -3.55599349e+10, -3.51581446e+10, -3.38243345e+10,\n",
       "        -3.33877560e+10, -3.24121021e+10, -3.23628643e+10, -3.28875059e+10,\n",
       "        -3.15204000e+10, -3.07521243e+10, -3.19000439e+10, -3.13314899e+10,\n",
       "        -3.09310308e+10, -3.09345637e+10, -3.10425670e+10, -3.09796762e+10,\n",
       "        -3.16676714e+10, -3.15258440e+10, -3.16687087e+10, -3.17342017e+10]),\n",
       " 'mean_test_score': array([-2.75329581e+10, -2.74095619e+10, -2.72049293e+10, -2.72382127e+10,\n",
       "        -2.69983032e+10, -2.69817197e+10, -2.72958932e+10, -2.70145229e+10,\n",
       "        -2.68386750e+10, -2.67809775e+10, -2.66899786e+10, -2.67890014e+10,\n",
       "        -2.67260370e+10, -2.66295251e+10, -2.67783127e+10, -2.68317769e+10,\n",
       "        -2.71220821e+10, -2.71013481e+10, -2.72146648e+10, -2.71687254e+10,\n",
       "        -2.72860397e+10, -2.69051938e+10, -2.68502181e+10, -2.65741896e+10,\n",
       "        -2.63660866e+10, -2.61124243e+10, -2.63742299e+10, -2.60832600e+10,\n",
       "        -2.59460486e+10, -2.58421620e+10, -2.57738891e+10, -2.57432865e+10,\n",
       "        -2.60788094e+10, -2.59260292e+10, -2.56629265e+10, -2.60250143e+10,\n",
       "        -2.65195844e+10, -2.63391330e+10, -2.65330388e+10, -2.64883518e+10,\n",
       "        -2.78886376e+10, -2.80267074e+10, -2.68051608e+10, -2.65049363e+10,\n",
       "        -2.62361251e+10, -2.61806161e+10, -2.61618340e+10, -2.62020361e+10,\n",
       "        -2.59808611e+10, -2.60396762e+10, -2.58693940e+10, -2.60324669e+10,\n",
       "        -2.59456685e+10, -2.56695242e+10, -2.57523680e+10, -2.57554368e+10,\n",
       "        -2.63442534e+10, -2.62928134e+10, -2.63185155e+10, -2.63960358e+10,\n",
       "        -2.90303515e+10, -2.93155032e+10, -2.81267356e+10, -2.71198336e+10,\n",
       "        -2.68174330e+10, -2.68674250e+10, -2.72344299e+10, -2.65425286e+10,\n",
       "        -2.64715726e+10, -2.59532635e+10, -2.60877755e+10, -2.62049796e+10,\n",
       "        -2.57184352e+10, -2.57483682e+10, -2.60968268e+10, -2.57300973e+10,\n",
       "        -2.64118397e+10, -2.62348104e+10, -2.63419936e+10, -2.62390810e+10,\n",
       "        -2.90085191e+10, -2.86735835e+10, -2.82785007e+10, -2.72252438e+10,\n",
       "        -2.70358023e+10, -2.67424681e+10, -2.66085952e+10, -2.66415763e+10,\n",
       "        -2.58853049e+10, -2.61607302e+10, -2.63136516e+10, -2.62560035e+10,\n",
       "        -2.59742848e+10, -2.59887728e+10, -2.58490952e+10, -2.57111002e+10,\n",
       "        -2.63611104e+10, -2.64097462e+10, -2.63462029e+10, -2.62682652e+10,\n",
       "        -2.93714782e+10, -2.86396169e+10, -2.80315337e+10, -2.71655744e+10,\n",
       "        -2.70148314e+10, -2.68522953e+10, -2.67624099e+10, -2.66681767e+10,\n",
       "        -2.61748265e+10, -2.59317315e+10, -2.64823074e+10, -2.61608301e+10,\n",
       "        -2.58656212e+10, -2.59150420e+10, -2.58392526e+10, -2.59436501e+10,\n",
       "        -2.63096866e+10, -2.62709730e+10, -2.63651265e+10, -2.62908513e+10]),\n",
       " 'std_test_score': array([4.25510832e+09, 4.37350847e+09, 4.12809556e+09, 4.26182078e+09,\n",
       "        4.26242961e+09, 4.17857343e+09, 4.38684084e+09, 4.31654025e+09,\n",
       "        4.15611138e+09, 4.05794950e+09, 4.15274676e+09, 4.01921661e+09,\n",
       "        3.79766467e+09, 3.77198472e+09, 3.79543828e+09, 3.94846278e+09,\n",
       "        3.89599060e+09, 3.84719876e+09, 3.88205196e+09, 3.97992899e+09,\n",
       "        5.33866728e+09, 5.05310021e+09, 5.09691698e+09, 4.69934847e+09,\n",
       "        4.70542591e+09, 4.30429678e+09, 4.74949457e+09, 4.57960733e+09,\n",
       "        4.23656343e+09, 4.14428118e+09, 4.34407554e+09, 3.85680754e+09,\n",
       "        4.09264225e+09, 4.01101665e+09, 4.06410279e+09, 3.69263399e+09,\n",
       "        4.07513987e+09, 4.11295645e+09, 3.99317086e+09, 4.12227777e+09,\n",
       "        5.75590584e+09, 6.20413168e+09, 4.86360159e+09, 4.57365093e+09,\n",
       "        3.99575100e+09, 4.09361812e+09, 4.45443874e+09, 4.49445925e+09,\n",
       "        4.01769961e+09, 3.93090100e+09, 3.90162095e+09, 3.97079014e+09,\n",
       "        3.65566409e+09, 3.66813788e+09, 3.75161234e+09, 3.75460894e+09,\n",
       "        3.80243534e+09, 3.82127802e+09, 3.72762666e+09, 3.97160236e+09,\n",
       "        5.90079876e+09, 5.82317291e+09, 4.77044505e+09, 4.53705877e+09,\n",
       "        4.21770055e+09, 4.33895496e+09, 4.58104647e+09, 4.15983021e+09,\n",
       "        3.85740343e+09, 3.66558549e+09, 3.93271631e+09, 4.00296081e+09,\n",
       "        3.53383793e+09, 3.57884437e+09, 3.92775416e+09, 3.47165092e+09,\n",
       "        4.02822057e+09, 3.92396452e+09, 3.86786607e+09, 3.80801749e+09,\n",
       "        6.19531391e+09, 5.72192253e+09, 5.53275451e+09, 4.64207634e+09,\n",
       "        4.47883466e+09, 4.28017799e+09, 4.20961258e+09, 4.22664028e+09,\n",
       "        3.64919051e+09, 3.79764390e+09, 3.76149428e+09, 4.05224353e+09,\n",
       "        3.71628186e+09, 3.77897487e+09, 3.78940933e+09, 3.76597812e+09,\n",
       "        3.86385787e+09, 3.88165898e+09, 3.80555498e+09, 3.75155895e+09,\n",
       "        5.29193344e+09, 4.92561211e+09, 5.09918365e+09, 4.77224481e+09,\n",
       "        4.63369265e+09, 4.14495330e+09, 4.14221762e+09, 4.48689604e+09,\n",
       "        3.97153497e+09, 3.64936169e+09, 3.98268833e+09, 3.82312654e+09,\n",
       "        3.71287510e+09, 3.71468574e+09, 3.79865844e+09, 3.73481977e+09,\n",
       "        3.85285625e+09, 3.79770375e+09, 3.84487524e+09, 3.93108182e+09]),\n",
       " 'rank_test_score': array([109, 108, 101, 105,  92,  91, 107,  93,  86,  81,  76,  82,  77,\n",
       "         73,  80,  85,  98,  96, 102, 100, 106,  90,  87,  71,  59,  34,\n",
       "         60,  31,  22,  12,  10,   6,  30,  18,   1,  27,  68,  53,  69,\n",
       "         66, 110, 111,  83,  67,  43,  39,  37,  40,  25,  29,  15,  28,\n",
       "         21,   2,   8,   9,  55,  49,  52,  61, 118, 119, 113,  97,  84,\n",
       "         89, 104,  70,  64,  23,  32,  41,   4,   7,  33,   5,  63,  42,\n",
       "         54,  44, 117, 116, 114, 103,  95,  78,  72,  74,  16,  35,  51,\n",
       "         45,  24,  26,  13,   3,  57,  62,  56,  46, 120, 115, 112,  99,\n",
       "         94,  88,  79,  75,  38,  19,  65,  36,  14,  17,  11,  20,  50,\n",
       "         47,  58,  48]),\n",
       " 'split0_train_score': array([-2.39144092e+10, -2.37838792e+10, -2.41023637e+10, -2.39802840e+10,\n",
       "        -2.41866342e+10, -2.39922099e+10, -2.40224382e+10, -2.41584484e+10,\n",
       "        -2.40943132e+10, -2.43021595e+10, -2.41005898e+10, -2.41878000e+10,\n",
       "        -2.49950210e+10, -2.48933590e+10, -2.51453552e+10, -2.47717610e+10,\n",
       "        -2.54843670e+10, -2.56607474e+10, -2.57703967e+10, -2.55952090e+10,\n",
       "        -1.65805777e+10, -1.67877097e+10, -1.72986103e+10, -1.81784842e+10,\n",
       "        -1.84788349e+10, -1.83845549e+10, -1.84062320e+10, -1.86224783e+10,\n",
       "        -1.96786214e+10, -1.95474137e+10, -1.95294817e+10, -1.93651740e+10,\n",
       "        -2.17462549e+10, -2.15053365e+10, -2.15371217e+10, -2.15050495e+10,\n",
       "        -2.34816391e+10, -2.35354797e+10, -2.35332480e+10, -2.35572677e+10,\n",
       "        -1.07742059e+10, -1.13864564e+10, -1.27374584e+10, -1.43897355e+10,\n",
       "        -1.51046216e+10, -1.49870280e+10, -1.48992778e+10, -1.53297931e+10,\n",
       "        -1.68233236e+10, -1.72640411e+10, -1.71628157e+10, -1.71676889e+10,\n",
       "        -2.01773895e+10, -2.01667641e+10, -2.01239272e+10, -2.01204655e+10,\n",
       "        -2.29606059e+10, -2.30668172e+10, -2.31423536e+10, -2.28451077e+10,\n",
       "        -4.19232471e+09, -4.95199862e+09, -6.97297464e+09, -9.68904506e+09,\n",
       "        -1.14986765e+10, -1.14794786e+10, -1.16808653e+10, -1.26699872e+10,\n",
       "        -1.54888071e+10, -1.54970937e+10, -1.52578060e+10, -1.54889804e+10,\n",
       "        -1.97242244e+10, -1.98923756e+10, -1.99465871e+10, -1.98634237e+10,\n",
       "        -2.29256860e+10, -2.29588497e+10, -2.29429227e+10, -2.28810402e+10,\n",
       "        -3.77647183e+09, -4.60024767e+09, -7.06757949e+09, -9.62671435e+09,\n",
       "        -1.17535076e+10, -1.17576357e+10, -1.17101950e+10, -1.27627421e+10,\n",
       "        -1.52519405e+10, -1.55270885e+10, -1.55444127e+10, -1.57224866e+10,\n",
       "        -1.97054790e+10, -1.97839694e+10, -1.97124261e+10, -1.97100369e+10,\n",
       "        -2.29908433e+10, -2.28866299e+10, -2.29589547e+10, -2.30075610e+10,\n",
       "        -3.72267869e+09, -4.65319534e+09, -7.03795684e+09, -9.46909421e+09,\n",
       "        -1.16515648e+10, -1.16839412e+10, -1.16365984e+10, -1.27765896e+10,\n",
       "        -1.53535859e+10, -1.55334403e+10, -1.54491107e+10, -1.53992700e+10,\n",
       "        -1.98448564e+10, -1.98452345e+10, -1.95285974e+10, -1.98350865e+10,\n",
       "        -2.29242166e+10, -2.28249399e+10, -2.28594431e+10, -2.28466887e+10]),\n",
       " 'split1_train_score': array([-2.51235413e+10, -2.51601856e+10, -2.49758121e+10, -2.48003115e+10,\n",
       "        -2.50494166e+10, -2.51744415e+10, -2.53264211e+10, -2.52243610e+10,\n",
       "        -2.53866126e+10, -2.53338659e+10, -2.54007124e+10, -2.54300477e+10,\n",
       "        -2.59812361e+10, -2.59177965e+10, -2.60154610e+10, -2.60644035e+10,\n",
       "        -2.66761113e+10, -2.67785520e+10, -2.67135974e+10, -2.67474657e+10,\n",
       "        -1.64885178e+10, -1.67413857e+10, -1.75447213e+10, -1.82652860e+10,\n",
       "        -1.90106058e+10, -1.90542628e+10, -1.89182914e+10, -1.90884352e+10,\n",
       "        -2.02959771e+10, -2.03367863e+10, -2.04835594e+10, -2.04063207e+10,\n",
       "        -2.25150608e+10, -2.26493167e+10, -2.25652563e+10, -2.26511343e+10,\n",
       "        -2.44275159e+10, -2.44251848e+10, -2.45926884e+10, -2.42758306e+10,\n",
       "        -1.10868822e+10, -1.15321371e+10, -1.33668261e+10, -1.46133758e+10,\n",
       "        -1.52585693e+10, -1.54587364e+10, -1.54944097e+10, -1.60197652e+10,\n",
       "        -1.74492587e+10, -1.78062607e+10, -1.78513103e+10, -1.78384771e+10,\n",
       "        -2.12092623e+10, -2.10231283e+10, -2.12530047e+10, -2.10385163e+10,\n",
       "        -2.40733042e+10, -2.40051668e+10, -2.40522595e+10, -2.39875742e+10,\n",
       "        -4.13702504e+09, -5.32346138e+09, -7.57539104e+09, -1.02806859e+10,\n",
       "        -1.20787208e+10, -1.24150798e+10, -1.23387002e+10, -1.32184073e+10,\n",
       "        -1.63199125e+10, -1.62189987e+10, -1.60358960e+10, -1.61646873e+10,\n",
       "        -2.08208452e+10, -2.08598046e+10, -2.07210754e+10, -2.07188418e+10,\n",
       "        -2.38704591e+10, -2.38022322e+10, -2.37558841e+10, -2.37428479e+10,\n",
       "        -3.90970851e+09, -4.98693779e+09, -7.56364115e+09, -9.88865150e+09,\n",
       "        -1.20100506e+10, -1.22361845e+10, -1.23960446e+10, -1.32992195e+10,\n",
       "        -1.60755676e+10, -1.63526449e+10, -1.62804811e+10, -1.62985355e+10,\n",
       "        -2.06786234e+10, -2.06316626e+10, -2.08574080e+10, -2.06519469e+10,\n",
       "        -2.39353435e+10, -2.38016596e+10, -2.38436953e+10, -2.37494646e+10,\n",
       "        -4.48840890e+09, -5.08289877e+09, -7.51474522e+09, -1.00363101e+10,\n",
       "        -1.23230105e+10, -1.20870910e+10, -1.21166927e+10, -1.33195088e+10,\n",
       "        -1.63127560e+10, -1.60129682e+10, -1.61530156e+10, -1.60615999e+10,\n",
       "        -2.07790282e+10, -2.08016756e+10, -2.07648931e+10, -2.07499145e+10,\n",
       "        -2.38389287e+10, -2.37206242e+10, -2.38460116e+10, -2.35894529e+10]),\n",
       " 'split2_train_score': array([-2.13637085e+10, -2.10045192e+10, -2.09508755e+10, -2.12517969e+10,\n",
       "        -2.15235904e+10, -2.15309349e+10, -2.14760520e+10, -2.13374544e+10,\n",
       "        -2.18814802e+10, -2.17058254e+10, -2.17239433e+10, -2.18107616e+10,\n",
       "        -2.23357704e+10, -2.23051071e+10, -2.22795498e+10, -2.24547999e+10,\n",
       "        -2.27674488e+10, -2.27669807e+10, -2.28226393e+10, -2.26817445e+10,\n",
       "        -1.41224364e+10, -1.44153761e+10, -1.55286215e+10, -1.65809837e+10,\n",
       "        -1.67038146e+10, -1.68179952e+10, -1.67268057e+10, -1.71657626e+10,\n",
       "        -1.80005085e+10, -1.82576717e+10, -1.79122181e+10, -1.78353314e+10,\n",
       "        -1.96201807e+10, -1.96570805e+10, -1.96496254e+10, -1.96957503e+10,\n",
       "        -2.10449472e+10, -2.12245822e+10, -2.10717322e+10, -2.10299349e+10,\n",
       "        -9.01146905e+09, -9.79194130e+09, -1.15363721e+10, -1.27569846e+10,\n",
       "        -1.37647733e+10, -1.37834711e+10, -1.36910901e+10, -1.45229661e+10,\n",
       "        -1.56971869e+10, -1.57824977e+10, -1.57342958e+10, -1.57674245e+10,\n",
       "        -1.85273522e+10, -1.84878441e+10, -1.85879903e+10, -1.86073995e+10,\n",
       "        -2.06441351e+10, -2.06368989e+10, -2.05869432e+10, -2.06590620e+10,\n",
       "        -3.64434573e+09, -4.92313844e+09, -6.74519086e+09, -9.46072497e+09,\n",
       "        -1.09907289e+10, -1.08868761e+10, -1.09285787e+10, -1.18646510e+10,\n",
       "        -1.44822227e+10, -1.45198973e+10, -1.44847772e+10, -1.42848823e+10,\n",
       "        -1.79564456e+10, -1.80650273e+10, -1.82057891e+10, -1.81402027e+10,\n",
       "        -2.06268093e+10, -2.04211979e+10, -2.05589497e+10, -2.03936923e+10,\n",
       "        -3.32019039e+09, -4.54648478e+09, -6.62792767e+09, -9.28562208e+09,\n",
       "        -1.07871438e+10, -1.08538865e+10, -1.08096427e+10, -1.19278790e+10,\n",
       "        -1.43775226e+10, -1.44226895e+10, -1.44558211e+10, -1.45325490e+10,\n",
       "        -1.81341525e+10, -1.80765234e+10, -1.80249814e+10, -1.80120085e+10,\n",
       "        -2.04487547e+10, -2.05600575e+10, -2.04978360e+10, -2.04979081e+10,\n",
       "        -3.60183113e+09, -4.55947118e+09, -6.78212278e+09, -9.56716323e+09,\n",
       "        -1.06796211e+10, -1.11125807e+10, -1.10409430e+10, -1.18941395e+10,\n",
       "        -1.43982011e+10, -1.43925753e+10, -1.43840649e+10, -1.45080706e+10,\n",
       "        -1.81232417e+10, -1.80272291e+10, -1.80894153e+10, -1.80792624e+10,\n",
       "        -2.04541300e+10, -2.03730974e+10, -2.04862995e+10, -2.04427498e+10]),\n",
       " 'mean_train_score': array([-2.34672197e+10, -2.33161947e+10, -2.33430171e+10, -2.33441308e+10,\n",
       "        -2.35865471e+10, -2.35658621e+10, -2.36083038e+10, -2.35734213e+10,\n",
       "        -2.37874687e+10, -2.37806169e+10, -2.37417485e+10, -2.38095364e+10,\n",
       "        -2.44373425e+10, -2.43720875e+10, -2.44801220e+10, -2.44303215e+10,\n",
       "        -2.49759757e+10, -2.50687600e+10, -2.51022111e+10, -2.50081397e+10,\n",
       "        -1.57305106e+10, -1.59814905e+10, -1.67906511e+10, -1.76749180e+10,\n",
       "        -1.80644184e+10, -1.80856043e+10, -1.80171097e+10, -1.82922254e+10,\n",
       "        -1.93250357e+10, -1.93806239e+10, -1.93084198e+10, -1.92022753e+10,\n",
       "        -2.12938321e+10, -2.12705779e+10, -2.12506678e+10, -2.12839781e+10,\n",
       "        -2.29847008e+10, -2.30617489e+10, -2.30658895e+10, -2.29543444e+10,\n",
       "        -1.02908524e+10, -1.09035116e+10, -1.25468855e+10, -1.39200320e+10,\n",
       "        -1.47093214e+10, -1.47430785e+10, -1.46949259e+10, -1.52908415e+10,\n",
       "        -1.66565898e+10, -1.69509332e+10, -1.69161406e+10, -1.69245302e+10,\n",
       "        -1.99713346e+10, -1.98925788e+10, -1.99883074e+10, -1.99221271e+10,\n",
       "        -2.25593484e+10, -2.25696276e+10, -2.25938521e+10, -2.24972479e+10,\n",
       "        -3.99123183e+09, -5.06619948e+09, -7.09785218e+09, -9.81015198e+09,\n",
       "        -1.15227087e+10, -1.15938115e+10, -1.16493814e+10, -1.25843485e+10,\n",
       "        -1.54303141e+10, -1.54119966e+10, -1.52594931e+10, -1.53128500e+10,\n",
       "        -1.95005051e+10, -1.96057358e+10, -1.96244839e+10, -1.95741561e+10,\n",
       "        -2.24743181e+10, -2.23940933e+10, -2.24192522e+10, -2.23391935e+10,\n",
       "        -3.66879024e+09, -4.71122341e+09, -7.08638277e+09, -9.60032931e+09,\n",
       "        -1.15169007e+10, -1.16159022e+10, -1.16386274e+10, -1.26632802e+10,\n",
       "        -1.52350102e+10, -1.54341410e+10, -1.54269050e+10, -1.55178570e+10,\n",
       "        -1.95060850e+10, -1.94973851e+10, -1.95316052e+10, -1.94579974e+10,\n",
       "        -2.24583138e+10, -2.24161157e+10, -2.24334953e+10, -2.24183112e+10,\n",
       "        -3.93763957e+09, -4.76518843e+09, -7.11160828e+09, -9.69085586e+09,\n",
       "        -1.15513988e+10, -1.16278710e+10, -1.15980780e+10, -1.26634126e+10,\n",
       "        -1.53548477e+10, -1.53129946e+10, -1.53287304e+10, -1.53229802e+10,\n",
       "        -1.95823754e+10, -1.95580464e+10, -1.94609686e+10, -1.95547545e+10,\n",
       "        -2.24057584e+10, -2.23062205e+10, -2.23972514e+10, -2.22929638e+10]),\n",
       " 'std_train_score': array([1.56717782e+09, 1.72847477e+09, 1.72867657e+09, 1.51690633e+09,\n",
       "        1.50065345e+09, 1.51769880e+09, 1.59895092e+09, 1.63985841e+09,\n",
       "        1.44732018e+09, 1.52636264e+09, 1.52233001e+09, 1.50158149e+09,\n",
       "        1.53961230e+09, 1.52023553e+09, 1.59607007e+09, 1.49326161e+09,\n",
       "        1.63569695e+09, 1.69036739e+09, 1.65725529e+09, 1.71094711e+09,\n",
       "        1.13770114e+09, 1.10757158e+09, 8.98028032e+08, 7.74339650e+08,\n",
       "        9.86281641e+08, 9.37106123e+08, 9.36025123e+08, 8.18929267e+08,\n",
       "        9.69900737e+08, 8.56949446e+08, 1.06132003e+09, 1.05590356e+09,\n",
       "        1.22436309e+09, 1.23280253e+09, 1.20741259e+09, 1.21661500e+09,\n",
       "        1.42493357e+09, 1.34889581e+09, 1.47492399e+09, 1.39202420e+09,\n",
       "        9.13622062e+08, 7.88245768e+08, 7.59332591e+08, 8.27451163e+08,\n",
       "        6.70846875e+08, 7.05342467e+08, 7.50248896e+08, 6.11686092e+08,\n",
       "        7.24931746e+08, 8.55348487e+08, 8.81693056e+08, 8.62809136e+08,\n",
       "        1.10453744e+09, 1.05302725e+09, 1.09220573e+09, 1.00235913e+09,\n",
       "        1.42841539e+09, 1.41932029e+09, 1.46691166e+09, 1.38094247e+09,\n",
       "        2.46322261e+08, 1.82292786e+08, 3.50241712e+08, 3.45527756e+08,\n",
       "        4.44495783e+08, 6.29102897e+08, 5.76110016e+08, 5.55976349e+08,\n",
       "        7.51372988e+08, 6.96260270e+08, 6.33242731e+08, 7.77467310e+08,\n",
       "        1.18003787e+09, 1.15882605e+09, 1.05181720e+09, 1.07241218e+09,\n",
       "        1.36213455e+09, 1.43690885e+09, 1.35665532e+09, 1.41995522e+09,\n",
       "        2.52427411e+08, 1.96191104e+08, 3.82234746e+08, 2.46891676e+08,\n",
       "        5.26537345e+08, 5.73151074e+08, 6.49619985e+08, 5.64247716e+08,\n",
       "        6.93327348e+08, 7.90637446e+08, 7.49534102e+08, 7.35337574e+08,\n",
       "        1.04830068e+09, 1.06263256e+09, 1.16338081e+09, 1.09238626e+09,\n",
       "        1.47236003e+09, 1.36455944e+09, 1.41557390e+09, 1.39129827e+09,\n",
       "        3.92565217e+08, 2.27890252e+08, 3.03592173e+08, 2.47532328e+08,\n",
       "        6.74639200e+08, 3.99812821e+08, 4.40016813e+08, 5.87381863e+08,\n",
       "        7.81614264e+08, 6.79639850e+08, 7.27170434e+08, 6.36515718e+08,\n",
       "        1.09999173e+09, 1.15072328e+09, 1.09330556e+09, 1.10816222e+09,\n",
       "        1.42964210e+09, 1.41498793e+09, 1.40999578e+09, 1.34298016e+09])}"
      ]
     },
     "execution_count": 139,
     "metadata": {},
     "output_type": "execute_result"
    }
   ],
   "source": [
    "model_gsv.cv_results_"
   ]
  },
  {
   "cell_type": "code",
   "execution_count": 140,
   "metadata": {},
   "outputs": [
    {
     "data": {
      "image/png": "[encoded data removed]",
      "text/plain": [
       "<Figure size 2000x500 with 3 Axes>"
      ]
     },
     "metadata": {},
     "output_type": "display_data"
    }
   ],
   "source": [
    "\n",
    "def plot_search_results(grid):\n",
    "    \"\"\"\n",
    "    Params: \n",
    "        grid: A trained GridSearchCV object.\n",
    "    \"\"\"\n",
    "    ## Results from grid search\n",
    "    results = grid.cv_results_\n",
    "    means_test = results['mean_test_score']\n",
    "    stds_test = results['std_test_score']\n",
    "    means_train = results['mean_train_score']\n",
    "    stds_train = results['std_train_score']\n",
    "    params = grid.param_grid\n",
    "    \n",
    "    ## Getting indexes of values per hyper-parameter\n",
    "    masks=[]\n",
    "    masks_names= list(grid.best_params_.keys())\n",
    "    for p_k, p_v in grid.best_params_.items():\n",
    "        masks.append(list(results['param_'+p_k].data==p_v))              \n",
    "    \n",
    "    params=grid.param_grid   \n",
    "    ## Ploting results\n",
    "    fig, ax = plt.subplots(1,len(params),sharex='none', sharey='all',figsize=(20,5))\n",
    "    fig.suptitle('Score per parameter')\n",
    "    fig.text(0.04, 0.5, 'MEAN SCORE', va='center', rotation='vertical')\n",
    "    \n",
    "    pram_preformace_in_best = {}                         \n",
    "\n",
    "    for i, p in enumerate(masks_names):\n",
    "        m = np.stack(masks[:i] + masks[i+1:])           \n",
    "        pram_preformace_in_best\n",
    "        best_parms_mask = m.all(axis=0)\n",
    "        best_index = np.where(best_parms_mask)[0]\n",
    "        \n",
    "        x = np.array(params[p])\n",
    "        y_1 = np.array(means_test[best_index])\n",
    "        e_1 = np.array(stds_test[best_index])\n",
    "        y_2 = np.array(means_train[best_index])\n",
    "        e_2 = np.array(stds_train[best_index])\n",
    "        \n",
    "        ax[i].errorbar(x, y_1, e_1, linestyle='--', marker='o', label='test')\n",
    "        ax[i].errorbar(x, y_2, e_2, linestyle='-', marker='^',label='train' )\n",
    "        \n",
    "        ax[i].set_xlabel(p.upper())\n",
    "\n",
    "    plt.legend()\n",
    "    plt.show()\n",
    "\n",
    "plot_search_results(model_gsv)"
   ]
  },
  {
   "cell_type": "code",
   "execution_count": 141,
   "metadata": {},
   "outputs": [
    {
     "data": {
      "text/html": [
       "<style>#sk-container-id-4 {color: black;}#sk-container-id-4 pre{padding: 0;}#sk-container-id-4 div.sk-toggleable {background-color: white;}#sk-container-id-4 label.sk-toggleable__label {cursor: pointer;display: block;width: 100%;margin-bottom: 0;padding: 0.3em;box-sizing: border-box;text-align: center;}#sk-container-id-4 label.sk-toggleable__label-arrow:before {content: \"▸\";float: left;margin-right: 0.25em;color: #696969;}#sk-container-id-4 label.sk-toggleable__label-arrow:hover:before {color: black;}#sk-container-id-4 div.sk-estimator:hover label.sk-toggleable__label-arrow:before {color: black;}#sk-container-id-4 div.sk-toggleable__content {max-height: 0;max-width: 0;overflow: hidden;text-align: left;background-color: #f0f8ff;}#sk-container-id-4 div.sk-toggleable__content pre {margin: 0.2em;color: black;border-radius: 0.25em;background-color: #f0f8ff;}#sk-container-id-4 input.sk-toggleable__control:checked~div.sk-toggleable__content {max-height: 200px;max-width: 100%;overflow: auto;}#sk-container-id-4 input.sk-toggleable__control:checked~label.sk-toggleable__label-arrow:before {content: \"▾\";}#sk-container-id-4 div.sk-estimator input.sk-toggleable__control:checked~label.sk-toggleable__label {background-color: #d4ebff;}#sk-container-id-4 div.sk-label input.sk-toggleable__control:checked~label.sk-toggleable__label {background-color: #d4ebff;}#sk-container-id-4 input.sk-hidden--visually {border: 0;clip: rect(1px 1px 1px 1px);clip: rect(1px, 1px, 1px, 1px);height: 1px;margin: -1px;overflow: hidden;padding: 0;position: absolute;width: 1px;}#sk-container-id-4 div.sk-estimator {font-family: monospace;background-color: #f0f8ff;border: 1px dotted black;border-radius: 0.25em;box-sizing: border-box;margin-bottom: 0.5em;}#sk-container-id-4 div.sk-estimator:hover {background-color: #d4ebff;}#sk-container-id-4 div.sk-parallel-item::after {content: \"\";width: 100%;border-bottom: 1px solid gray;flex-grow: 1;}#sk-container-id-4 div.sk-label:hover label.sk-toggleable__label {background-color: #d4ebff;}#sk-container-id-4 div.sk-serial::before {content: \"\";position: absolute;border-left: 1px solid gray;box-sizing: border-box;top: 0;bottom: 0;left: 50%;z-index: 0;}#sk-container-id-4 div.sk-serial {display: flex;flex-direction: column;align-items: center;background-color: white;padding-right: 0.2em;padding-left: 0.2em;position: relative;}#sk-container-id-4 div.sk-item {position: relative;z-index: 1;}#sk-container-id-4 div.sk-parallel {display: flex;align-items: stretch;justify-content: center;background-color: white;position: relative;}#sk-container-id-4 div.sk-item::before, #sk-container-id-4 div.sk-parallel-item::before {content: \"\";position: absolute;border-left: 1px solid gray;box-sizing: border-box;top: 0;bottom: 0;left: 50%;z-index: -1;}#sk-container-id-4 div.sk-parallel-item {display: flex;flex-direction: column;z-index: 1;position: relative;background-color: white;}#sk-container-id-4 div.sk-parallel-item:first-child::after {align-self: flex-end;width: 50%;}#sk-container-id-4 div.sk-parallel-item:last-child::after {align-self: flex-start;width: 50%;}#sk-container-id-4 div.sk-parallel-item:only-child::after {width: 0;}#sk-container-id-4 div.sk-dashed-wrapped {border: 1px dashed gray;margin: 0 0.4em 0.5em 0.4em;box-sizing: border-box;padding-bottom: 0.4em;background-color: white;}#sk-container-id-4 div.sk-label label {font-family: monospace;font-weight: bold;display: inline-block;line-height: 1.2em;}#sk-container-id-4 div.sk-label-container {text-align: center;}#sk-container-id-4 div.sk-container {/* jupyter's `normalize.less` sets `[hidden] { display: none; }` but bootstrap.min.css set `[hidden] { display: none !important; }` so we also need the `!important` here to be able to override the default hidden behavior on the sphinx rendered scikit-learn.org. See: https://github.com/scikit-learn/scikit-learn/issues/21755 */display: inline-block !important;position: relative;}#sk-container-id-4 div.sk-text-repr-fallback {display: none;}</style><div id=\"sk-container-id-4\" class=\"sk-top-container\"><div class=\"sk-text-repr-fallback\"><pre>Pipeline(steps=[(&#x27;tf&#x27;, &lt;__main__.Transformer object at 0x000001756E052C40&gt;),\n",
       "                (&#x27;columnDropper&#x27;,\n",
       "                 &lt;__main__.columnDropTransformer object at 0x000001756E052100&gt;),\n",
       "                (&#x27;ctf&#x27;,\n",
       "                 ColumnTransformer(remainder=&#x27;passthrough&#x27;,\n",
       "                                   transformers=[(&#x27;countencoder&#x27;,\n",
       "                                                  CountEncoder(combine_min_nan_groups=True),\n",
       "                                                  [&#x27;maker&#x27;]),\n",
       "                                                 (&#x27;ordinalencoder&#x27;,\n",
       "                                                  OrdinalEncoder(categories=[[&#x27;unrated&#x27;,\n",
       "                                                                              &#x27;basic&#x27;,\n",
       "                                                                              &#x27;intermediate&#x27;,\n",
       "                                                                              &#x27;advanced&#x27;,\n",
       "                                                                              &#x27;super &#x27;\n",
       "                                                                              &#x27;advanced&#x27;]]),\n",
       "                                                  [&#x27;product_level&#x27;]),\n",
       "                                                 (&#x27;onehotencoder&#x27;,\n",
       "                                                  OneHotEncoder(handle_unknown=&#x27;ignore&#x27;),\n",
       "                                                  [&#x27;product_type&#x27;]),\n",
       "                                                 (&#x27;tfidfvectorizer&#x27;,\n",
       "                                                  TfidfVectorizer(max_features=10),\n",
       "                                                  &#x27;ingredient&#x27;)])),\n",
       "                (&#x27;rf&#x27;,\n",
       "                 RandomForestRegressor(max_depth=6, min_samples_leaf=10,\n",
       "                                       min_samples_split=5, n_estimators=50,\n",
       "                                       n_jobs=-1))])</pre><b>In a Jupyter environment, please rerun this cell to show the HTML representation or trust the notebook. <br />On GitHub, the HTML representation is unable to render, please try loading this page with nbviewer.org.</b></div><div class=\"sk-container\" hidden><div class=\"sk-item sk-dashed-wrapped\"><div class=\"sk-label-container\"><div class=\"sk-label sk-toggleable\"><input class=\"sk-toggleable__control sk-hidden--visually\" id=\"sk-estimator-id-38\" type=\"checkbox\" ><label for=\"sk-estimator-id-38\" class=\"sk-toggleable__label sk-toggleable__label-arrow\">Pipeline</label><div class=\"sk-toggleable__content\"><pre>Pipeline(steps=[(&#x27;tf&#x27;, &lt;__main__.Transformer object at 0x000001756E052C40&gt;),\n",
       "                (&#x27;columnDropper&#x27;,\n",
       "                 &lt;__main__.columnDropTransformer object at 0x000001756E052100&gt;),\n",
       "                (&#x27;ctf&#x27;,\n",
       "                 ColumnTransformer(remainder=&#x27;passthrough&#x27;,\n",
       "                                   transformers=[(&#x27;countencoder&#x27;,\n",
       "                                                  CountEncoder(combine_min_nan_groups=True),\n",
       "                                                  [&#x27;maker&#x27;]),\n",
       "                                                 (&#x27;ordinalencoder&#x27;,\n",
       "                                                  OrdinalEncoder(categories=[[&#x27;unrated&#x27;,\n",
       "                                                                              &#x27;basic&#x27;,\n",
       "                                                                              &#x27;intermediate&#x27;,\n",
       "                                                                              &#x27;advanced&#x27;,\n",
       "                                                                              &#x27;super &#x27;\n",
       "                                                                              &#x27;advanced&#x27;]]),\n",
       "                                                  [&#x27;product_level&#x27;]),\n",
       "                                                 (&#x27;onehotencoder&#x27;,\n",
       "                                                  OneHotEncoder(handle_unknown=&#x27;ignore&#x27;),\n",
       "                                                  [&#x27;product_type&#x27;]),\n",
       "                                                 (&#x27;tfidfvectorizer&#x27;,\n",
       "                                                  TfidfVectorizer(max_features=10),\n",
       "                                                  &#x27;ingredient&#x27;)])),\n",
       "                (&#x27;rf&#x27;,\n",
       "                 RandomForestRegressor(max_depth=6, min_samples_leaf=10,\n",
       "                                       min_samples_split=5, n_estimators=50,\n",
       "                                       n_jobs=-1))])</pre></div></div></div><div class=\"sk-serial\"><div class=\"sk-item\"><div class=\"sk-estimator sk-toggleable\"><input class=\"sk-toggleable__control sk-hidden--visually\" id=\"sk-estimator-id-39\" type=\"checkbox\" ><label for=\"sk-estimator-id-39\" class=\"sk-toggleable__label sk-toggleable__label-arrow\">Transformer</label><div class=\"sk-toggleable__content\"><pre>&lt;__main__.Transformer object at 0x000001756E052C40&gt;</pre></div></div></div><div class=\"sk-item\"><div class=\"sk-estimator sk-toggleable\"><input class=\"sk-toggleable__control sk-hidden--visually\" id=\"sk-estimator-id-40\" type=\"checkbox\" ><label for=\"sk-estimator-id-40\" class=\"sk-toggleable__label sk-toggleable__label-arrow\">columnDropTransformer</label><div class=\"sk-toggleable__content\"><pre>&lt;__main__.columnDropTransformer object at 0x000001756E052100&gt;</pre></div></div></div><div class=\"sk-item sk-dashed-wrapped\"><div class=\"sk-label-container\"><div class=\"sk-label sk-toggleable\"><input class=\"sk-toggleable__control sk-hidden--visually\" id=\"sk-estimator-id-41\" type=\"checkbox\" ><label for=\"sk-estimator-id-41\" class=\"sk-toggleable__label sk-toggleable__label-arrow\">ctf: ColumnTransformer</label><div class=\"sk-toggleable__content\"><pre>ColumnTransformer(remainder=&#x27;passthrough&#x27;,\n",
       "                  transformers=[(&#x27;countencoder&#x27;,\n",
       "                                 CountEncoder(combine_min_nan_groups=True),\n",
       "                                 [&#x27;maker&#x27;]),\n",
       "                                (&#x27;ordinalencoder&#x27;,\n",
       "                                 OrdinalEncoder(categories=[[&#x27;unrated&#x27;, &#x27;basic&#x27;,\n",
       "                                                             &#x27;intermediate&#x27;,\n",
       "                                                             &#x27;advanced&#x27;,\n",
       "                                                             &#x27;super &#x27;\n",
       "                                                             &#x27;advanced&#x27;]]),\n",
       "                                 [&#x27;product_level&#x27;]),\n",
       "                                (&#x27;onehotencoder&#x27;,\n",
       "                                 OneHotEncoder(handle_unknown=&#x27;ignore&#x27;),\n",
       "                                 [&#x27;product_type&#x27;]),\n",
       "                                (&#x27;tfidfvectorizer&#x27;,\n",
       "                                 TfidfVectorizer(max_features=10),\n",
       "                                 &#x27;ingredient&#x27;)])</pre></div></div></div><div class=\"sk-parallel\"><div class=\"sk-parallel-item\"><div class=\"sk-item\"><div class=\"sk-label-container\"><div class=\"sk-label sk-toggleable\"><input class=\"sk-toggleable__control sk-hidden--visually\" id=\"sk-estimator-id-42\" type=\"checkbox\" ><label for=\"sk-estimator-id-42\" class=\"sk-toggleable__label sk-toggleable__label-arrow\">countencoder</label><div class=\"sk-toggleable__content\"><pre>[&#x27;maker&#x27;]</pre></div></div></div><div class=\"sk-serial\"><div class=\"sk-item\"><div class=\"sk-estimator sk-toggleable\"><input class=\"sk-toggleable__control sk-hidden--visually\" id=\"sk-estimator-id-43\" type=\"checkbox\" ><label for=\"sk-estimator-id-43\" class=\"sk-toggleable__label sk-toggleable__label-arrow\">CountEncoder</label><div class=\"sk-toggleable__content\"><pre>CountEncoder(combine_min_nan_groups=True)</pre></div></div></div></div></div></div><div class=\"sk-parallel-item\"><div class=\"sk-item\"><div class=\"sk-label-container\"><div class=\"sk-label sk-toggleable\"><input class=\"sk-toggleable__control sk-hidden--visually\" id=\"sk-estimator-id-44\" type=\"checkbox\" ><label for=\"sk-estimator-id-44\" class=\"sk-toggleable__label sk-toggleable__label-arrow\">ordinalencoder</label><div class=\"sk-toggleable__content\"><pre>[&#x27;product_level&#x27;]</pre></div></div></div><div class=\"sk-serial\"><div class=\"sk-item\"><div class=\"sk-estimator sk-toggleable\"><input class=\"sk-toggleable__control sk-hidden--visually\" id=\"sk-estimator-id-45\" type=\"checkbox\" ><label for=\"sk-estimator-id-45\" class=\"sk-toggleable__label sk-toggleable__label-arrow\">OrdinalEncoder</label><div class=\"sk-toggleable__content\"><pre>OrdinalEncoder(categories=[[&#x27;unrated&#x27;, &#x27;basic&#x27;, &#x27;intermediate&#x27;, &#x27;advanced&#x27;,\n",
       "                            &#x27;super advanced&#x27;]])</pre></div></div></div></div></div></div><div class=\"sk-parallel-item\"><div class=\"sk-item\"><div class=\"sk-label-container\"><div class=\"sk-label sk-toggleable\"><input class=\"sk-toggleable__control sk-hidden--visually\" id=\"sk-estimator-id-46\" type=\"checkbox\" ><label for=\"sk-estimator-id-46\" class=\"sk-toggleable__label sk-toggleable__label-arrow\">onehotencoder</label><div class=\"sk-toggleable__content\"><pre>[&#x27;product_type&#x27;]</pre></div></div></div><div class=\"sk-serial\"><div class=\"sk-item\"><div class=\"sk-estimator sk-toggleable\"><input class=\"sk-toggleable__control sk-hidden--visually\" id=\"sk-estimator-id-47\" type=\"checkbox\" ><label for=\"sk-estimator-id-47\" class=\"sk-toggleable__label sk-toggleable__label-arrow\">OneHotEncoder</label><div class=\"sk-toggleable__content\"><pre>OneHotEncoder(handle_unknown=&#x27;ignore&#x27;)</pre></div></div></div></div></div></div><div class=\"sk-parallel-item\"><div class=\"sk-item\"><div class=\"sk-label-container\"><div class=\"sk-label sk-toggleable\"><input class=\"sk-toggleable__control sk-hidden--visually\" id=\"sk-estimator-id-48\" type=\"checkbox\" ><label for=\"sk-estimator-id-48\" class=\"sk-toggleable__label sk-toggleable__label-arrow\">tfidfvectorizer</label><div class=\"sk-toggleable__content\"><pre>ingredient</pre></div></div></div><div class=\"sk-serial\"><div class=\"sk-item\"><div class=\"sk-estimator sk-toggleable\"><input class=\"sk-toggleable__control sk-hidden--visually\" id=\"sk-estimator-id-49\" type=\"checkbox\" ><label for=\"sk-estimator-id-49\" class=\"sk-toggleable__label sk-toggleable__label-arrow\">TfidfVectorizer</label><div class=\"sk-toggleable__content\"><pre>TfidfVectorizer(max_features=10)</pre></div></div></div></div></div></div><div class=\"sk-parallel-item\"><div class=\"sk-item\"><div class=\"sk-label-container\"><div class=\"sk-label sk-toggleable\"><input class=\"sk-toggleable__control sk-hidden--visually\" id=\"sk-estimator-id-50\" type=\"checkbox\" ><label for=\"sk-estimator-id-50\" class=\"sk-toggleable__label sk-toggleable__label-arrow\">remainder</label><div class=\"sk-toggleable__content\"><pre>[&#x27;cost&#x27;, &#x27;weight&#x27;]</pre></div></div></div><div class=\"sk-serial\"><div class=\"sk-item\"><div class=\"sk-estimator sk-toggleable\"><input class=\"sk-toggleable__control sk-hidden--visually\" id=\"sk-estimator-id-51\" type=\"checkbox\" ><label for=\"sk-estimator-id-51\" class=\"sk-toggleable__label sk-toggleable__label-arrow\">passthrough</label><div class=\"sk-toggleable__content\"><pre>passthrough</pre></div></div></div></div></div></div></div></div><div class=\"sk-item\"><div class=\"sk-estimator sk-toggleable\"><input class=\"sk-toggleable__control sk-hidden--visually\" id=\"sk-estimator-id-52\" type=\"checkbox\" ><label for=\"sk-estimator-id-52\" class=\"sk-toggleable__label sk-toggleable__label-arrow\">RandomForestRegressor</label><div class=\"sk-toggleable__content\"><pre>RandomForestRegressor(max_depth=6, min_samples_leaf=10, min_samples_split=5,\n",
       "                      n_estimators=50, n_jobs=-1)</pre></div></div></div></div></div></div></div>"
      ],
      "text/plain": [
       "Pipeline(steps=[('tf', <__main__.Transformer object at 0x000001756E052C40>),\n",
       "                ('columnDropper',\n",
       "                 <__main__.columnDropTransformer object at 0x000001756E052100>),\n",
       "                ('ctf',\n",
       "                 ColumnTransformer(remainder='passthrough',\n",
       "                                   transformers=[('countencoder',\n",
       "                                                  CountEncoder(combine_min_nan_groups=True),\n",
       "                                                  ['maker']),\n",
       "                                                 ('ordinalencoder',\n",
       "                                                  OrdinalEncoder(categories=[['unrated',\n",
       "                                                                              'basic',\n",
       "                                                                              'intermediate',\n",
       "                                                                              'advanced',\n",
       "                                                                              'super '\n",
       "                                                                              'advanced']]),\n",
       "                                                  ['product_level']),\n",
       "                                                 ('onehotencoder',\n",
       "                                                  OneHotEncoder(handle_unknown='ignore'),\n",
       "                                                  ['product_type']),\n",
       "                                                 ('tfidfvectorizer',\n",
       "                                                  TfidfVectorizer(max_features=10),\n",
       "                                                  'ingredient')])),\n",
       "                ('rf',\n",
       "                 RandomForestRegressor(max_depth=6, min_samples_leaf=10,\n",
       "                                       min_samples_split=5, n_estimators=50,\n",
       "                                       n_jobs=-1))])"
      ]
     },
     "execution_count": 141,
     "metadata": {},
     "output_type": "execute_result"
    }
   ],
   "source": [
    "model_gsv.best_estimator_"
   ]
  },
  {
   "cell_type": "code",
   "execution_count": 142,
   "metadata": {},
   "outputs": [
    {
     "name": "stdout",
     "output_type": "stream",
     "text": [
      "train MAE: 9.43e+04\n",
      "train MSE: 2.16e+10\n",
      "train R2: 0.494\n"
     ]
    }
   ],
   "source": [
    "y_train_pred = model_gsv.predict(X_train)\n",
    "print('train MAE: {0:.2e}'.format(mean_absolute_error(y_train, y_train_pred)))\n",
    "print('train MSE: {0:.2e}'.format(mean_squared_error(y_train, y_train_pred)))\n",
    "print('train R2: {0:.3f}'.format(r2_score(y_train, y_train_pred)))"
   ]
  },
  {
   "cell_type": "code",
   "execution_count": 143,
   "metadata": {},
   "outputs": [
    {
     "name": "stdout",
     "output_type": "stream",
     "text": [
      "test MAE: 1.22e+05\n",
      "test MSE: 5.05e+10\n",
      "test R2: 0.416\n"
     ]
    }
   ],
   "source": [
    "y_test_pred = model_gsv.predict(X_test)\n",
    "print('test MAE: {0:.2e}'.format(mean_absolute_error(y_test, y_test_pred)))\n",
    "print('test MSE: {0:.2e}'.format(mean_squared_error(y_test, y_test_pred)))\n",
    "print('test R2: {0:.3f}'.format(r2_score(y_test, y_test_pred)))"
   ]
  },
  {
   "cell_type": "markdown",
   "metadata": {},
   "source": [
    "# Xgboost"
   ]
  },
  {
   "cell_type": "code",
   "execution_count": 145,
   "metadata": {},
   "outputs": [],
   "source": [
    "# Xgboost model \n",
    "pipeline = build_ml_pipeline(XGBRegressor())\n",
    "model=pipeline.fit(X_train, y_train)"
   ]
  },
  {
   "cell_type": "code",
   "execution_count": 146,
   "metadata": {},
   "outputs": [],
   "source": [
    "y_train_pred = model.predict(X_train)\n",
    "y_test_pred=model.predict(X_test)"
   ]
  },
  {
   "cell_type": "code",
   "execution_count": 147,
   "metadata": {},
   "outputs": [
    {
     "name": "stdout",
     "output_type": "stream",
     "text": [
      "train MAE: 4.54e+04\n",
      "train MSE: 4.25e+09\n",
      "train R2: 0.900\n"
     ]
    }
   ],
   "source": [
    "print('train MAE: {0:.2e}'.format(mean_absolute_error(y_train, y_train_pred)))\n",
    "print('train MSE: {0:.2e}'.format(mean_squared_error(y_train, y_train_pred)))\n",
    "print('train R2: {0:.3f}'.format(r2_score(y_train, y_train_pred)))"
   ]
  },
  {
   "cell_type": "code",
   "execution_count": 148,
   "metadata": {},
   "outputs": [
    {
     "name": "stdout",
     "output_type": "stream",
     "text": [
      "test MAE: 1.27e+05\n",
      "test MSE: 5.51e+10\n",
      "test R2: 0.362\n"
     ]
    }
   ],
   "source": [
    "print('test MAE: {0:.2e}'.format(mean_absolute_error(y_test, y_test_pred)))\n",
    "print('test MSE: {0:.2e}'.format(mean_squared_error(y_test, y_test_pred)))\n",
    "print('test R2: {0:.3f}'.format(r2_score(y_test, y_test_pred)))"
   ]
  },
  {
   "cell_type": "markdown",
   "metadata": {},
   "source": [
    "model performance (MAE, MSE and R2) in train set much better than test set, indicating overfitting."
   ]
  },
  {
   "cell_type": "code",
   "execution_count": 150,
   "metadata": {},
   "outputs": [],
   "source": [
    "parameters = {\n",
    "    'xgb__max_depth': [3, 6, 9, 20, 50, 100], #default is None, which means infinity\n",
    "    'xgb__min_samples_leaf': [1, 3, 5, 10, 20],\n",
    "    'xgb__min_samples_split': [2, 3, 5, 8]\n",
    "}"
   ]
  },
  {
   "cell_type": "code",
   "execution_count": 151,
   "metadata": {},
   "outputs": [],
   "source": [
    "scorer = make_scorer(mean_squared_error, greater_is_better = False)"
   ]
  },
  {
   "cell_type": "code",
   "execution_count": 152,
   "metadata": {},
   "outputs": [],
   "source": [
    "steps = [\n",
    "    ('tf', Transformer()),\n",
    "    (\"columnDropper\", columnDropTransformer(['height','width', 'depth'])),\n",
    "    ('ctf',cat_transformer),\n",
    "    ('xgb', XGBRegressor(n_estimators=50,n_jobs=-1)),\n",
    "]\n",
    "xgb_model = Pipeline(steps)"
   ]
  },
  {
   "cell_type": "code",
   "execution_count": 153,
   "metadata": {},
   "outputs": [],
   "source": [
    "xgb_model_gsv = GridSearchCV(xgb_model,\n",
    "                         parameters,\n",
    "                         cv = 3,\n",
    "                         scoring = scorer,\n",
    "                         n_jobs=-1,\n",
    "                         return_train_score=True)"
   ]
  },
  {
   "cell_type": "code",
   "execution_count": 154,
   "metadata": {},
   "outputs": [
    {
     "name": "stdout",
     "output_type": "stream",
     "text": [
      "[00:29:16] WARNING: C:\\buildkite-agent\\builds\\buildkite-windows-cpu-autoscaling-group-i-07593ffd91cd9da33-1\\xgboost\\xgboost-ci-windows\\src\\learner.cc:767: \n",
      "Parameters: { \"min_samples_leaf\", \"min_samples_split\" } are not used.\n",
      "\n"
     ]
    }
   ],
   "source": [
    "xgb_model_gsv = xgb_model_gsv.fit(X_train, y_train)"
   ]
  },
  {
   "cell_type": "code",
   "execution_count": 155,
   "metadata": {},
   "outputs": [
    {
     "name": "stdout",
     "output_type": "stream",
     "text": [
      "train MAE: 8.43e+04\n",
      "train MSE: 1.60e+10\n",
      "train R2: 0.624\n"
     ]
    }
   ],
   "source": [
    "y_train_pred = xgb_model_gsv.predict(X_train)\n",
    "print('train MAE: {0:.2e}'.format(mean_absolute_error(y_train, y_train_pred)))\n",
    "print('train MSE: {0:.2e}'.format(mean_squared_error(y_train, y_train_pred)))\n",
    "print('train R2: {0:.3f}'.format(r2_score(y_train, y_train_pred)))"
   ]
  },
  {
   "cell_type": "code",
   "execution_count": 156,
   "metadata": {},
   "outputs": [
    {
     "name": "stdout",
     "output_type": "stream",
     "text": [
      "test MAE: 1.22e+05\n",
      "test MSE: 5.05e+10\n",
      "test R2: 0.416\n"
     ]
    }
   ],
   "source": [
    "y_test_pred = model_gsv.predict(X_test)\n",
    "print('test MAE: {0:.2e}'.format(mean_absolute_error(y_test, y_test_pred)))\n",
    "print('test MSE: {0:.2e}'.format(mean_squared_error(y_test, y_test_pred)))\n",
    "print('test R2: {0:.3f}'.format(r2_score(y_test, y_test_pred)))"
   ]
  }
 ],
 "metadata": {
  "kernelspec": {
   "display_name": "Python 3 (ipykernel)",
   "language": "python",
   "name": "python3"
  },
  "language_info": {
   "codemirror_mode": {
    "name": "ipython",
    "version": 3
   },
   "file_extension": ".py",
   "mimetype": "text/x-python",
   "name": "python",
   "nbconvert_exporter": "python",
   "pygments_lexer": "ipython3",
   "version": "3.9.18"
  }
 },
 "nbformat": 4,
 "nbformat_minor": 4
}
